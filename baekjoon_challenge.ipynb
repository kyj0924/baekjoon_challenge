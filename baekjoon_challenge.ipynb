{
 "cells": [
  {
   "cell_type": "code",
   "execution_count": 83,
   "metadata": {},
   "outputs": [
    {
     "name": "stdout",
     "output_type": "stream",
     "text": [
      "\\    /\\\n",
      " )  ( ')\n",
      "(  /  )\n",
      " \\(__)|\n"
     ]
    }
   ],
   "source": [
    "print('''\\\\    /\\\\\n",
    " )  ( \\')\n",
    "(  /  )\n",
    " \\\\(__)|''')"
   ]
  },
  {
   "cell_type": "code",
   "execution_count": 84,
   "metadata": {},
   "outputs": [
    {
     "name": "stdout",
     "output_type": "stream",
     "text": [
      "|\\_/|\n",
      "|q p|   /}\n",
      "( 0 )\"\"\"\\\n",
      "|\"^\"`    |\n",
      "||_/=\\\\__|\n"
     ]
    }
   ],
   "source": [
    "print('''|\\\\_/|\n",
    "|q p|   /}\n",
    "( 0 )\"\"\"\\\\\n",
    "|\"^\"`    |\n",
    "||_/=\\\\\\\\__|''')"
   ]
  },
  {
   "cell_type": "code",
   "execution_count": 85,
   "metadata": {},
   "outputs": [
    {
     "name": "stdout",
     "output_type": "stream",
     "text": [
      "         ,r'\"7\n",
      "r`-_   ,'  ,/\n",
      " \\. \". L_r'\n",
      "   `~\\/\n",
      "      |\n",
      "      |\n"
     ]
    }
   ],
   "source": [
    "print('''         ,r\\'\"7\n",
    "r`-_   ,\\'  ,/\n",
    " \\\\. \". L_r'\n",
    "   `~\\\\/\n",
    "      |\n",
    "      |''')"
   ]
  },
  {
   "cell_type": "code",
   "execution_count": 86,
   "metadata": {},
   "outputs": [],
   "source": [
    "A, B = input().split(' ')\n",
    "print(int(A)+int(B))"
   ]
  },
  {
   "cell_type": "code",
   "execution_count": null,
   "metadata": {},
   "outputs": [
    {
     "name": "stdout",
     "output_type": "stream",
     "text": [
      "1\n"
     ]
    }
   ],
   "source": [
    "A, B = map(int, input().split())\n",
    "print(A-B)"
   ]
  },
  {
   "cell_type": "code",
   "execution_count": null,
   "metadata": {},
   "outputs": [
    {
     "data": {
      "text/plain": [
       "1.0"
      ]
     },
     "execution_count": 39,
     "metadata": {},
     "output_type": "execute_result"
    }
   ],
   "source": [
    "float(\"1\")"
   ]
  },
  {
   "cell_type": "code",
   "execution_count": null,
   "metadata": {},
   "outputs": [
    {
     "name": "stdout",
     "output_type": "stream",
     "text": [
      "10\n",
      "4\n",
      "21\n",
      "2\n",
      "1\n"
     ]
    }
   ],
   "source": [
    "A, B = map(int, input().split())\n",
    "print(A+B)\n",
    "print(A-B)\n",
    "print(A*B)\n",
    "print(A//B)\n",
    "print(A%B)"
   ]
  },
  {
   "cell_type": "code",
   "execution_count": null,
   "metadata": {},
   "outputs": [
    {
     "name": "stdout",
     "output_type": "stream",
     "text": [
      "7931\n"
     ]
    }
   ],
   "source": [
    "A, B, C = map(int, input().split())\n",
    "print(A+B+C)"
   ]
  },
  {
   "cell_type": "code",
   "execution_count": null,
   "metadata": {},
   "outputs": [
    {
     "name": "stdout",
     "output_type": "stream",
     "text": [
      "<\n"
     ]
    }
   ],
   "source": [
    "A, B = map(int, input().split())\n",
    "if A > B:\n",
    "    print(\">\")\n",
    "elif A < B:\n",
    "    print(\"<\")\n",
    "else:\n",
    "    print(\"==\")"
   ]
  },
  {
   "cell_type": "code",
   "execution_count": null,
   "metadata": {},
   "outputs": [
    {
     "name": "stdout",
     "output_type": "stream",
     "text": [
      "C\n"
     ]
    }
   ],
   "source": [
    "score = int(input())\n",
    "if score >= 90 and score <= 100:\n",
    "    print(\"A\")\n",
    "elif score >= 80 and score < 90:\n",
    "    print(\"B\")\n",
    "elif score >= 70 and score < 80:\n",
    "    print(\"C\")\n",
    "elif score >= 60 and score < 70:\n",
    "    print(\"D\")\n",
    "else:\n",
    "    print(\"F\")"
   ]
  },
  {
   "cell_type": "code",
   "execution_count": null,
   "metadata": {},
   "outputs": [
    {
     "name": "stdout",
     "output_type": "stream",
     "text": [
      "4\n"
     ]
    }
   ],
   "source": [
    "x = int(input())\n",
    "y = int(input())\n",
    "if x > 0 and y > 0:\n",
    "    print(\"1\")\n",
    "elif x < 0 and y > 0:\n",
    "    print(\"2\")\n",
    "elif x < 0 and y < 0:\n",
    "    print(\"3\")\n",
    "else:\n",
    "    print(\"4\")"
   ]
  },
  {
   "cell_type": "code",
   "execution_count": null,
   "metadata": {},
   "outputs": [
    {
     "name": "stdout",
     "output_type": "stream",
     "text": [
      "1\n"
     ]
    }
   ],
   "source": [
    "year = int(input())\n",
    "if ((year % 4 == 0 and year % 100 != 0) or year % 400 == 0):\n",
    "    print(\"1\")\n",
    "else:\n",
    "    print(\"0\")"
   ]
  },
  {
   "cell_type": "code",
   "execution_count": null,
   "metadata": {},
   "outputs": [
    {
     "name": "stdout",
     "output_type": "stream",
     "text": [
      "7\n"
     ]
    }
   ],
   "source": [
    "N, M = map(int, input().split())\n",
    "if N-M < 0:\n",
    "    print(M-N)\n",
    "else:\n",
    "    print(N-M)\n"
   ]
  },
  {
   "cell_type": "code",
   "execution_count": null,
   "metadata": {},
   "outputs": [
    {
     "name": "stdout",
     "output_type": "stream",
     "text": [
      "1\n",
      "2\n",
      "3\n",
      "4\n",
      "5\n",
      "6\n",
      "7\n",
      "8\n",
      "9\n",
      "10\n",
      "11\n",
      "12\n",
      "13\n",
      "14\n",
      "15\n",
      "16\n",
      "17\n",
      "18\n",
      "19\n",
      "20\n",
      "21\n",
      "22\n",
      "23\n",
      "24\n",
      "25\n",
      "26\n",
      "27\n",
      "28\n",
      "29\n",
      "30\n",
      "31\n",
      "32\n",
      "33\n",
      "34\n",
      "35\n",
      "36\n",
      "37\n",
      "38\n",
      "39\n",
      "40\n",
      "41\n",
      "42\n",
      "43\n",
      "44\n",
      "45\n",
      "46\n",
      "47\n",
      "48\n",
      "49\n",
      "50\n",
      "51\n",
      "52\n",
      "53\n",
      "54\n",
      "55\n",
      "56\n",
      "57\n",
      "58\n",
      "59\n",
      "60\n",
      "61\n",
      "62\n",
      "63\n",
      "64\n",
      "65\n",
      "66\n",
      "67\n",
      "68\n",
      "69\n",
      "70\n",
      "71\n",
      "72\n",
      "73\n",
      "74\n",
      "75\n",
      "76\n",
      "77\n",
      "78\n",
      "79\n",
      "80\n",
      "81\n",
      "82\n",
      "83\n",
      "84\n",
      "85\n",
      "86\n",
      "87\n",
      "88\n",
      "89\n",
      "90\n",
      "91\n",
      "92\n",
      "93\n",
      "94\n",
      "95\n",
      "96\n",
      "97\n",
      "98\n",
      "99\n",
      "100\n"
     ]
    }
   ],
   "source": [
    "N = int(input())\n",
    "for i in range(1, N+1, 1):\n",
    "    print(i)"
   ]
  },
  {
   "cell_type": "code",
   "execution_count": null,
   "metadata": {},
   "outputs": [
    {
     "name": "stdout",
     "output_type": "stream",
     "text": [
      "120\n"
     ]
    }
   ],
   "source": [
    "N = int(input())\n",
    "factorial = 1\n",
    "for i in range(1, N+1, 1):\n",
    "    factorial *= i \n",
    "print(\"%d\" % factorial)"
   ]
  },
  {
   "cell_type": "code",
   "execution_count": null,
   "metadata": {},
   "outputs": [
    {
     "name": "stdout",
     "output_type": "stream",
     "text": [
      "2\n",
      "5\n",
      "7\n",
      "17\n",
      "7\n"
     ]
    }
   ],
   "source": [
    "Testcase = int(input())\n",
    "for i in range(0, Testcase, 1):\n",
    "    A, B = map(int, input().split())\n",
    "    print(A+B)"
   ]
  },
  {
   "cell_type": "code",
   "execution_count": null,
   "metadata": {},
   "outputs": [
    {
     "name": "stdout",
     "output_type": "stream",
     "text": [
      "2\n",
      "5\n",
      "7\n",
      "17\n",
      "7\n"
     ]
    }
   ],
   "source": [
    "A, B = map(int, input().split())\n",
    "while A + B:\n",
    "    print(A + B)\n",
    "    A, B = map(int, input().split())"
   ]
  },
  {
   "cell_type": "code",
   "execution_count": null,
   "metadata": {},
   "outputs": [
    {
     "name": "stdout",
     "output_type": "stream",
     "text": [
      "5 * 1 = 5\n",
      "5 * 2 = 10\n",
      "5 * 3 = 15\n",
      "5 * 4 = 20\n",
      "5 * 5 = 25\n",
      "5 * 6 = 30\n",
      "5 * 7 = 35\n",
      "5 * 8 = 40\n",
      "5 * 9 = 45\n"
     ]
    }
   ],
   "source": [
    "N = int(input())\n",
    "for i in range(1, 10, 1):\n",
    "    print(\"%d * %d = %d\" % (N, i, N*i))"
   ]
  },
  {
   "cell_type": "code",
   "execution_count": null,
   "metadata": {},
   "outputs": [
    {
     "name": "stdout",
     "output_type": "stream",
     "text": [
      "*\n",
      "**\n",
      "***\n",
      "****\n",
      "*****\n"
     ]
    }
   ],
   "source": [
    "N = int(input())\n",
    "for i in range(1, N+1, 1):\n",
    "    print(\"*\"*i)"
   ]
  },
  {
   "cell_type": "code",
   "execution_count": null,
   "metadata": {},
   "outputs": [
    {
     "name": "stdout",
     "output_type": "stream",
     "text": [
      "2\n",
      "4\n",
      "7\n",
      "17\n",
      "7\n"
     ]
    }
   ],
   "source": [
    "while True:\n",
    "    try:\n",
    "        A, B = map(int, input().split())\n",
    "        print(A + B)\n",
    "    except EOFError:\n",
    "        break"
   ]
  },
  {
   "cell_type": "code",
   "execution_count": null,
   "metadata": {},
   "outputs": [],
   "source": [
    "import sys\n",
    "T = int(input())\n",
    "for i in range(0, T, 1):\n",
    "    A, B = map(int, sys.stdin.readline().split())\n",
    "    print(A + B)"
   ]
  },
  {
   "cell_type": "code",
   "execution_count": null,
   "metadata": {},
   "outputs": [
    {
     "name": "stdout",
     "output_type": "stream",
     "text": [
      "1\n",
      "4\n",
      "2\n",
      "3\n"
     ]
    }
   ],
   "source": [
    "# X보다 작은 A[i]값을 출력하는데는 성공했지만 한줄에 나열하지는 못했다.\n",
    "# 그래서 바로 밑 블록에서 해결책을 강구했다.\n",
    "N, X = map(int, input().split())\n",
    "A = list(map(int, input().split()))\n",
    "for i in range(0, N, 1):\n",
    "    if A[i] < X:\n",
    "        print(A[i])\n",
    "    else:\n",
    "        continue"
   ]
  },
  {
   "cell_type": "code",
   "execution_count": null,
   "metadata": {},
   "outputs": [
    {
     "name": "stdout",
     "output_type": "stream",
     "text": [
      "1 4 2 3\n"
     ]
    }
   ],
   "source": [
    "# for문에서 A[i]값을 바로 출력해서 발생한 문제라고 판단\n",
    "# print 함수를 for문 밖으로 빼고 for문에서 A[i]값을 저장할 변수를 만들었다.\n",
    "# A[i]값이 X보다 작으면 A[i]값을 새로운 리스트 B에 append하는 것을 반복한다.\n",
    "# for문이 끝난 후 리스트 B의 원소를 모두 출력하기 위해 print(*B)를 사용한다.\n",
    "N, X = map(int, input().split())\n",
    "A = list(map(int, input().split()))\n",
    "B = []\n",
    "for i in range(0, N, 1):\n",
    "    if A[i] < X:\n",
    "        B.append(A[i])\n",
    "    else:\n",
    "        continue\n",
    "print(*B)"
   ]
  },
  {
   "cell_type": "code",
   "execution_count": null,
   "metadata": {},
   "outputs": [
    {
     "name": "stdout",
     "output_type": "stream",
     "text": [
      "['1', '2', '3', '4']\n"
     ]
    }
   ],
   "source": [
    "A = input().split()\n",
    "print(A)"
   ]
  },
  {
   "cell_type": "code",
   "execution_count": null,
   "metadata": {},
   "outputs": [
    {
     "name": "stdout",
     "output_type": "stream",
     "text": [
      "[1, 2, 3, 4]\n"
     ]
    }
   ],
   "source": [
    "A = list(map(int, input().split()))\n",
    "print(A)"
   ]
  },
  {
   "cell_type": "code",
   "execution_count": null,
   "metadata": {},
   "outputs": [
    {
     "name": "stdout",
     "output_type": "stream",
     "text": [
      "3\n"
     ]
    }
   ],
   "source": [
    "N = int(input())\n",
    "A = list(map(int, input().split()))\n",
    "v = int(input())\n",
    "count = 0\n",
    "for i in range(0, N, 1):\n",
    "    if A[i] == v:\n",
    "        count += 1\n",
    "    else:\n",
    "        continue\n",
    "print(count)"
   ]
  },
  {
   "cell_type": "code",
   "execution_count": null,
   "metadata": {},
   "outputs": [
    {
     "name": "stdout",
     "output_type": "stream",
     "text": [
      "2\n",
      "8\n"
     ]
    }
   ],
   "source": [
    "Student = []\n",
    "for i in range(1, 29, 1):\n",
    "    Student.append(int(input()))\n",
    "\n",
    "for j in range(1, 31, 1):\n",
    "    if j not in Student:\n",
    "        print(j)\n",
    "    else:\n",
    "        continue"
   ]
  },
  {
   "cell_type": "code",
   "execution_count": null,
   "metadata": {},
   "outputs": [],
   "source": [
    "N, M = map(int, input().split())\n",
    "A = []\n",
    "B = []\n",
    "for i in range(0, N, 1):\n",
    "    for j in range(0, M, 1):\n",
    "        A.append(map(int, input().split()))\n",
    "A[N-1][M-1]\n",
    "A.append(map(int, input().split))"
   ]
  },
  {
   "cell_type": "code",
   "execution_count": null,
   "metadata": {},
   "outputs": [
    {
     "name": "stdout",
     "output_type": "stream",
     "text": [
      "4 4 4\n",
      "6 6 6\n",
      "5 6 100\n"
     ]
    }
   ],
   "source": [
    "N, M = map(int, input().split())\n",
    "A = []\n",
    "B = []\n",
    "for i in range(0, N, 1):\n",
    "    A.append(list(map(int, input().split())))\n",
    "for j in range(0, N, 1):\n",
    "    B.append(list(map(int, input().split())))\n",
    "C = []\n",
    "for k in range(0, N, 1):\n",
    "    sum = []\n",
    "    for p in range(0, M, 1):\n",
    "        sum.append(A[k][p] + B[k][p])\n",
    "    C.append(sum)\n",
    "for i in range(0, N, 1):\n",
    "    print(*C[i])"
   ]
  },
  {
   "cell_type": "code",
   "execution_count": null,
   "metadata": {},
   "outputs": [
    {
     "name": "stdout",
     "output_type": "stream",
     "text": [
      "57\n"
     ]
    }
   ],
   "source": [
    "# 입력받은 값이 문자면 ord(문자)로 아스키 코드를 반환한다.\n",
    "# 입력받은 값이 숫자면 chr(숫자)로 아스키 코드를 반환한다.\n",
    "A = input()\n",
    "print(ord(A))"
   ]
  },
  {
   "cell_type": "code",
   "execution_count": null,
   "metadata": {},
   "outputs": [
    {
     "name": "stdout",
     "output_type": "stream",
     "text": [
      "15\n"
     ]
    }
   ],
   "source": [
    "A = input()\n",
    "print(len(A))"
   ]
  },
  {
   "cell_type": "code",
   "execution_count": null,
   "metadata": {},
   "outputs": [
    {
     "name": "stdout",
     "output_type": "stream",
     "text": [
      "DFADaDFASF\n"
     ]
    }
   ],
   "source": [
    "A = input()\n",
    "print(A.swapcase())"
   ]
  },
  {
   "cell_type": "code",
   "execution_count": null,
   "metadata": {},
   "outputs": [
    {
     "name": "stdout",
     "output_type": "stream",
     "text": [
      "4.0\n"
     ]
    }
   ],
   "source": [
    "Score = input()\n",
    "if Score == \"A+\":\n",
    "    print(4.3)\n",
    "elif Score == \"A0\":\n",
    "    print(4.0)\n",
    "elif Score == \"A-\":\n",
    "    print(3.7)\n",
    "elif Score == \"B+\":\n",
    "    print(3.3)\n",
    "elif Score == \"B0\":\n",
    "    print(3.0)\n",
    "elif Score == \"B-\":\n",
    "    print(2.7)\n",
    "elif Score == \"C+\":\n",
    "    print(2.3)\n",
    "elif Score == \"C0\":\n",
    "    print(2.0)\n",
    "elif Score == \"C-\":\n",
    "    print(1.7)\n",
    "elif Score == \"D+\":\n",
    "    print(1.3)\n",
    "elif Score == \"D0\":\n",
    "    print(1.0)\n",
    "elif Score == \"D-\":\n",
    "    print(0.7)\n",
    "elif Score == \"F\":\n",
    "    print(0.0)"
   ]
  },
  {
   "cell_type": "code",
   "execution_count": null,
   "metadata": {},
   "outputs": [
    {
     "name": "stdout",
     "output_type": "stream",
     "text": [
      "p\n"
     ]
    }
   ],
   "source": [
    "S = input()\n",
    "i = int(input())\n",
    "print(S[i-1])"
   ]
  },
  {
   "cell_type": "code",
   "execution_count": null,
   "metadata": {},
   "outputs": [
    {
     "name": "stdout",
     "output_type": "stream",
     "text": [
      "\n",
      "Hello\n",
      "Python\n",
      "Bye\n",
      "\n",
      "\n",
      "\n",
      "\n",
      "Escape\n",
      "dkssud\n"
     ]
    }
   ],
   "source": [
    "# 문자열 x를 입력하면 x가 출력된다.\n",
    "# 조건이 참일 때만 작동하는 while에 조건을 True로 설정\n",
    "# try를 활용해서 입력받은 값을 출력한다.\n",
    "# except를 활용해서 예외의 경우로 EOFError일 경우에는 루프를 종료한다.\n",
    "while True:\n",
    "    try:\n",
    "        print(input())\n",
    "    except EOFError:\n",
    "        break\n",
    "\n",
    "\n"
   ]
  },
  {
   "cell_type": "code",
   "execution_count": null,
   "metadata": {},
   "outputs": [
    {
     "name": "stdout",
     "output_type": "stream",
     "text": [
      "AE\n",
      "OO\n",
      "AB\n"
     ]
    }
   ],
   "source": [
    "Testcase = int(input())\n",
    "for i in range(0, Testcase, 1):\n",
    "    A = input()\n",
    "    print(A[0] + A[len(A)-1])"
   ]
  },
  {
   "cell_type": "code",
   "execution_count": null,
   "metadata": {},
   "outputs": [
    {
     "name": "stdout",
     "output_type": "stream",
     "text": [
      "7\n"
     ]
    }
   ],
   "source": [
    "def Formula(A, B):\n",
    "    return (A+B)*(A-B)\n",
    "A, B = map(int, input().split())\n",
    "print(Formula(A,B))\n",
    "\n",
    "\n"
   ]
  },
  {
   "cell_type": "code",
   "execution_count": null,
   "metadata": {},
   "outputs": [
    {
     "name": "stdout",
     "output_type": "stream",
     "text": [
      "1\n"
     ]
    }
   ],
   "source": [
    "# 검증수는 고유번호 처음 5자리의 숫자를 각각 제곱한 수의 합을 10으로 나눈 나머지\n",
    "unique_num = list(map(int, input().split()))\n",
    "num1 = 0\n",
    "for i in range(0, 5, 1):\n",
    "    num1 += unique_num[i]**2\n",
    "verifier_num = num1 % 10\n",
    "print(verifier_num)"
   ]
  },
  {
   "cell_type": "code",
   "execution_count": null,
   "metadata": {},
   "outputs": [
    {
     "name": "stdout",
     "output_type": "stream",
     "text": [
      "    *\n",
      "   **\n",
      "  ***\n",
      " ****\n",
      "*****\n"
     ]
    }
   ],
   "source": [
    "# 백준 2439번\n",
    "N = int(input())\n",
    "string = \"\"\n",
    "for i in range(1, N+1, 1):\n",
    "    string = '*'*i\n",
    "    print(string.rjust(N))"
   ]
  },
  {
   "cell_type": "code",
   "execution_count": null,
   "metadata": {},
   "outputs": [
    {
     "name": "stdout",
     "output_type": "stream",
     "text": [
      "15\n"
     ]
    }
   ],
   "source": [
    "# 백준 11720번\n",
    "N = int(input())\n",
    "num1 = list(map(int, input()))\n",
    "sum = 0\n",
    "for i in range(len(num1)):\n",
    "    sum += num1[i]\n",
    "print(sum)"
   ]
  },
  {
   "cell_type": "code",
   "execution_count": null,
   "metadata": {},
   "outputs": [
    {
     "name": "stdout",
     "output_type": "stream",
     "text": [
      "9\n",
      "1\n"
     ]
    }
   ],
   "source": [
    "# 백준 2562번\n",
    "A = [] # 9 8 7 6 5 4 3 2 1\n",
    "order = 1\n",
    "for i in range(0, 9, 1):\n",
    "    A.append(int(input()))\n",
    "Max = A[0]\n",
    "for j in range(1, 9, 1):\n",
    "    if Max < A[j]:\n",
    "        Max = A[j]\n",
    "        order = j+1\n",
    "print(Max)\n",
    "print(order)"
   ]
  },
  {
   "cell_type": "code",
   "execution_count": null,
   "metadata": {},
   "outputs": [
    {
     "name": "stdout",
     "output_type": "stream",
     "text": [
      "0 5\n"
     ]
    }
   ],
   "source": [
    "# 백준 2884번\n",
    "H, M = map(int, input().split())\n",
    "if H >= 1:\n",
    "    if M-45 < 0:\n",
    "        H = H-1\n",
    "        M = M+15\n",
    "    else:\n",
    "        M = M-45\n",
    "else:\n",
    "    if M-45 < 0:\n",
    "        H = H+23\n",
    "        M = M+15\n",
    "    else:\n",
    "        H = H\n",
    "        M = M-45\n",
    "print(H, M)\n"
   ]
  },
  {
   "cell_type": "code",
   "execution_count": null,
   "metadata": {},
   "outputs": [
    {
     "name": "stdout",
     "output_type": "stream",
     "text": [
      "2512\n"
     ]
    }
   ],
   "source": [
    "# 백준 10250번\n",
    "Testcase = int(input())\n",
    "for p in range(0, Testcase, 1):\n",
    "    floor, room_num, order = map(int, input().split())\n",
    "    count = 0\n",
    "    for i in range(1, room_num+1, 1):\n",
    "        for j in range(1, floor+1, 1):\n",
    "            count += 1\n",
    "            if count == order:\n",
    "                print(\"%d%02d\" % (j, i))\n",
    "                break"
   ]
  },
  {
   "cell_type": "code",
   "execution_count": null,
   "metadata": {},
   "outputs": [
    {
     "name": "stdout",
     "output_type": "stream",
     "text": [
      "7 35\n"
     ]
    }
   ],
   "source": [
    "# 백준 10818번\n",
    "N = int(input())\n",
    "num1 = list(map(int, input().split()))\n",
    "Min = num1[0]\n",
    "Max = num1[0]\n",
    "for i in range(1, N, 1):\n",
    "    if Min >= num1[i]:\n",
    "        Min = num1[i]\n",
    "for j in range(1, N, 1):\n",
    "    if Max <= num1[j]:\n",
    "        Max = num1[j]\n",
    "print(Min, Max)"
   ]
  },
  {
   "cell_type": "code",
   "execution_count": null,
   "metadata": {},
   "outputs": [
    {
     "name": "stdout",
     "output_type": "stream",
     "text": [
      "6\n"
     ]
    }
   ],
   "source": [
    "# 백준 1152번\n",
    "A = list(map(str, input().split()))\n",
    "print(len(A))"
   ]
  },
  {
   "cell_type": "code",
   "execution_count": null,
   "metadata": {},
   "outputs": [
    {
     "name": "stdout",
     "output_type": "stream",
     "text": [
      "3\n",
      "1\n",
      "0\n",
      "2\n",
      "0\n",
      "0\n",
      "0\n",
      "2\n",
      "0\n",
      "0\n"
     ]
    }
   ],
   "source": [
    "# 백준 2577번\n",
    "A = int(input())\n",
    "B = int(input())\n",
    "C = int(input())\n",
    "S = str(A*B*C)\n",
    "for i in range(0, 10, 1):\n",
    "    num = S.count(\"%s\" % i)\n",
    "    print(num)"
   ]
  },
  {
   "cell_type": "code",
   "execution_count": null,
   "metadata": {},
   "outputs": [
    {
     "name": "stdout",
     "output_type": "stream",
     "text": [
      "AAABBBCCC\n",
      "/////HHHHHTTTTTPPPPP\n"
     ]
    }
   ],
   "source": [
    "# 백준 2675번\n",
    "Testcase = int(input())\n",
    "for i in range(0, Testcase, 1):\n",
    "    R, S = map(str, input().split())\n",
    "    R = int(R)\n",
    "    P = \"\"\n",
    "    count = 0\n",
    "    for j in range(0, len(S), 1):\n",
    "        P += S[j]*R\n",
    "        count += 1\n",
    "        if count == len(S):\n",
    "            print(P)\n"
   ]
  },
  {
   "cell_type": "code",
   "execution_count": null,
   "metadata": {},
   "outputs": [
    {
     "name": "stdout",
     "output_type": "stream",
     "text": [
      "mixed\n"
     ]
    }
   ],
   "source": [
    "# 백준 2920번\n",
    "# sorted(list) 함수 적용한것과 같으면 ascending 출력\n",
    "# sorted(list, reverse=True) 와 같으면 descending 출력\n",
    "# 둘다 아니면 mixed 출력\n",
    "A = list(map(int, input().split()))\n",
    "if sorted(A) == A:\n",
    "    print(\"ascending\")\n",
    "elif sorted(A, reverse=True) == A:\n",
    "    print(\"descending\")\n",
    "else:\n",
    "    print(\"mixed\")"
   ]
  },
  {
   "cell_type": "code",
   "execution_count": null,
   "metadata": {},
   "outputs": [
    {
     "name": "stdout",
     "output_type": "stream",
     "text": [
      "1\n"
     ]
    }
   ],
   "source": [
    "# 백준 3052번\n",
    "# 42로 나누었을때, 서로 다른 나머지가 몇개 있는지 출력한다.\n",
    "# 42로 나누었을때 나머지는 0~41이 가능하다.\n",
    "# 0~41이 정수 10개의 나머지값 10개와 비교해서 1개만 있으면 서로 다른 나머지이다.\n",
    "# 서로 다른 나머지의 개수를 카운트해서 그 값을 출력한다.\n",
    "mylist = []\n",
    "count = 0\n",
    "for i in range(0, 10, 1):\n",
    "    natural_num = int(input())\n",
    "    mylist.append(natural_num % 42)\n",
    "for j in range(0, 42, 1):\n",
    "    dupcount = 0\n",
    "    for k in range(0, 10, 1):\n",
    "        if mylist[k] == j:\n",
    "            dupcount += 1\n",
    "            if dupcount ==1:\n",
    "                count += 1\n",
    "print(count)\n",
    "\n"
   ]
  },
  {
   "cell_type": "code",
   "execution_count": null,
   "metadata": {},
   "outputs": [
    {
     "name": "stdout",
     "output_type": "stream",
     "text": [
      "30\n"
     ]
    }
   ],
   "source": [
    "# 백준 8958번\n",
    "Testcase = int(input())\n",
    "# 처음 점수(score)는 0이고, 첫 문제 배점(points)은 1이다.\n",
    "# O가 나오면 배점인 points를 score에 더하고 다음 문제의 points를 1 올린다.\n",
    "# X가 나오면 score를 유지하고 배점인 points를 1로 만들어서 다음 문제의 배점을 1로 만든다.\n",
    "# 반복은 OX로 구성된 문자열의 길이만큼 반복한다.\n",
    "# 최종적으로 for문 바깥에서 스코어를 출력한다.\n",
    "# 이 전 과정을 Testcase 값만큼 반복한다.\n",
    "for i in range(0, Testcase, 1):\n",
    "    quiz_result = input()\n",
    "    score = 0\n",
    "    points = 1\n",
    "    for j in range(0, len(quiz_result), 1):\n",
    "        if quiz_result[j] == 'O':\n",
    "            score += points\n",
    "            points += 1\n",
    "        else:\n",
    "            points = 1\n",
    "    print(score)\n"
   ]
  },
  {
   "cell_type": "code",
   "execution_count": 3,
   "metadata": {},
   "outputs": [
    {
     "name": "stdout",
     "output_type": "stream",
     "text": [
      "0 1 2 3 -1 -1 -1 -1 -1 -1 -1 -1 -1 -1 -1 -1 -1 -1 -1 -1 -1 -1 -1 -1 -1 -1\n"
     ]
    }
   ],
   "source": [
    "# 백준 10809번\n",
    "# 문자열 S를 입력받는다\n",
    "# mylist = []로 값을 추가 받을 빈 리스트를 만든다.\n",
    "# 아스키 코드로 a~z까지 i값이 1씩 증가하며 반복하는 for문을 만든다\n",
    "# 알파벳으로 넣으면 for문이 작동되지 않는것을 확인했고\n",
    "# 아스키코드 a~z를 10진수로 변환해서 97~122까지(123이전까지) 반복되게 변환\n",
    "# mylist.append(S.find(str(chr(i)))))를 통해\n",
    "# chr()로 10진수가 들어간 i값을 아스키코드 알파벳으로 만들고\n",
    "# str()로 위 알파벳을 문자열로 만들어서 find 함수를 적용하고\n",
    "# 빈 리스트에 find 함수 값을 리스트의 원소로 추가한다.\n",
    "# print(*mylist)로 대괄호[]가 제거된 mylist의 원소들을 한줄에 출력한다.\n",
    "S = input()\n",
    "mylist = []\n",
    "for i in range(97, 123, 1):\n",
    "    mylist.append(S.find(str(chr(i))))\n",
    "print(*mylist)\n"
   ]
  },
  {
   "cell_type": "code",
   "execution_count": null,
   "metadata": {},
   "outputs": [
    {
     "name": "stdout",
     "output_type": "stream",
     "text": [
      "A\n"
     ]
    }
   ],
   "source": [
    "# 백준 1157번\n",
    "string = input().upper()\n",
    "count_list = [0 for i in range(26)]\n",
    "max_list = [0]\n",
    "for i in range(65, 91, 1):\n",
    "    for j in range(0, len(string), 1):\n",
    "        if string[j] == chr(i):\n",
    "            count_list[i-65] += 1\n",
    "for k in range(0, 26, 1):\n",
    "    if count_list[k] > max_list[0]:\n",
    "        max_list.clear()\n",
    "        max_list.append(count_list[k])\n",
    "    elif count_list[k] == max_list[0]:\n",
    "        max_list.append(count_list[k])\n",
    "if len(max_list) == 1:\n",
    "    print(chr(count_list.index(max_list[0])+65))\n",
    "else:\n",
    "    print(\"?\")"
   ]
  },
  {
   "cell_type": "code",
   "execution_count": null,
   "metadata": {},
   "outputs": [
    {
     "name": "stdout",
     "output_type": "stream",
     "text": [
      "joonas??!\n"
     ]
    }
   ],
   "source": [
    "# 백준 10926번\n",
    "existID = input()\n",
    "print(existID + \"??!\")"
   ]
  },
  {
   "cell_type": "code",
   "execution_count": null,
   "metadata": {},
   "outputs": [
    {
     "name": "stdout",
     "output_type": "stream",
     "text": [
      "1998\n",
      "1998\n"
     ]
    }
   ],
   "source": [
    "# 백준 18108번\n",
    "bulki_year = int(input())\n",
    "print(bulki_year - 543)"
   ]
  },
  {
   "cell_type": "code",
   "execution_count": null,
   "metadata": {},
   "outputs": [
    {
     "name": "stdout",
     "output_type": "stream",
     "text": [
      "1\n",
      "1\n",
      "0\n",
      "0\n"
     ]
    }
   ],
   "source": [
    "# 백준 10430번\n",
    "A, B, C = map(int, input().split())\n",
    "print((A+B)%C)\n",
    "print(((A%C)+(B%C))%C)\n",
    "print((A*B)%C)\n",
    "print(((A%C)*(B%C))%C)"
   ]
  },
  {
   "cell_type": "code",
   "execution_count": null,
   "metadata": {},
   "outputs": [
    {
     "name": "stdout",
     "output_type": "stream",
     "text": [
      "2360\n",
      "3776\n",
      "1416\n",
      "181720\n"
     ]
    }
   ],
   "source": [
    "# 백준 2588번\n",
    "# 10으로 나눈 나머지는 1의 자리\n",
    "# 100으로 나눈 나머지에서 10으로 나눈 나머지를 빼면 10의 자리\n",
    "# 1000으로 나눈 나머지에서 100으로 나눈 나머지를 빼면 10의 자리\n",
    "num1 = int(input())\n",
    "num2 = int(input())\n",
    "print(num1*(num2%10))\n",
    "print(num1*((num2%100 - num2%10)//10))\n",
    "print(num1*((num2%1000 - num2%100))//100)\n",
    "print(num1*num2)"
   ]
  },
  {
   "cell_type": "code",
   "execution_count": null,
   "metadata": {},
   "outputs": [
    {
     "name": "stdout",
     "output_type": "stream",
     "text": [
      "1 11\n"
     ]
    }
   ],
   "source": [
    "# 백준 2525번\n",
    "A, B = map(int, input().split())\n",
    "C = int(input())\n",
    "if A + (B+C)//60 <= 23:\n",
    "    if B+C > 60:\n",
    "        A += (B+C)//60\n",
    "        B = (B+C)%60\n",
    "    elif B+C == 60:\n",
    "        A += (B+C)//60\n",
    "        B = (B+C)%60\n",
    "    else:\n",
    "        B += C\n",
    "else:\n",
    "    A += (B+C)//60 - 24\n",
    "    B = (B+C)%60\n",
    "print(A, B)"
   ]
  },
  {
   "cell_type": "code",
   "execution_count": 11,
   "metadata": {},
   "outputs": [
    {
     "name": "stdout",
     "output_type": "stream",
     "text": [
      "600\n"
     ]
    }
   ],
   "source": [
    "\n",
    "# 백준 2480번\n",
    "# 같은 눈이 3개면 1만원 + 같은눈숫자*1000원\n",
    "# 같은 눈이 2개면 1천원 + 같은눈숫자*100원\n",
    "# 모두 다른 눈이 나오면 가장큰눈*100원\n",
    "dice_result = list(map(int, input().split()))\n",
    "if dice_result[0] == dice_result[1] and dice_result[1] == dice_result[2]:\n",
    "    print(10000 + dice_result[0]*1000)\n",
    "elif dice_result[0] == dice_result[1]:\n",
    "    print(1000 + dice_result[0]*100)\n",
    "elif dice_result[0] == dice_result[2]:\n",
    "    print(1000 + dice_result[0]*100)\n",
    "elif dice_result[1] == dice_result[2]:\n",
    "    print(1000 + dice_result[1]*100)\n",
    "else:\n",
    "    if dice_result[0] > dice_result[1] and dice_result[0] > dice_result[2]:\n",
    "        print(dice_result[0]*100)\n",
    "    elif dice_result[1] > dice_result[0] and dice_result[1] > dice_result[2]:\n",
    "        print(dice_result[1]*100)\n",
    "    else:\n",
    "        print(dice_result[2]*100)"
   ]
  },
  {
   "cell_type": "code",
   "execution_count": 12,
   "metadata": {},
   "outputs": [
    {
     "name": "stdout",
     "output_type": "stream",
     "text": [
      "6\n"
     ]
    }
   ],
   "source": [
    "# 백준 8393번\n",
    "n = int(input())\n",
    "sum = 0\n",
    "for i in range(1, n+1, 1):\n",
    "    sum += i\n",
    "print(sum)"
   ]
  },
  {
   "cell_type": "code",
   "execution_count": 14,
   "metadata": {},
   "outputs": [
    {
     "name": "stdout",
     "output_type": "stream",
     "text": [
      "No\n"
     ]
    }
   ],
   "source": [
    "# 백준 25304번\n",
    "# X는 총 금액\n",
    "# N은 구매한 물건의 종류의 수\n",
    "# a는 각 물건의 가격, b는 물건의 개수\n",
    "X = int(input())\n",
    "N = int(input())\n",
    "sum = 0\n",
    "for i in range(0, N, 1):\n",
    "    a, b = map(int, input().split())\n",
    "    sum += a*b\n",
    "if sum == X:\n",
    "    print(\"Yes\")\n",
    "else:\n",
    "    print(\"No\")"
   ]
  },
  {
   "cell_type": "code",
   "execution_count": 25,
   "metadata": {},
   "outputs": [
    {
     "name": "stdout",
     "output_type": "stream",
     "text": [
      "long int\n"
     ]
    }
   ],
   "source": [
    "# 백준 25314번\n",
    "# 4의 배수 정수 N을 입력받는다\n",
    "# N을 4로 나눈 몫의 수만큼 long이 출력된다.\n",
    "N = int(input())\n",
    "print('long '*(N//4)+'int')\n"
   ]
  },
  {
   "cell_type": "code",
   "execution_count": 26,
   "metadata": {},
   "outputs": [
    {
     "name": "stdout",
     "output_type": "stream",
     "text": [
      "Case #1: 2\n",
      "Case #2: 5\n",
      "Case #3: 7\n",
      "Case #4: 17\n",
      "Case #5: 7\n"
     ]
    }
   ],
   "source": [
    "# 백준 11021번\n",
    "Testcase = int(input())\n",
    "for i in range(0, Testcase, 1):\n",
    "    A, B = map(int, input().split())\n",
    "    print(\"Case #%d: %d\" % (i+1, A+B))"
   ]
  },
  {
   "cell_type": "code",
   "execution_count": 27,
   "metadata": {},
   "outputs": [
    {
     "name": "stdout",
     "output_type": "stream",
     "text": [
      "case #1: 1 + 1 = 2\n",
      "case #2: 2 + 3 = 5\n",
      "case #3: 3 + 4 = 7\n",
      "case #4: 9 + 8 = 17\n",
      "case #5: 5 + 2 = 7\n"
     ]
    }
   ],
   "source": [
    "# 백준 11022번\n",
    "Testcase = int(input())\n",
    "for i in range(0, Testcase, 1):\n",
    "    A, B = map(int, input().split())\n",
    "    print(\"Case #%d: %d + %d = %d\" % (i+1, A, B, A+B))"
   ]
  },
  {
   "cell_type": "code",
   "execution_count": 39,
   "metadata": {},
   "outputs": [
    {
     "name": "stdout",
     "output_type": "stream",
     "text": [
      "1 2 1 1 0\n"
     ]
    }
   ],
   "source": [
    "# 백준 10810번\n",
    "# 바구니는 1번부터 N번까지 번호가 매겨지고 1번부터 N번까지 번호가 매겨진 공이 많음\n",
    "# 도현이는 앞으로 공을 M번 넣으려고 한다.\n",
    "# 한번 공을 넣을때 공을 넣을 바구니 범위를 정하고, 정한 바구니에 모두 같은 번호의 공을 넣는다.\n",
    "# 공이 이미 있는 바구니는 공을 빼고 새로 공을 넣는다.\n",
    "# 공을 넣을 바구니는 연속되어 있어야 한다.\n",
    "# i번 바구니부터 j번 바구니까지 k 값을 넣는다\n",
    "N, M = map(int, input().split())\n",
    "basket_list = [0 for i in range(N)]\n",
    "for p in range(0, M, 1):\n",
    "    i, j, k = map(int, input().split())\n",
    "    for r in range(i-1, j, 1):\n",
    "        basket_list[r] = k\n",
    "print(*basket_list)\n"
   ]
  },
  {
   "cell_type": "code",
   "execution_count": 46,
   "metadata": {},
   "outputs": [
    {
     "name": "stdout",
     "output_type": "stream",
     "text": [
      "3 1 4 2 5\n"
     ]
    }
   ],
   "source": [
    "# 백준 10813번\n",
    "# 바구니는 1번부터 N번까지 번호가 매겨지고 바구니에는 공이 1개씩 들어있다.\n",
    "# 처음에는 바구니에 적혀있는 번호와 같은 번호가 적힌 공이 들어있다.\n",
    "# 도현이는 앞으로 M번 공을 바꾼다. 공을 바꿀 바구니 2개를 선택하고, 공을 서로 교환한다.\n",
    "# i번 바구니와 j번 바구니에 들어있는 공을 교환한다.\n",
    "N, M = map(int, input().split())\n",
    "basket_list = [0 for i in range(N)]\n",
    "for p in range(0, N, 1):\n",
    "    basket_list[p] = p+1\n",
    "for r in range(0, M, 1):\n",
    "    i, j = map(int, input().split())\n",
    "    basket_list[i-1], basket_list[j-1] = basket_list[j-1], basket_list[i-1]\n",
    "print(*basket_list)"
   ]
  },
  {
   "cell_type": "code",
   "execution_count": 53,
   "metadata": {},
   "outputs": [
    {
     "name": "stdout",
     "output_type": "stream",
     "text": [
      "3 4 1 2 5\n"
     ]
    }
   ],
   "source": [
    "# 백준 10811번\n",
    "# 바구니는 1번부터 N번까지 번호가 매겨지고 순서대로 놓여져있다.\n",
    "# 도현이는 역순으로 만들 범위를 정하고 바구니를 범위만큼 역순으로 만드는걸 M번한다.\n",
    "# i번째 바구니부터 j번째 바구니까지 순서를 역순으로 만든다.\n",
    "# 역순으로 만들때는 reversed(list)를 사용한다.\n",
    "N, M = map(int, input().split())\n",
    "basket_list = [0 for i in range(N)]\n",
    "for p in range(0, N, 1):\n",
    "    basket_list[p] = p+1\n",
    "for r in range(0, M, 1):\n",
    "    i, j = map(int, input().split())\n",
    "    basket_list[i-1:j] = reversed(basket_list[i-1:j])\n",
    "print(*basket_list)"
   ]
  },
  {
   "cell_type": "code",
   "execution_count": 63,
   "metadata": {},
   "outputs": [
    {
     "name": "stdout",
     "output_type": "stream",
     "text": [
      "55.55555555555556\n"
     ]
    }
   ],
   "source": [
    "# 백준 1546번\n",
    "# 세준이의 점수 최댓값은 M\n",
    "# 세준이가 고친 점수 \n",
    "# 시험 본 과목의 개수 N이고 N <=1000\n",
    "# 세준이의 현재 성적은 입력받는다\n",
    "N = int(input())\n",
    "score_list = [0 for i in range(N)]\n",
    "score_list = list(map(int, input().split()))\n",
    "M = score_list[0]\n",
    "sum = 0\n",
    "for i in range(0, N, 1):\n",
    "    if score_list[i] >= M:\n",
    "        M = score_list[i]\n",
    "for j in range(0, N, 1):\n",
    "    sum += (score_list[j]/M)*100\n",
    "newavg = sum/N\n",
    "print(newavg)"
   ]
  },
  {
   "cell_type": "code",
   "execution_count": 71,
   "metadata": {},
   "outputs": [
    {
     "name": "stdout",
     "output_type": "stream",
     "text": [
      "954\n"
     ]
    }
   ],
   "source": [
    "# 백준 2908번\n",
    "A, B = map(int, input().split())\n",
    "reversed_A = \"\".join(reversed(str(A)))\n",
    "reversed_B = \"\".join(reversed(str(B)))\n",
    "if int(reversed_A) > int(reversed_B):\n",
    "    print(reversed_A)\n",
    "elif int(reversed_A) == int(reversed_B):\n",
    "    print(reversed_A)\n",
    "else:\n",
    "    print(reversed_B)"
   ]
  },
  {
   "cell_type": "code",
   "execution_count": null,
   "metadata": {},
   "outputs": [],
   "source": []
  }
 ],
 "metadata": {
  "kernelspec": {
   "display_name": "Python 3",
   "language": "python",
   "name": "python3"
  },
  "language_info": {
   "codemirror_mode": {
    "name": "ipython",
    "version": 3
   },
   "file_extension": ".py",
   "mimetype": "text/x-python",
   "name": "python",
   "nbconvert_exporter": "python",
   "pygments_lexer": "ipython3",
   "version": "3.11.4"
  },
  "orig_nbformat": 4
 },
 "nbformat": 4,
 "nbformat_minor": 2
}
