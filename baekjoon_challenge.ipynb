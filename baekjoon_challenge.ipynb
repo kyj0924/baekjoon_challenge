{
 "cells": [
  {
   "cell_type": "code",
   "execution_count": 1,
   "metadata": {},
   "outputs": [
    {
     "name": "stdout",
     "output_type": "stream",
     "text": [
      "\\    /\\\n",
      " )  ( ')\n",
      "(  /  )\n",
      " \\(__)|\n"
     ]
    }
   ],
   "source": [
    "print('''\\\\    /\\\\\n",
    " )  ( \\')\n",
    "(  /  )\n",
    " \\\\(__)|''')"
   ]
  },
  {
   "cell_type": "code",
   "execution_count": 2,
   "metadata": {},
   "outputs": [
    {
     "name": "stdout",
     "output_type": "stream",
     "text": [
      "|\\_/|\n",
      "|q p|   /}\n",
      "( 0 )\"\"\"\\\n",
      "|\"^\"`    |\n",
      "||_/=\\\\__|\n"
     ]
    }
   ],
   "source": [
    "print('''|\\\\_/|\n",
    "|q p|   /}\n",
    "( 0 )\"\"\"\\\\\n",
    "|\"^\"`    |\n",
    "||_/=\\\\\\\\__|''')"
   ]
  },
  {
   "cell_type": "code",
   "execution_count": 3,
   "metadata": {},
   "outputs": [
    {
     "name": "stdout",
     "output_type": "stream",
     "text": [
      "         ,r'\"7\n",
      "r`-_   ,'  ,/\n",
      " \\. \". L_r'\n",
      "   `~\\/\n",
      "      |\n",
      "      |\n"
     ]
    }
   ],
   "source": [
    "print('''         ,r\\'\"7\n",
    "r`-_   ,\\'  ,/\n",
    " \\\\. \". L_r'\n",
    "   `~\\\\/\n",
    "      |\n",
    "      |''')"
   ]
  },
  {
   "cell_type": "code",
   "execution_count": 4,
   "metadata": {},
   "outputs": [],
   "source": [
    "A, B = input().split(' ')\n",
    "print(int(A)+int(B))"
   ]
  },
  {
   "cell_type": "code",
   "execution_count": null,
   "metadata": {},
   "outputs": [
    {
     "name": "stdout",
     "output_type": "stream",
     "text": [
      "1\n"
     ]
    }
   ],
   "source": [
    "A, B = map(int, input().split())\n",
    "print(A-B)"
   ]
  },
  {
   "cell_type": "code",
   "execution_count": null,
   "metadata": {},
   "outputs": [
    {
     "data": {
      "text/plain": [
       "1.0"
      ]
     },
     "execution_count": 39,
     "metadata": {},
     "output_type": "execute_result"
    }
   ],
   "source": [
    "float(\"1\")"
   ]
  },
  {
   "cell_type": "code",
   "execution_count": null,
   "metadata": {},
   "outputs": [
    {
     "name": "stdout",
     "output_type": "stream",
     "text": [
      "10\n",
      "4\n",
      "21\n",
      "2\n",
      "1\n"
     ]
    }
   ],
   "source": [
    "A, B = map(int, input().split())\n",
    "print(A+B)\n",
    "print(A-B)\n",
    "print(A*B)\n",
    "print(A//B)\n",
    "print(A%B)"
   ]
  },
  {
   "cell_type": "code",
   "execution_count": null,
   "metadata": {},
   "outputs": [
    {
     "name": "stdout",
     "output_type": "stream",
     "text": [
      "7931\n"
     ]
    }
   ],
   "source": [
    "A, B, C = map(int, input().split())\n",
    "print(A+B+C)"
   ]
  },
  {
   "cell_type": "code",
   "execution_count": null,
   "metadata": {},
   "outputs": [
    {
     "name": "stdout",
     "output_type": "stream",
     "text": [
      "<\n"
     ]
    }
   ],
   "source": [
    "A, B = map(int, input().split())\n",
    "if A > B:\n",
    "    print(\">\")\n",
    "elif A < B:\n",
    "    print(\"<\")\n",
    "else:\n",
    "    print(\"==\")"
   ]
  },
  {
   "cell_type": "code",
   "execution_count": null,
   "metadata": {},
   "outputs": [
    {
     "name": "stdout",
     "output_type": "stream",
     "text": [
      "C\n"
     ]
    }
   ],
   "source": [
    "score = int(input())\n",
    "if score >= 90 and score <= 100:\n",
    "    print(\"A\")\n",
    "elif score >= 80 and score < 90:\n",
    "    print(\"B\")\n",
    "elif score >= 70 and score < 80:\n",
    "    print(\"C\")\n",
    "elif score >= 60 and score < 70:\n",
    "    print(\"D\")\n",
    "else:\n",
    "    print(\"F\")"
   ]
  },
  {
   "cell_type": "code",
   "execution_count": null,
   "metadata": {},
   "outputs": [
    {
     "name": "stdout",
     "output_type": "stream",
     "text": [
      "4\n"
     ]
    }
   ],
   "source": [
    "x = int(input())\n",
    "y = int(input())\n",
    "if x > 0 and y > 0:\n",
    "    print(\"1\")\n",
    "elif x < 0 and y > 0:\n",
    "    print(\"2\")\n",
    "elif x < 0 and y < 0:\n",
    "    print(\"3\")\n",
    "else:\n",
    "    print(\"4\")"
   ]
  },
  {
   "cell_type": "code",
   "execution_count": null,
   "metadata": {},
   "outputs": [
    {
     "name": "stdout",
     "output_type": "stream",
     "text": [
      "1\n"
     ]
    }
   ],
   "source": [
    "year = int(input())\n",
    "if ((year % 4 == 0 and year % 100 != 0) or year % 400 == 0):\n",
    "    print(\"1\")\n",
    "else:\n",
    "    print(\"0\")"
   ]
  },
  {
   "cell_type": "code",
   "execution_count": null,
   "metadata": {},
   "outputs": [
    {
     "name": "stdout",
     "output_type": "stream",
     "text": [
      "7\n"
     ]
    }
   ],
   "source": [
    "N, M = map(int, input().split())\n",
    "if N-M < 0:\n",
    "    print(M-N)\n",
    "else:\n",
    "    print(N-M)\n"
   ]
  },
  {
   "cell_type": "code",
   "execution_count": null,
   "metadata": {},
   "outputs": [
    {
     "name": "stdout",
     "output_type": "stream",
     "text": [
      "1\n",
      "2\n",
      "3\n",
      "4\n",
      "5\n",
      "6\n",
      "7\n",
      "8\n",
      "9\n",
      "10\n",
      "11\n",
      "12\n",
      "13\n",
      "14\n",
      "15\n",
      "16\n",
      "17\n",
      "18\n",
      "19\n",
      "20\n",
      "21\n",
      "22\n",
      "23\n",
      "24\n",
      "25\n",
      "26\n",
      "27\n",
      "28\n",
      "29\n",
      "30\n",
      "31\n",
      "32\n",
      "33\n",
      "34\n",
      "35\n",
      "36\n",
      "37\n",
      "38\n",
      "39\n",
      "40\n",
      "41\n",
      "42\n",
      "43\n",
      "44\n",
      "45\n",
      "46\n",
      "47\n",
      "48\n",
      "49\n",
      "50\n",
      "51\n",
      "52\n",
      "53\n",
      "54\n",
      "55\n",
      "56\n",
      "57\n",
      "58\n",
      "59\n",
      "60\n",
      "61\n",
      "62\n",
      "63\n",
      "64\n",
      "65\n",
      "66\n",
      "67\n",
      "68\n",
      "69\n",
      "70\n",
      "71\n",
      "72\n",
      "73\n",
      "74\n",
      "75\n",
      "76\n",
      "77\n",
      "78\n",
      "79\n",
      "80\n",
      "81\n",
      "82\n",
      "83\n",
      "84\n",
      "85\n",
      "86\n",
      "87\n",
      "88\n",
      "89\n",
      "90\n",
      "91\n",
      "92\n",
      "93\n",
      "94\n",
      "95\n",
      "96\n",
      "97\n",
      "98\n",
      "99\n",
      "100\n"
     ]
    }
   ],
   "source": [
    "N = int(input())\n",
    "for i in range(1, N+1, 1):\n",
    "    print(i)"
   ]
  },
  {
   "cell_type": "code",
   "execution_count": null,
   "metadata": {},
   "outputs": [
    {
     "name": "stdout",
     "output_type": "stream",
     "text": [
      "120\n"
     ]
    }
   ],
   "source": [
    "N = int(input())\n",
    "factorial = 1\n",
    "for i in range(1, N+1, 1):\n",
    "    factorial *= i \n",
    "print(\"%d\" % factorial)"
   ]
  },
  {
   "cell_type": "code",
   "execution_count": null,
   "metadata": {},
   "outputs": [
    {
     "name": "stdout",
     "output_type": "stream",
     "text": [
      "2\n",
      "5\n",
      "7\n",
      "17\n",
      "7\n"
     ]
    }
   ],
   "source": [
    "Testcase = int(input())\n",
    "for i in range(0, Testcase, 1):\n",
    "    A, B = map(int, input().split())\n",
    "    print(A+B)"
   ]
  },
  {
   "cell_type": "code",
   "execution_count": null,
   "metadata": {},
   "outputs": [
    {
     "name": "stdout",
     "output_type": "stream",
     "text": [
      "2\n",
      "5\n",
      "7\n",
      "17\n",
      "7\n"
     ]
    }
   ],
   "source": [
    "A, B = map(int, input().split())\n",
    "while A + B:\n",
    "    print(A + B)\n",
    "    A, B = map(int, input().split())"
   ]
  },
  {
   "cell_type": "code",
   "execution_count": null,
   "metadata": {},
   "outputs": [
    {
     "name": "stdout",
     "output_type": "stream",
     "text": [
      "5 * 1 = 5\n",
      "5 * 2 = 10\n",
      "5 * 3 = 15\n",
      "5 * 4 = 20\n",
      "5 * 5 = 25\n",
      "5 * 6 = 30\n",
      "5 * 7 = 35\n",
      "5 * 8 = 40\n",
      "5 * 9 = 45\n"
     ]
    }
   ],
   "source": [
    "N = int(input())\n",
    "for i in range(1, 10, 1):\n",
    "    print(\"%d * %d = %d\" % (N, i, N*i))"
   ]
  },
  {
   "cell_type": "code",
   "execution_count": null,
   "metadata": {},
   "outputs": [
    {
     "name": "stdout",
     "output_type": "stream",
     "text": [
      "*\n",
      "**\n",
      "***\n",
      "****\n",
      "*****\n"
     ]
    }
   ],
   "source": [
    "N = int(input())\n",
    "for i in range(1, N+1, 1):\n",
    "    print(\"*\"*i)"
   ]
  },
  {
   "cell_type": "code",
   "execution_count": null,
   "metadata": {},
   "outputs": [
    {
     "name": "stdout",
     "output_type": "stream",
     "text": [
      "2\n",
      "4\n",
      "7\n",
      "17\n",
      "7\n"
     ]
    }
   ],
   "source": [
    "while True:\n",
    "    try:\n",
    "        A, B = map(int, input().split())\n",
    "        print(A + B)\n",
    "    except EOFError:\n",
    "        break"
   ]
  },
  {
   "cell_type": "code",
   "execution_count": null,
   "metadata": {},
   "outputs": [],
   "source": [
    "import sys\n",
    "T = int(input())\n",
    "for i in range(0, T, 1):\n",
    "    A, B = map(int, sys.stdin.readline().split())\n",
    "    print(A + B)"
   ]
  },
  {
   "cell_type": "code",
   "execution_count": null,
   "metadata": {},
   "outputs": [
    {
     "name": "stdout",
     "output_type": "stream",
     "text": [
      "1\n",
      "4\n",
      "2\n",
      "3\n"
     ]
    }
   ],
   "source": [
    "# X보다 작은 A[i]값을 출력하는데는 성공했지만 한줄에 나열하지는 못했다.\n",
    "# 그래서 바로 밑 블록에서 해결책을 강구했다.\n",
    "N, X = map(int, input().split())\n",
    "A = list(map(int, input().split()))\n",
    "for i in range(0, N, 1):\n",
    "    if A[i] < X:\n",
    "        print(A[i])\n",
    "    else:\n",
    "        continue"
   ]
  },
  {
   "cell_type": "code",
   "execution_count": null,
   "metadata": {},
   "outputs": [
    {
     "name": "stdout",
     "output_type": "stream",
     "text": [
      "1 4 2 3\n"
     ]
    }
   ],
   "source": [
    "# for문에서 A[i]값을 바로 출력해서 발생한 문제라고 판단\n",
    "# print 함수를 for문 밖으로 빼고 for문에서 A[i]값을 저장할 변수를 만들었다.\n",
    "# A[i]값이 X보다 작으면 A[i]값을 새로운 리스트 B에 append하는 것을 반복한다.\n",
    "# for문이 끝난 후 리스트 B의 원소를 모두 출력하기 위해 print(*B)를 사용한다.\n",
    "N, X = map(int, input().split())\n",
    "A = list(map(int, input().split()))\n",
    "B = []\n",
    "for i in range(0, N, 1):\n",
    "    if A[i] < X:\n",
    "        B.append(A[i])\n",
    "    else:\n",
    "        continue\n",
    "print(*B)"
   ]
  },
  {
   "cell_type": "code",
   "execution_count": null,
   "metadata": {},
   "outputs": [
    {
     "name": "stdout",
     "output_type": "stream",
     "text": [
      "['1', '2', '3', '4']\n"
     ]
    }
   ],
   "source": [
    "A = input().split()\n",
    "print(A)"
   ]
  },
  {
   "cell_type": "code",
   "execution_count": null,
   "metadata": {},
   "outputs": [
    {
     "name": "stdout",
     "output_type": "stream",
     "text": [
      "[1, 2, 3, 4]\n"
     ]
    }
   ],
   "source": [
    "A = list(map(int, input().split()))\n",
    "print(A)"
   ]
  },
  {
   "cell_type": "code",
   "execution_count": null,
   "metadata": {},
   "outputs": [
    {
     "name": "stdout",
     "output_type": "stream",
     "text": [
      "3\n"
     ]
    }
   ],
   "source": [
    "N = int(input())\n",
    "A = list(map(int, input().split()))\n",
    "v = int(input())\n",
    "count = 0\n",
    "for i in range(0, N, 1):\n",
    "    if A[i] == v:\n",
    "        count += 1\n",
    "    else:\n",
    "        continue\n",
    "print(count)"
   ]
  },
  {
   "cell_type": "code",
   "execution_count": null,
   "metadata": {},
   "outputs": [
    {
     "name": "stdout",
     "output_type": "stream",
     "text": [
      "2\n",
      "8\n"
     ]
    }
   ],
   "source": [
    "Student = []\n",
    "for i in range(1, 29, 1):\n",
    "    Student.append(int(input()))\n",
    "\n",
    "for j in range(1, 31, 1):\n",
    "    if j not in Student:\n",
    "        print(j)\n",
    "    else:\n",
    "        continue"
   ]
  },
  {
   "cell_type": "code",
   "execution_count": null,
   "metadata": {},
   "outputs": [],
   "source": [
    "N, M = map(int, input().split())\n",
    "A = []\n",
    "B = []\n",
    "for i in range(0, N, 1):\n",
    "    for j in range(0, M, 1):\n",
    "        A.append(map(int, input().split()))\n",
    "A[N-1][M-1]\n",
    "A.append(map(int, input().split))"
   ]
  },
  {
   "cell_type": "code",
   "execution_count": null,
   "metadata": {},
   "outputs": [
    {
     "name": "stdout",
     "output_type": "stream",
     "text": [
      "4 4 4\n",
      "6 6 6\n",
      "5 6 100\n"
     ]
    }
   ],
   "source": [
    "N, M = map(int, input().split())\n",
    "A = []\n",
    "B = []\n",
    "for i in range(0, N, 1):\n",
    "    A.append(list(map(int, input().split())))\n",
    "for j in range(0, N, 1):\n",
    "    B.append(list(map(int, input().split())))\n",
    "C = []\n",
    "for k in range(0, N, 1):\n",
    "    sum = []\n",
    "    for p in range(0, M, 1):\n",
    "        sum.append(A[k][p] + B[k][p])\n",
    "    C.append(sum)\n",
    "for i in range(0, N, 1):\n",
    "    print(*C[i])"
   ]
  },
  {
   "cell_type": "code",
   "execution_count": null,
   "metadata": {},
   "outputs": [
    {
     "name": "stdout",
     "output_type": "stream",
     "text": [
      "57\n"
     ]
    }
   ],
   "source": [
    "# 입력받은 값이 문자면 ord(문자)로 아스키 코드를 반환한다.\n",
    "# 입력받은 값이 숫자면 chr(숫자)로 아스키 코드를 반환한다.\n",
    "A = input()\n",
    "print(ord(A))"
   ]
  },
  {
   "cell_type": "code",
   "execution_count": null,
   "metadata": {},
   "outputs": [
    {
     "name": "stdout",
     "output_type": "stream",
     "text": [
      "15\n"
     ]
    }
   ],
   "source": [
    "A = input()\n",
    "print(len(A))"
   ]
  },
  {
   "cell_type": "code",
   "execution_count": null,
   "metadata": {},
   "outputs": [
    {
     "name": "stdout",
     "output_type": "stream",
     "text": [
      "DFADaDFASF\n"
     ]
    }
   ],
   "source": [
    "A = input()\n",
    "print(A.swapcase())"
   ]
  },
  {
   "cell_type": "code",
   "execution_count": null,
   "metadata": {},
   "outputs": [
    {
     "name": "stdout",
     "output_type": "stream",
     "text": [
      "4.0\n"
     ]
    }
   ],
   "source": [
    "Score = input()\n",
    "if Score == \"A+\":\n",
    "    print(4.3)\n",
    "elif Score == \"A0\":\n",
    "    print(4.0)\n",
    "elif Score == \"A-\":\n",
    "    print(3.7)\n",
    "elif Score == \"B+\":\n",
    "    print(3.3)\n",
    "elif Score == \"B0\":\n",
    "    print(3.0)\n",
    "elif Score == \"B-\":\n",
    "    print(2.7)\n",
    "elif Score == \"C+\":\n",
    "    print(2.3)\n",
    "elif Score == \"C0\":\n",
    "    print(2.0)\n",
    "elif Score == \"C-\":\n",
    "    print(1.7)\n",
    "elif Score == \"D+\":\n",
    "    print(1.3)\n",
    "elif Score == \"D0\":\n",
    "    print(1.0)\n",
    "elif Score == \"D-\":\n",
    "    print(0.7)\n",
    "elif Score == \"F\":\n",
    "    print(0.0)"
   ]
  },
  {
   "cell_type": "code",
   "execution_count": null,
   "metadata": {},
   "outputs": [
    {
     "name": "stdout",
     "output_type": "stream",
     "text": [
      "p\n"
     ]
    }
   ],
   "source": [
    "S = input()\n",
    "i = int(input())\n",
    "print(S[i-1])"
   ]
  },
  {
   "cell_type": "code",
   "execution_count": null,
   "metadata": {},
   "outputs": [
    {
     "name": "stdout",
     "output_type": "stream",
     "text": [
      "\n",
      "Hello\n",
      "Python\n",
      "Bye\n",
      "\n",
      "\n",
      "\n",
      "\n",
      "Escape\n",
      "dkssud\n"
     ]
    }
   ],
   "source": [
    "# 문자열 x를 입력하면 x가 출력된다.\n",
    "# 조건이 참일 때만 작동하는 while에 조건을 True로 설정\n",
    "# try를 활용해서 입력받은 값을 출력한다.\n",
    "# except를 활용해서 예외의 경우로 EOFError일 경우에는 루프를 종료한다.\n",
    "while True:\n",
    "    try:\n",
    "        print(input())\n",
    "    except EOFError:\n",
    "        break\n",
    "\n",
    "\n"
   ]
  },
  {
   "cell_type": "code",
   "execution_count": null,
   "metadata": {},
   "outputs": [
    {
     "name": "stdout",
     "output_type": "stream",
     "text": [
      "AE\n",
      "OO\n",
      "AB\n"
     ]
    }
   ],
   "source": [
    "Testcase = int(input())\n",
    "for i in range(0, Testcase, 1):\n",
    "    A = input()\n",
    "    print(A[0] + A[len(A)-1])"
   ]
  },
  {
   "cell_type": "code",
   "execution_count": null,
   "metadata": {},
   "outputs": [
    {
     "name": "stdout",
     "output_type": "stream",
     "text": [
      "7\n"
     ]
    }
   ],
   "source": [
    "def Formula(A, B):\n",
    "    return (A+B)*(A-B)\n",
    "A, B = map(int, input().split())\n",
    "print(Formula(A,B))\n",
    "\n",
    "\n"
   ]
  },
  {
   "cell_type": "code",
   "execution_count": null,
   "metadata": {},
   "outputs": [
    {
     "name": "stdout",
     "output_type": "stream",
     "text": [
      "1\n"
     ]
    }
   ],
   "source": [
    "# 검증수는 고유번호 처음 5자리의 숫자를 각각 제곱한 수의 합을 10으로 나눈 나머지\n",
    "unique_num = list(map(int, input().split()))\n",
    "num1 = 0\n",
    "for i in range(0, 5, 1):\n",
    "    num1 += unique_num[i]**2\n",
    "verifier_num = num1 % 10\n",
    "print(verifier_num)"
   ]
  },
  {
   "cell_type": "code",
   "execution_count": null,
   "metadata": {},
   "outputs": [
    {
     "name": "stdout",
     "output_type": "stream",
     "text": [
      "    *\n",
      "   **\n",
      "  ***\n",
      " ****\n",
      "*****\n"
     ]
    }
   ],
   "source": [
    "# 백준 2439번\n",
    "N = int(input())\n",
    "string = \"\"\n",
    "for i in range(1, N+1, 1):\n",
    "    string = '*'*i\n",
    "    print(string.rjust(N))"
   ]
  },
  {
   "cell_type": "code",
   "execution_count": null,
   "metadata": {},
   "outputs": [
    {
     "name": "stdout",
     "output_type": "stream",
     "text": [
      "15\n"
     ]
    }
   ],
   "source": [
    "# 백준 11720번\n",
    "N = int(input())\n",
    "num1 = list(map(int, input()))\n",
    "sum = 0\n",
    "for i in range(len(num1)):\n",
    "    sum += num1[i]\n",
    "print(sum)"
   ]
  },
  {
   "cell_type": "code",
   "execution_count": null,
   "metadata": {},
   "outputs": [
    {
     "name": "stdout",
     "output_type": "stream",
     "text": [
      "9\n",
      "1\n"
     ]
    }
   ],
   "source": [
    "# 백준 2562번\n",
    "A = [] # 9 8 7 6 5 4 3 2 1\n",
    "order = 1\n",
    "for i in range(0, 9, 1):\n",
    "    A.append(int(input()))\n",
    "Max = A[0]\n",
    "for j in range(1, 9, 1):\n",
    "    if Max < A[j]:\n",
    "        Max = A[j]\n",
    "        order = j+1\n",
    "print(Max)\n",
    "print(order)"
   ]
  },
  {
   "cell_type": "code",
   "execution_count": null,
   "metadata": {},
   "outputs": [
    {
     "name": "stdout",
     "output_type": "stream",
     "text": [
      "0 5\n"
     ]
    }
   ],
   "source": [
    "# 백준 2884번\n",
    "H, M = map(int, input().split())\n",
    "if H >= 1:\n",
    "    if M-45 < 0:\n",
    "        H = H-1\n",
    "        M = M+15\n",
    "    else:\n",
    "        M = M-45\n",
    "else:\n",
    "    if M-45 < 0:\n",
    "        H = H+23\n",
    "        M = M+15\n",
    "    else:\n",
    "        H = H\n",
    "        M = M-45\n",
    "print(H, M)\n"
   ]
  },
  {
   "cell_type": "code",
   "execution_count": null,
   "metadata": {},
   "outputs": [
    {
     "name": "stdout",
     "output_type": "stream",
     "text": [
      "2512\n"
     ]
    }
   ],
   "source": [
    "# 백준 10250번\n",
    "Testcase = int(input())\n",
    "for p in range(0, Testcase, 1):\n",
    "    floor, room_num, order = map(int, input().split())\n",
    "    count = 0\n",
    "    for i in range(1, room_num+1, 1):\n",
    "        for j in range(1, floor+1, 1):\n",
    "            count += 1\n",
    "            if count == order:\n",
    "                print(\"%d%02d\" % (j, i))\n",
    "                break"
   ]
  },
  {
   "cell_type": "code",
   "execution_count": null,
   "metadata": {},
   "outputs": [
    {
     "name": "stdout",
     "output_type": "stream",
     "text": [
      "7 35\n"
     ]
    }
   ],
   "source": [
    "# 백준 10818번\n",
    "N = int(input())\n",
    "num1 = list(map(int, input().split()))\n",
    "Min = num1[0]\n",
    "Max = num1[0]\n",
    "for i in range(1, N, 1):\n",
    "    if Min >= num1[i]:\n",
    "        Min = num1[i]\n",
    "for j in range(1, N, 1):\n",
    "    if Max <= num1[j]:\n",
    "        Max = num1[j]\n",
    "print(Min, Max)"
   ]
  },
  {
   "cell_type": "code",
   "execution_count": null,
   "metadata": {},
   "outputs": [
    {
     "name": "stdout",
     "output_type": "stream",
     "text": [
      "6\n"
     ]
    }
   ],
   "source": [
    "# 백준 1152번\n",
    "A = list(map(str, input().split()))\n",
    "print(len(A))"
   ]
  },
  {
   "cell_type": "code",
   "execution_count": null,
   "metadata": {},
   "outputs": [
    {
     "name": "stdout",
     "output_type": "stream",
     "text": [
      "3\n",
      "1\n",
      "0\n",
      "2\n",
      "0\n",
      "0\n",
      "0\n",
      "2\n",
      "0\n",
      "0\n"
     ]
    }
   ],
   "source": [
    "# 백준 2577번\n",
    "A = int(input())\n",
    "B = int(input())\n",
    "C = int(input())\n",
    "S = str(A*B*C)\n",
    "for i in range(0, 10, 1):\n",
    "    num = S.count(\"%s\" % i)\n",
    "    print(num)"
   ]
  },
  {
   "cell_type": "code",
   "execution_count": null,
   "metadata": {},
   "outputs": [
    {
     "name": "stdout",
     "output_type": "stream",
     "text": [
      "AAABBBCCC\n",
      "/////HHHHHTTTTTPPPPP\n"
     ]
    }
   ],
   "source": [
    "# 백준 2675번\n",
    "Testcase = int(input())\n",
    "for i in range(0, Testcase, 1):\n",
    "    R, S = map(str, input().split())\n",
    "    R = int(R)\n",
    "    P = \"\"\n",
    "    count = 0\n",
    "    for j in range(0, len(S), 1):\n",
    "        P += S[j]*R\n",
    "        count += 1\n",
    "        if count == len(S):\n",
    "            print(P)\n"
   ]
  },
  {
   "cell_type": "code",
   "execution_count": null,
   "metadata": {},
   "outputs": [
    {
     "name": "stdout",
     "output_type": "stream",
     "text": [
      "mixed\n"
     ]
    }
   ],
   "source": [
    "# 백준 2920번\n",
    "# sorted(list) 함수 적용한것과 같으면 ascending 출력\n",
    "# sorted(list, reverse=True) 와 같으면 descending 출력\n",
    "# 둘다 아니면 mixed 출력\n",
    "A = list(map(int, input().split()))\n",
    "if sorted(A) == A:\n",
    "    print(\"ascending\")\n",
    "elif sorted(A, reverse=True) == A:\n",
    "    print(\"descending\")\n",
    "else:\n",
    "    print(\"mixed\")"
   ]
  },
  {
   "cell_type": "code",
   "execution_count": null,
   "metadata": {},
   "outputs": [
    {
     "name": "stdout",
     "output_type": "stream",
     "text": [
      "1\n"
     ]
    }
   ],
   "source": [
    "# 백준 3052번\n",
    "# 42로 나누었을때, 서로 다른 나머지가 몇개 있는지 출력한다.\n",
    "# 42로 나누었을때 나머지는 0~41이 가능하다.\n",
    "# 0~41이 정수 10개의 나머지값 10개와 비교해서 1개만 있으면 서로 다른 나머지이다.\n",
    "# 서로 다른 나머지의 개수를 카운트해서 그 값을 출력한다.\n",
    "mylist = []\n",
    "count = 0\n",
    "for i in range(0, 10, 1):\n",
    "    natural_num = int(input())\n",
    "    mylist.append(natural_num % 42)\n",
    "for j in range(0, 42, 1):\n",
    "    dupcount = 0\n",
    "    for k in range(0, 10, 1):\n",
    "        if mylist[k] == j:\n",
    "            dupcount += 1\n",
    "            if dupcount ==1:\n",
    "                count += 1\n",
    "print(count)\n",
    "\n"
   ]
  },
  {
   "cell_type": "code",
   "execution_count": null,
   "metadata": {},
   "outputs": [
    {
     "name": "stdout",
     "output_type": "stream",
     "text": [
      "30\n"
     ]
    }
   ],
   "source": [
    "# 백준 8958번\n",
    "Testcase = int(input())\n",
    "# 처음 점수(score)는 0이고, 첫 문제 배점(points)은 1이다.\n",
    "# O가 나오면 배점인 points를 score에 더하고 다음 문제의 points를 1 올린다.\n",
    "# X가 나오면 score를 유지하고 배점인 points를 1로 만들어서 다음 문제의 배점을 1로 만든다.\n",
    "# 반복은 OX로 구성된 문자열의 길이만큼 반복한다.\n",
    "# 최종적으로 for문 바깥에서 스코어를 출력한다.\n",
    "# 이 전 과정을 Testcase 값만큼 반복한다.\n",
    "for i in range(0, Testcase, 1):\n",
    "    quiz_result = input()\n",
    "    score = 0\n",
    "    points = 1\n",
    "    for j in range(0, len(quiz_result), 1):\n",
    "        if quiz_result[j] == 'O':\n",
    "            score += points\n",
    "            points += 1\n",
    "        else:\n",
    "            points = 1\n",
    "    print(score)\n"
   ]
  },
  {
   "cell_type": "code",
   "execution_count": null,
   "metadata": {},
   "outputs": [
    {
     "name": "stdout",
     "output_type": "stream",
     "text": [
      "0 1 2 3 -1 -1 -1 -1 -1 -1 -1 -1 -1 -1 -1 -1 -1 -1 -1 -1 -1 -1 -1 -1 -1 -1\n"
     ]
    }
   ],
   "source": [
    "# 백준 10809번\n",
    "# 문자열 S를 입력받는다\n",
    "# mylist = []로 값을 추가 받을 빈 리스트를 만든다.\n",
    "# 아스키 코드로 a~z까지 i값이 1씩 증가하며 반복하는 for문을 만든다\n",
    "# 알파벳으로 넣으면 for문이 작동되지 않는것을 확인했고\n",
    "# 아스키코드 a~z를 10진수로 변환해서 97~122까지(123이전까지) 반복되게 변환\n",
    "# mylist.append(S.find(str(chr(i)))))를 통해\n",
    "# chr()로 10진수가 들어간 i값을 아스키코드 알파벳으로 만들고\n",
    "# str()로 위 알파벳을 문자열로 만들어서 find 함수를 적용하고\n",
    "# 빈 리스트에 find 함수 값을 리스트의 원소로 추가한다.\n",
    "# print(*mylist)로 대괄호[]가 제거된 mylist의 원소들을 한줄에 출력한다.\n",
    "S = input()\n",
    "mylist = []\n",
    "for i in range(97, 123, 1):\n",
    "    mylist.append(S.find(str(chr(i))))\n",
    "print(*mylist)\n"
   ]
  },
  {
   "cell_type": "code",
   "execution_count": null,
   "metadata": {},
   "outputs": [
    {
     "name": "stdout",
     "output_type": "stream",
     "text": [
      "A\n"
     ]
    }
   ],
   "source": [
    "# 백준 1157번\n",
    "string = input().upper()\n",
    "count_list = [0 for i in range(26)]\n",
    "max_list = [0]\n",
    "for i in range(65, 91, 1):\n",
    "    for j in range(0, len(string), 1):\n",
    "        if string[j] == chr(i):\n",
    "            count_list[i-65] += 1\n",
    "for k in range(0, 26, 1):\n",
    "    if count_list[k] > max_list[0]:\n",
    "        max_list.clear()\n",
    "        max_list.append(count_list[k])\n",
    "    elif count_list[k] == max_list[0]:\n",
    "        max_list.append(count_list[k])\n",
    "if len(max_list) == 1:\n",
    "    print(chr(count_list.index(max_list[0])+65))\n",
    "else:\n",
    "    print(\"?\")"
   ]
  },
  {
   "cell_type": "code",
   "execution_count": null,
   "metadata": {},
   "outputs": [
    {
     "name": "stdout",
     "output_type": "stream",
     "text": [
      "joonas??!\n"
     ]
    }
   ],
   "source": [
    "# 백준 10926번\n",
    "existID = input()\n",
    "print(existID + \"??!\")"
   ]
  },
  {
   "cell_type": "code",
   "execution_count": null,
   "metadata": {},
   "outputs": [
    {
     "name": "stdout",
     "output_type": "stream",
     "text": [
      "1998\n",
      "1998\n"
     ]
    }
   ],
   "source": [
    "# 백준 18108번\n",
    "bulki_year = int(input())\n",
    "print(bulki_year - 543)"
   ]
  },
  {
   "cell_type": "code",
   "execution_count": null,
   "metadata": {},
   "outputs": [
    {
     "name": "stdout",
     "output_type": "stream",
     "text": [
      "1\n",
      "1\n",
      "0\n",
      "0\n"
     ]
    }
   ],
   "source": [
    "# 백준 10430번\n",
    "A, B, C = map(int, input().split())\n",
    "print((A+B)%C)\n",
    "print(((A%C)+(B%C))%C)\n",
    "print((A*B)%C)\n",
    "print(((A%C)*(B%C))%C)"
   ]
  },
  {
   "cell_type": "code",
   "execution_count": null,
   "metadata": {},
   "outputs": [
    {
     "name": "stdout",
     "output_type": "stream",
     "text": [
      "2360\n",
      "3776\n",
      "1416\n",
      "181720\n"
     ]
    }
   ],
   "source": [
    "# 백준 2588번\n",
    "# 10으로 나눈 나머지는 1의 자리\n",
    "# 100으로 나눈 나머지에서 10으로 나눈 나머지를 빼면 10의 자리\n",
    "# 1000으로 나눈 나머지에서 100으로 나눈 나머지를 빼면 10의 자리\n",
    "num1 = int(input())\n",
    "num2 = int(input())\n",
    "print(num1*(num2%10))\n",
    "print(num1*((num2%100 - num2%10)//10))\n",
    "print(num1*((num2%1000 - num2%100))//100)\n",
    "print(num1*num2)"
   ]
  },
  {
   "cell_type": "code",
   "execution_count": null,
   "metadata": {},
   "outputs": [
    {
     "name": "stdout",
     "output_type": "stream",
     "text": [
      "1 11\n"
     ]
    }
   ],
   "source": [
    "# 백준 2525번\n",
    "A, B = map(int, input().split())\n",
    "C = int(input())\n",
    "if A + (B+C)//60 <= 23:\n",
    "    if B+C > 60:\n",
    "        A += (B+C)//60\n",
    "        B = (B+C)%60\n",
    "    elif B+C == 60:\n",
    "        A += (B+C)//60\n",
    "        B = (B+C)%60\n",
    "    else:\n",
    "        B += C\n",
    "else:\n",
    "    A += (B+C)//60 - 24\n",
    "    B = (B+C)%60\n",
    "print(A, B)"
   ]
  },
  {
   "cell_type": "code",
   "execution_count": null,
   "metadata": {},
   "outputs": [
    {
     "name": "stdout",
     "output_type": "stream",
     "text": [
      "600\n"
     ]
    }
   ],
   "source": [
    "\n",
    "# 백준 2480번\n",
    "# 같은 눈이 3개면 1만원 + 같은눈숫자*1000원\n",
    "# 같은 눈이 2개면 1천원 + 같은눈숫자*100원\n",
    "# 모두 다른 눈이 나오면 가장큰눈*100원\n",
    "dice_result = list(map(int, input().split()))\n",
    "if dice_result[0] == dice_result[1] and dice_result[1] == dice_result[2]:\n",
    "    print(10000 + dice_result[0]*1000)\n",
    "elif dice_result[0] == dice_result[1]:\n",
    "    print(1000 + dice_result[0]*100)\n",
    "elif dice_result[0] == dice_result[2]:\n",
    "    print(1000 + dice_result[0]*100)\n",
    "elif dice_result[1] == dice_result[2]:\n",
    "    print(1000 + dice_result[1]*100)\n",
    "else:\n",
    "    if dice_result[0] > dice_result[1] and dice_result[0] > dice_result[2]:\n",
    "        print(dice_result[0]*100)\n",
    "    elif dice_result[1] > dice_result[0] and dice_result[1] > dice_result[2]:\n",
    "        print(dice_result[1]*100)\n",
    "    else:\n",
    "        print(dice_result[2]*100)"
   ]
  },
  {
   "cell_type": "code",
   "execution_count": null,
   "metadata": {},
   "outputs": [
    {
     "name": "stdout",
     "output_type": "stream",
     "text": [
      "6\n"
     ]
    }
   ],
   "source": [
    "# 백준 8393번\n",
    "n = int(input())\n",
    "sum = 0\n",
    "for i in range(1, n+1, 1):\n",
    "    sum += i\n",
    "print(sum)"
   ]
  },
  {
   "cell_type": "code",
   "execution_count": null,
   "metadata": {},
   "outputs": [
    {
     "name": "stdout",
     "output_type": "stream",
     "text": [
      "No\n"
     ]
    }
   ],
   "source": [
    "# 백준 25304번\n",
    "# X는 총 금액\n",
    "# N은 구매한 물건의 종류의 수\n",
    "# a는 각 물건의 가격, b는 물건의 개수\n",
    "X = int(input())\n",
    "N = int(input())\n",
    "sum = 0\n",
    "for i in range(0, N, 1):\n",
    "    a, b = map(int, input().split())\n",
    "    sum += a*b\n",
    "if sum == X:\n",
    "    print(\"Yes\")\n",
    "else:\n",
    "    print(\"No\")"
   ]
  },
  {
   "cell_type": "code",
   "execution_count": null,
   "metadata": {},
   "outputs": [
    {
     "name": "stdout",
     "output_type": "stream",
     "text": [
      "long int\n"
     ]
    }
   ],
   "source": [
    "# 백준 25314번\n",
    "# 4의 배수 정수 N을 입력받는다\n",
    "# N을 4로 나눈 몫의 수만큼 long이 출력된다.\n",
    "N = int(input())\n",
    "print('long '*(N//4)+'int')\n"
   ]
  },
  {
   "cell_type": "code",
   "execution_count": null,
   "metadata": {},
   "outputs": [
    {
     "name": "stdout",
     "output_type": "stream",
     "text": [
      "Case #1: 2\n",
      "Case #2: 5\n",
      "Case #3: 7\n",
      "Case #4: 17\n",
      "Case #5: 7\n"
     ]
    }
   ],
   "source": [
    "# 백준 11021번\n",
    "Testcase = int(input())\n",
    "for i in range(0, Testcase, 1):\n",
    "    A, B = map(int, input().split())\n",
    "    print(\"Case #%d: %d\" % (i+1, A+B))"
   ]
  },
  {
   "cell_type": "code",
   "execution_count": null,
   "metadata": {},
   "outputs": [
    {
     "name": "stdout",
     "output_type": "stream",
     "text": [
      "case #1: 1 + 1 = 2\n",
      "case #2: 2 + 3 = 5\n",
      "case #3: 3 + 4 = 7\n",
      "case #4: 9 + 8 = 17\n",
      "case #5: 5 + 2 = 7\n"
     ]
    }
   ],
   "source": [
    "# 백준 11022번\n",
    "Testcase = int(input())\n",
    "for i in range(0, Testcase, 1):\n",
    "    A, B = map(int, input().split())\n",
    "    print(\"Case #%d: %d + %d = %d\" % (i+1, A, B, A+B))"
   ]
  },
  {
   "cell_type": "code",
   "execution_count": null,
   "metadata": {},
   "outputs": [
    {
     "name": "stdout",
     "output_type": "stream",
     "text": [
      "1 2 1 1 0\n"
     ]
    }
   ],
   "source": [
    "# 백준 10810번\n",
    "# 바구니는 1번부터 N번까지 번호가 매겨지고 1번부터 N번까지 번호가 매겨진 공이 많음\n",
    "# 도현이는 앞으로 공을 M번 넣으려고 한다.\n",
    "# 한번 공을 넣을때 공을 넣을 바구니 범위를 정하고, 정한 바구니에 모두 같은 번호의 공을 넣는다.\n",
    "# 공이 이미 있는 바구니는 공을 빼고 새로 공을 넣는다.\n",
    "# 공을 넣을 바구니는 연속되어 있어야 한다.\n",
    "# i번 바구니부터 j번 바구니까지 k 값을 넣는다\n",
    "N, M = map(int, input().split())\n",
    "basket_list = [0 for i in range(N)]\n",
    "for p in range(0, M, 1):\n",
    "    i, j, k = map(int, input().split())\n",
    "    for r in range(i-1, j, 1):\n",
    "        basket_list[r] = k\n",
    "print(*basket_list)\n"
   ]
  },
  {
   "cell_type": "code",
   "execution_count": null,
   "metadata": {},
   "outputs": [
    {
     "name": "stdout",
     "output_type": "stream",
     "text": [
      "3 1 4 2 5\n"
     ]
    }
   ],
   "source": [
    "# 백준 10813번\n",
    "# 바구니는 1번부터 N번까지 번호가 매겨지고 바구니에는 공이 1개씩 들어있다.\n",
    "# 처음에는 바구니에 적혀있는 번호와 같은 번호가 적힌 공이 들어있다.\n",
    "# 도현이는 앞으로 M번 공을 바꾼다. 공을 바꿀 바구니 2개를 선택하고, 공을 서로 교환한다.\n",
    "# i번 바구니와 j번 바구니에 들어있는 공을 교환한다.\n",
    "N, M = map(int, input().split())\n",
    "basket_list = [0 for i in range(N)]\n",
    "for p in range(0, N, 1):\n",
    "    basket_list[p] = p+1\n",
    "for r in range(0, M, 1):\n",
    "    i, j = map(int, input().split())\n",
    "    basket_list[i-1], basket_list[j-1] = basket_list[j-1], basket_list[i-1]\n",
    "print(*basket_list)"
   ]
  },
  {
   "cell_type": "code",
   "execution_count": null,
   "metadata": {},
   "outputs": [
    {
     "name": "stdout",
     "output_type": "stream",
     "text": [
      "3 4 1 2 5\n"
     ]
    }
   ],
   "source": [
    "# 백준 10811번\n",
    "# 바구니는 1번부터 N번까지 번호가 매겨지고 순서대로 놓여져있다.\n",
    "# 도현이는 역순으로 만들 범위를 정하고 바구니를 범위만큼 역순으로 만드는걸 M번한다.\n",
    "# i번째 바구니부터 j번째 바구니까지 순서를 역순으로 만든다.\n",
    "# 역순으로 만들때는 reversed(list)를 사용한다.\n",
    "N, M = map(int, input().split())\n",
    "basket_list = [0 for i in range(N)]\n",
    "for p in range(0, N, 1):\n",
    "    basket_list[p] = p+1\n",
    "for r in range(0, M, 1):\n",
    "    i, j = map(int, input().split())\n",
    "    basket_list[i-1:j] = reversed(basket_list[i-1:j])\n",
    "print(*basket_list)"
   ]
  },
  {
   "cell_type": "code",
   "execution_count": null,
   "metadata": {},
   "outputs": [
    {
     "name": "stdout",
     "output_type": "stream",
     "text": [
      "55.55555555555556\n"
     ]
    }
   ],
   "source": [
    "# 백준 1546번\n",
    "# 세준이의 점수 최댓값은 M\n",
    "# 세준이가 고친 점수 \n",
    "# 시험 본 과목의 개수 N이고 N <=1000\n",
    "# 세준이의 현재 성적은 입력받는다\n",
    "N = int(input())\n",
    "score_list = [0 for i in range(N)]\n",
    "score_list = list(map(int, input().split()))\n",
    "M = score_list[0]\n",
    "sum = 0\n",
    "for i in range(0, N, 1):\n",
    "    if score_list[i] >= M:\n",
    "        M = score_list[i]\n",
    "for j in range(0, N, 1):\n",
    "    sum += (score_list[j]/M)*100\n",
    "newavg = sum/N\n",
    "print(newavg)"
   ]
  },
  {
   "cell_type": "code",
   "execution_count": null,
   "metadata": {},
   "outputs": [
    {
     "name": "stdout",
     "output_type": "stream",
     "text": [
      "954\n"
     ]
    }
   ],
   "source": [
    "# 백준 2908번\n",
    "A, B = map(int, input().split())\n",
    "reversed_A = \"\".join(reversed(str(A)))\n",
    "reversed_B = \"\".join(reversed(str(B)))\n",
    "if int(reversed_A) > int(reversed_B):\n",
    "    print(reversed_A)\n",
    "elif int(reversed_A) == int(reversed_B):\n",
    "    print(reversed_A)\n",
    "else:\n",
    "    print(reversed_B)"
   ]
  },
  {
   "cell_type": "code",
   "execution_count": null,
   "metadata": {},
   "outputs": [
    {
     "name": "stdout",
     "output_type": "stream",
     "text": [
      "1 0 0 0 0 1\n"
     ]
    }
   ],
   "source": [
    "# 백준 3003번\n",
    "numbering_list = list(map(int, input().split()))\n",
    "chesspiece = [1, 1, 2, 2, 2, 8]\n",
    "answer_list = [0 for i in range(6)]\n",
    "for i in range(0, 6, 1):\n",
    "    answer_list[i] = chesspiece[i] - numbering_list[i]\n",
    "print(*answer_list)\n"
   ]
  },
  {
   "cell_type": "code",
   "execution_count": null,
   "metadata": {},
   "outputs": [
    {
     "name": "stdout",
     "output_type": "stream",
     "text": [
      "    *\n",
      "   ***\n",
      "  *****\n",
      " *******\n",
      "*********\n",
      " *******\n",
      "  *****\n",
      "   ***\n",
      "    *\n"
     ]
    }
   ],
   "source": [
    "# 백준 2444번\n",
    "# 2*N-1번째 줄까지 차례대로 별을 출력한다.\n",
    "# 별의 개수 > 2*N-1 일때는 별의 개수가 2개씩 줄어든다.\n",
    "N = int(input())\n",
    "for i in range(1, N+1, 1):\n",
    "    print(\" \"*(N-i)+\"*\"*(2*i-1))\n",
    "for j in range(N, 1, -1):\n",
    "    print(\" \"*(N-j+1)+\"*\"*(2*j-3))\n",
    "\n",
    "    "
   ]
  },
  {
   "cell_type": "code",
   "execution_count": null,
   "metadata": {},
   "outputs": [
    {
     "name": "stdout",
     "output_type": "stream",
     "text": [
      "0\n"
     ]
    }
   ],
   "source": [
    "# 백준 10988번\n",
    "word = input()\n",
    "reversed_word = \"\".join(reversed(str(word)))\n",
    "if word == reversed_word:\n",
    "    print(1)\n",
    "else:\n",
    "    print(0)\n"
   ]
  },
  {
   "cell_type": "code",
   "execution_count": null,
   "metadata": {},
   "outputs": [
    {
     "name": "stdout",
     "output_type": "stream",
     "text": [
      "8\n"
     ]
    }
   ],
   "source": [
    "# 백준 2941번\n",
    "string = input()\n",
    "crocount1 = string.count('c=')\n",
    "crocount2 = string.count('c-')\n",
    "crocount3 = string.count('dz=')\n",
    "crocount4 = string.count('d-')\n",
    "crocount5 = string.count('lj')\n",
    "crocount6 = string.count('nj')\n",
    "crocount7 = string.count('s=')\n",
    "crocount8 = string.count('z=')\n",
    "answer_num = len(string) - crocount1 - crocount2 - crocount3 - crocount4 - crocount5 - crocount6 - crocount7 - crocount8\n",
    "print(answer_num)\n"
   ]
  },
  {
   "cell_type": "code",
   "execution_count": 4,
   "metadata": {},
   "outputs": [
    {
     "name": "stdout",
     "output_type": "stream",
     "text": [
      "90\n",
      "5 7\n"
     ]
    }
   ],
   "source": [
    "# 백준 2566번\n",
    "dimension2_list = [0 for i in range(9)]\n",
    "for i in range(0, 9, 1):\n",
    "    yeol_list = list(map(int, input().split()))\n",
    "    dimension2_list[i] = yeol_list\n",
    "Max = dimension2_list[0][0]\n",
    "for i in range(0, 9, 1):\n",
    "    for j in range(0, 9, 1):\n",
    "        if dimension2_list[i][j] >= Max:\n",
    "            Max = dimension2_list[i][j]\n",
    "            a = i+1\n",
    "            b = j+1\n",
    "print(Max)\n",
    "print(a, b)\n",
    "\n",
    "\n"
   ]
  },
  {
   "cell_type": "code",
   "execution_count": 22,
   "metadata": {},
   "outputs": [
    {
     "name": "stdout",
     "output_type": "stream",
     "text": [
      "Aa0fFBb1gGCc2hHDd3iIEJ\n"
     ]
    }
   ],
   "source": [
    "# 백준 10798번\n",
    "allword_list = [0 for i in range(5)]\n",
    "for i in range(0, 5, 1):\n",
    "    word = input()\n",
    "    oneword_list = [0 for i in range(15)]\n",
    "    for j in range(0, len(word), 1):\n",
    "        oneword_list[j] = word[j]\n",
    "    allword_list[i] = oneword_list[0:15]\n",
    "answer_word = \"\"\n",
    "for i in range(0, 15, 1):\n",
    "    for j in range(0, 5, 1):\n",
    "        if allword_list[j][i] != 0:\n",
    "            answer_word += allword_list[j][i]\n",
    "print(answer_word)"
   ]
  },
  {
   "cell_type": "code",
   "execution_count": 23,
   "metadata": {},
   "outputs": [
    {
     "name": "stdout",
     "output_type": "stream",
     "text": [
      "factor\n",
      "multiple\n",
      "neither\n"
     ]
    }
   ],
   "source": [
    "# 백준 5086번\n",
    "while True:\n",
    "    num1, num2 = map(int, input().split())\n",
    "    if num1 == 0 and num2 == 0:\n",
    "        break\n",
    "    elif num2 % num1 == 0:\n",
    "        print(\"factor\")\n",
    "    elif num1 % num2 == 0:\n",
    "        print(\"multiple\")\n",
    "    else:\n",
    "        print(\"neither\")\n"
   ]
  },
  {
   "cell_type": "code",
   "execution_count": 33,
   "metadata": {},
   "outputs": [
    {
     "name": "stdout",
     "output_type": "stream",
     "text": [
      "25\n"
     ]
    }
   ],
   "source": [
    "# 백준 2501번\n",
    "N, K = map(int, input().split())\n",
    "numlist = [0 for i in range(N)]\n",
    "count = 0\n",
    "for i in range(1, N+1, 1):\n",
    "    if N % i == 0:\n",
    "        count += 1\n",
    "        numlist[count-1] = i\n",
    "print(numlist[K-1])\n"
   ]
  },
  {
   "cell_type": "code",
   "execution_count": 41,
   "metadata": {},
   "outputs": [
    {
     "name": "stdout",
     "output_type": "stream",
     "text": [
      "6 = 1 + 2 + 3\n",
      "12 is NOT perfect.\n",
      "28 = 1 + 2 + 4 + 7 + 14\n",
      "5 is NOT perfect.\n",
      "3 is NOT perfect.\n",
      "5 is NOT perfect.\n",
      "11 is NOT perfect.\n",
      "14 is NOT perfect.\n",
      "9 is NOT perfect.\n",
      "8 is NOT perfect.\n",
      "7 is NOT perfect.\n",
      "24 is NOT perfect.\n",
      "28 = 1 + 2 + 4 + 7 + 14\n",
      "496 = 1 + 2 + 4 + 8 + 16 + 31 + 62 + 124 + 248\n",
      "8128 = 1 + 2 + 4 + 8 + 16 + 32 + 64 + 127 + 254 + 508 + 1016 + 2032 + 4064\n"
     ]
    }
   ],
   "source": [
    "# 백준 9506번\n",
    "while True:\n",
    "    n = int(input())\n",
    "    numlist = [0 for i in range(n)]\n",
    "    count = 0\n",
    "    for i in range(1, n+1, 1):\n",
    "        if n % i == 0:\n",
    "            count += 1\n",
    "            numlist[count-1] = i\n",
    "    sum = 0\n",
    "    for i in range(0, n, 1):\n",
    "        sum += numlist[i]\n",
    "    if n == -1:\n",
    "        break\n",
    "    elif n == sum - n:\n",
    "        a = numlist.index(0)\n",
    "        string = (\"%d = %d\" % (n, numlist[0]))\n",
    "        for j in range(1, a-1, 1):\n",
    "            string += (\" + %d\" % numlist[j])\n",
    "        print(string)\n",
    "    else:\n",
    "        print(\"%d is NOT perfect.\" % n)"
   ]
  },
  {
   "cell_type": "code",
   "execution_count": 50,
   "metadata": {},
   "outputs": [
    {
     "name": "stdout",
     "output_type": "stream",
     "text": [
      "8\n"
     ]
    }
   ],
   "source": [
    "# 백준 1978번\n",
    "N = int(input())\n",
    "numlist = list(map(int, input().split()))\n",
    "prime_count = 0\n",
    "for i in range(0, len(numlist), 1):\n",
    "    measure_count = 0\n",
    "    for j in range(1, numlist[i]+1, 1):\n",
    "        if numlist[i] % j == 0:\n",
    "            measure_count += 1\n",
    "    if measure_count == 2:\n",
    "        prime_count += 1\n",
    "print(prime_count)\n"
   ]
  },
  {
   "cell_type": "code",
   "execution_count": 62,
   "metadata": {},
   "outputs": [
    {
     "name": "stdout",
     "output_type": "stream",
     "text": [
      "-1\n"
     ]
    }
   ],
   "source": [
    "# 백준 2581번\n",
    "M = int(input())\n",
    "N = int(input())\n",
    "prime_list = []\n",
    "for i in range(M, N+1, 1):\n",
    "    measure_count = 0\n",
    "    for j in range(1, i+1, 1):\n",
    "        if i % j == 0:\n",
    "            measure_count += 1\n",
    "    if measure_count == 2:\n",
    "        prime_list.append(i)\n",
    "sum = 0\n",
    "if len(prime_list) != 0:\n",
    "    for i in range(0, len(prime_list), 1):\n",
    "        sum += prime_list[i]\n",
    "    print(sum)\n",
    "    print(prime_list[0])\n",
    "else: \n",
    "    print(-1)\n"
   ]
  },
  {
   "cell_type": "code",
   "execution_count": 75,
   "metadata": {},
   "outputs": [
    {
     "name": "stdout",
     "output_type": "stream",
     "text": [
      "2\n",
      "3\n",
      "3\n",
      "47\n",
      "14593\n"
     ]
    }
   ],
   "source": [
    "# 백준 11653번(에라토스테네스의 체로 소수를 구한 버전)\n",
    "N = int(input())\n",
    "small_numlist = []\n",
    "seive = [True for i in range(N+1)]\n",
    "prime_num_list = []\n",
    "m = int((N+1)**0.5)\n",
    "for i in range(2, m+1, 1):\n",
    "    if seive[i] == True:\n",
    "        for j in range(i+i, N+1, i):\n",
    "            seive[j] = False\n",
    "for i in range(2, N+1, 1):\n",
    "    if seive[i] == True:\n",
    "        prime_num_list.append(i)\n",
    "for i in range(0, len(prime_num_list), 1):\n",
    "    while N % prime_num_list[i] == 0:\n",
    "        N = N // prime_num_list[i]\n",
    "        small_numlist.append(prime_num_list[i])\n",
    "    if N == 1:\n",
    "        break    \n",
    "if len(small_numlist) != 0:\n",
    "    for i in range(0, len(small_numlist), 1):\n",
    "        print(small_numlist[i])\n",
    "    # if N % 소수 == 0:                     # 여기서 소수값이 변화하게끔 for문으로 감싸줘야되고\n",
    "    #   while N % 소수 == 0:\n",
    "    #       N = N // 소수\n",
    "    #       small_numlist.append(소수)\n",
    "    #   if N == 1:\n",
    "    #       break                           # 여기까지 for문에 감싸진다.\n",
    "    # else:\n",
    "    #   break\n",
    "# if len(small_numlist) != 0:   \n",
    "#   for i in range(0, len(small_numlist), 1):\n",
    "#       print(small_numlist[i])\n",
    "        "
   ]
  },
  {
   "cell_type": "code",
   "execution_count": 74,
   "metadata": {},
   "outputs": [
    {
     "name": "stdout",
     "output_type": "stream",
     "text": [
      "2\n",
      "3\n",
      "3\n",
      "47\n",
      "14593\n"
     ]
    }
   ],
   "source": [
    "# 백준 11653번 코드 단순화(N이하의 모든 수로 나눈 버전)\n",
    "N = int(input())\n",
    "small_numlist = []\n",
    "for i in range(2, N+1, 1):\n",
    "    while N % i == 0:\n",
    "        N = N // i\n",
    "        small_numlist.append(i)\n",
    "    if N == 1:\n",
    "        break\n",
    "for i in range(0, len(small_numlist), 1):\n",
    "    print(small_numlist[i])\n",
    "            "
   ]
  },
  {
   "cell_type": "code",
   "execution_count": 32,
   "metadata": {},
   "outputs": [
    {
     "name": "stdout",
     "output_type": "stream",
     "text": [
      "36\n"
     ]
    }
   ],
   "source": [
    "# 백준 5622번\n",
    "# 딕셔너리를 활용해서 key에 문자를 value에 해당 번호를 값으로 넣는다.\n",
    "call_word = input()\n",
    "call_word_list = []\n",
    "dialdict = {'A':2, 'B':2, 'C':2, 'D':3, 'E':3,\n",
    "            'F':3, 'G':4, 'H':4, 'I':4, 'J':5,\n",
    "            'K':5, 'L':5, 'M':6, 'N':6, 'O':6,\n",
    "            'P':7, 'Q':7, 'R':7, 'S':7, 'T':8, \n",
    "            'U':8, 'V':8, 'W':9, 'X':9, 'Y':9, 'Z':9}\n",
    "for i in range(0, len(call_word), 1):\n",
    "    call_word_list.append(call_word[i])\n",
    "time_sum = 0\n",
    "for i in range(0, len(call_word_list), 1):\n",
    "    if call_word_list[i] in dialdict:\n",
    "        time_sum += dialdict[call_word_list[i]] + 1\n",
    "print(time_sum)\n"
   ]
  },
  {
   "cell_type": "code",
   "execution_count": 39,
   "metadata": {},
   "outputs": [
    {
     "name": "stdout",
     "output_type": "stream",
     "text": [
      "2\n"
     ]
    }
   ],
   "source": [
    "# 백준 1316번\n",
    "N = int(input())\n",
    "group_word_count = 0\n",
    "for i in range(0, N, 1):\n",
    "    word = input()\n",
    "    count = 0\n",
    "    for j in range(1, len(word), 1):\n",
    "        if word[j-1] != word[j]:\n",
    "            for k in range(j, len(word), 1):\n",
    "                if word[k] == word[j-1]:\n",
    "                    count += 1\n",
    "                    if count >= 1:\n",
    "                        break\n",
    "\n",
    "        else:\n",
    "            for k in range(j+1, len(word), 1):\n",
    "                if word[k] != word[j]:\n",
    "                    for p in range(k+1, len(word), 1):\n",
    "                        if word[p] == word[j]:\n",
    "                            count += 1\n",
    "                            if count >= 1:\n",
    "                                break\n",
    "    if count == 0:\n",
    "        group_word_count += 1\n",
    "print(group_word_count)\n",
    "                   \n",
    "                \n",
    "\n"
   ]
  },
  {
   "cell_type": "code",
   "execution_count": 3,
   "metadata": {},
   "outputs": [
    {
     "name": "stdout",
     "output_type": "stream",
     "text": [
      "3.2844827586206895\n"
     ]
    }
   ],
   "source": [
    "# 백준 25206번\n",
    "score_sum = 0\n",
    "major_point_sum = 0\n",
    "for i in range(0, 20, 1):\n",
    "    name, score, grade = map(str, input().split())\n",
    "    score = float(score)\n",
    "    if grade == 'A+':\n",
    "        grade = 4.5\n",
    "    elif grade == 'A0':\n",
    "        grade = 4.0\n",
    "    elif grade == 'B+':\n",
    "        grade = 3.5\n",
    "    elif grade == 'B0':\n",
    "        grade = 3.0\n",
    "    elif grade == 'C+':\n",
    "        grade = 2.5\n",
    "    elif grade == 'C0':\n",
    "        grade = 2.0\n",
    "    elif grade == 'D+':\n",
    "        grade = 1.5\n",
    "    elif grade == 'D0':\n",
    "        grade = 1.0\n",
    "    elif grade == 'F':\n",
    "        grade = 0.0\n",
    "    if grade != 'P':\n",
    "        score_sum += score\n",
    "        major_point_sum += grade*score\n",
    "avg = major_point_sum / score_sum\n",
    "print(avg)"
   ]
  },
  {
   "cell_type": "code",
   "execution_count": null,
   "metadata": {},
   "outputs": [],
   "source": [
    "# 백준 2563번(풀다가 막힌 식)\n",
    "# x, y에 각각 3, 7 을 넣으면 3~13, 7~17까지를 채우는 정사각형이 만들어진다.\n",
    "# (3, 7)~(3, 17), (4, 7)~(4, 17), ... , (13, 7)~(13, 17)\n",
    "# 정사각형마다 2차원 리스트를 만든다.\n",
    "# 리스트가 겹치는 부분의 x, y 값을 구하고 그부분의 넓이를 구하기 위해 x*y를 구한다.\n",
    "# 겹치는 부분의 넓이를 (정사각형 개수)*100에서 뺀 값이 최종 결과값이다.\n",
    "# Testcase 개수만큼 리스크가 만들어져야 되는데\n",
    "# 다른 이름의 리스트를 반복문에서 만드는 방법을 모르겠음\n",
    "# 딕셔너리를 쓴다면? 안될 것 같은게 {x:y}에서 key인 x가 같은데 y가 다른 경우가 많음\n",
    "\n",
    "Testcase = int(input)\n",
    "for i in range(0, Testcase, 1):\n",
    "    x, y = map(int, input().split())\n",
    "    squarelist1 = [0 for i in range(121)]\n",
    "    for j in range(0, 11, 1):\n",
    "        for k in range(0, 11, 1):\n",
    "            squarelist1.append([x+j, y+k])\n",
    "for i in range(0, Testcase, 1):\n",
    "    x, y = map(int, input().split())\n",
    "    squarelist2 = [0 for i in range(121)]\n",
    "    for j in range(0, 11, 1):\n",
    "        for k in range(0, 11, 1):\n",
    "            squarelist2.append([x+j, y+k])\n",
    "for i in range(0, Testcase, 1):\n",
    "    x, y = map(int, input().split())\n",
    "    squarelist3 = [0 for i in range(121)]\n",
    "    for j in range(0, 11, 1):\n",
    "        for k in range(0, 11, 1):\n",
    "            squarelist3.append([x+j, y+k])\n",
    "if squarelist1 in squarelist2:\n",
    "\n"
   ]
  },
  {
   "cell_type": "code",
   "execution_count": null,
   "metadata": {},
   "outputs": [],
   "source": [
    "# 백준 2563번(새로운 접근 시도하다 안된다는걸 깨달음)\n",
    "Testcase = int(input)\n",
    "squarelist = [0 for i in range(121*Testcase)]\n",
    "for i in range(0, Testcase, 1):\n",
    "    x, y = map(int, input().split())\n",
    "    for j in range(0, 11, 1):\n",
    "        for k in range(0, 11, 1):\n",
    "            squarelist.append([x+j, y+k])\n",
    "# x, y 뽑는건 Testcase만큼 반복\n",
    "# x, y 뽑힌거에 따라서 (x, y)에에서 x값이 될 것은 고정된채 y 11번 반복\n",
    "# x가 1씩 증가하면서 총 11번 반복할동안 y가 11번 반복하게 for문으로 감싸기\n",
    "# 이런 x,y 만드는 과정을 Testcase만큼 반복\n",
    "\n",
    "# squarelist에서 같은 값 개수를 세서 2개 이상인것들은 겹치는 점이므로\n",
    "# 아 이러면 정사각형이 미친듯이 많이 겹치면 특정 점이 겹치는 횟수가 많아질 수 있어서 \n",
    "# 겹치는 점의 x, y 값의 최솟값과 최대값을 알아내서 넓이를 구하고 빼겠다는 계획이\n",
    "# 몇번 빼야되는지도 고려해야돼서 복잡해지고 코드가 효율적이지 않음.\n",
    "\n"
   ]
  },
  {
   "cell_type": "code",
   "execution_count": 9,
   "metadata": {},
   "outputs": [
    {
     "name": "stdout",
     "output_type": "stream",
     "text": [
      "260\n"
     ]
    }
   ],
   "source": [
    "# 백준 2563번(다른 사람의 답안을 보고 깨달음, 성공)\n",
    "# 흰색 도화지 크기가 가로 100, 세로 100이므로 x는 0~100까지 101개, y도 0~100까지 101개가 가능하다.\n",
    "# 도화지 위에 가로, 세로의 크기가 각각 10인 검정색 정사각형 색종이를 붙인다.\n",
    "# 정사각형 색종이의 넓이는 10*10으로 100인데 가로와 세로의 좌표(점) 개수는 11개씩이다.\n",
    "# 정사각형 색종이의 가장 큰 점인 11번째 점은 다른 색종이와 겹쳐도 면이 겹치지 않으므로 전체 넓이에 지장이 없다.\n",
    "# 따라서 가로 세로의 마지막 점 이전까지 각각 10번씩 반복하면 총 100번 반복하므로 정사각형 색종이의 넓이와 같다.\n",
    "# 위와 같이 총 100번 반복하면서 각 가로 세로에 해당하는 점들의 값에 해당되는 리스트에 1을 저장하면 첫 정사각형에 1이 100개 저장된다.\n",
    "# 다음 정사각형들에서 이전에 나온 정사각형들과 가로 세로에 해당하는 점들의 값이 겹치는 부분이 생기면\n",
    "# 그 부분에 1을 저장해도 1이 한번만 저장한 것처럼 되기 때문에 자동으로 겹치는 부분은 제외된다.\n",
    "# 따라서 1의 개수가 정사각형들이 모였을때 넓이가 된다.\n",
    "Testcase = int(input())\n",
    "white_paper = [[0 for i in range(101)] for j in range(101)]\n",
    "for i in range(0, Testcase, 1):\n",
    "    x, y = map(int, input().split())\n",
    "    for j in range(x, x+10, 1):\n",
    "        for k in range(y, y+10, 1):\n",
    "            white_paper[j][k] = 1\n",
    "width = 0\n",
    "for i in range(0, len(white_paper), 1):\n",
    "    width += white_paper[i].count(1)\n",
    "print(width)\n"
   ]
  },
  {
   "cell_type": "code",
   "execution_count": 5,
   "metadata": {},
   "outputs": [
    {
     "name": "stdout",
     "output_type": "stream",
     "text": [
      "[[0, 0, 0, 0, 0, 0, 0, 0, 0, 0, 0, 0, 0, 0, 0, 0, 0, 0, 0, 0, 0, 0, 0, 0, 0, 0, 0, 0, 0, 0, 0, 0, 0, 0, 0, 0, 0, 0, 0, 0, 0, 0, 0, 0, 0, 0, 0, 0, 0, 0, 0, 0, 0, 0, 0, 0, 0, 0, 0, 0, 0, 0, 0, 0, 0, 0, 0, 0, 0, 0, 0, 0, 0, 0, 0, 0, 0, 0, 0, 0, 0, 0, 0, 0, 0, 0, 0, 0, 0, 0, 0, 0, 0, 0, 0, 0, 0, 0, 0, 0, 0], [0, 0, 0, 0, 0, 0, 0, 0, 0, 0, 0, 0, 0, 0, 0, 0, 0, 0, 0, 0, 0, 0, 0, 0, 0, 0, 0, 0, 0, 0, 0, 0, 0, 0, 0, 0, 0, 0, 0, 0, 0, 0, 0, 0, 0, 0, 0, 0, 0, 0, 0, 0, 0, 0, 0, 0, 0, 0, 0, 0, 0, 0, 0, 0, 0, 0, 0, 0, 0, 0, 0, 0, 0, 0, 0, 0, 0, 0, 0, 0, 0, 0, 0, 0, 0, 0, 0, 0, 0, 0, 0, 0, 0, 0, 0, 0, 0, 0, 0, 0, 0], [0, 0, 0, 0, 0, 0, 0, 0, 0, 0, 0, 0, 0, 0, 0, 0, 0, 0, 0, 0, 0, 0, 0, 0, 0, 0, 0, 0, 0, 0, 0, 0, 0, 0, 0, 0, 0, 0, 0, 0, 0, 0, 0, 0, 0, 0, 0, 0, 0, 0, 0, 0, 0, 0, 0, 0, 0, 0, 0, 0, 0, 0, 0, 0, 0, 0, 0, 0, 0, 0, 0, 0, 0, 0, 0, 0, 0, 0, 0, 0, 0, 0, 0, 0, 0, 0, 0, 0, 0, 0, 0, 0, 0, 0, 0, 0, 0, 0, 0, 0, 0], [0, 0, 0, 0, 0, 0, 0, 1, 1, 1, 1, 1, 1, 1, 1, 1, 1, 0, 0, 0, 0, 0, 0, 0, 0, 0, 0, 0, 0, 0, 0, 0, 0, 0, 0, 0, 0, 0, 0, 0, 0, 0, 0, 0, 0, 0, 0, 0, 0, 0, 0, 0, 0, 0, 0, 0, 0, 0, 0, 0, 0, 0, 0, 0, 0, 0, 0, 0, 0, 0, 0, 0, 0, 0, 0, 0, 0, 0, 0, 0, 0, 0, 0, 0, 0, 0, 0, 0, 0, 0, 0, 0, 0, 0, 0, 0, 0, 0, 0, 0, 0], [0, 0, 0, 0, 0, 0, 0, 1, 1, 1, 1, 1, 1, 1, 1, 1, 1, 0, 0, 0, 0, 0, 0, 0, 0, 0, 0, 0, 0, 0, 0, 0, 0, 0, 0, 0, 0, 0, 0, 0, 0, 0, 0, 0, 0, 0, 0, 0, 0, 0, 0, 0, 0, 0, 0, 0, 0, 0, 0, 0, 0, 0, 0, 0, 0, 0, 0, 0, 0, 0, 0, 0, 0, 0, 0, 0, 0, 0, 0, 0, 0, 0, 0, 0, 0, 0, 0, 0, 0, 0, 0, 0, 0, 0, 0, 0, 0, 0, 0, 0, 0], [0, 0, 1, 1, 1, 1, 1, 1, 1, 1, 1, 1, 1, 1, 1, 1, 1, 0, 0, 0, 0, 0, 0, 0, 0, 0, 0, 0, 0, 0, 0, 0, 0, 0, 0, 0, 0, 0, 0, 0, 0, 0, 0, 0, 0, 0, 0, 0, 0, 0, 0, 0, 0, 0, 0, 0, 0, 0, 0, 0, 0, 0, 0, 0, 0, 0, 0, 0, 0, 0, 0, 0, 0, 0, 0, 0, 0, 0, 0, 0, 0, 0, 0, 0, 0, 0, 0, 0, 0, 0, 0, 0, 0, 0, 0, 0, 0, 0, 0, 0, 0], [0, 0, 1, 1, 1, 1, 1, 1, 1, 1, 1, 1, 1, 1, 1, 1, 1, 0, 0, 0, 0, 0, 0, 0, 0, 0, 0, 0, 0, 0, 0, 0, 0, 0, 0, 0, 0, 0, 0, 0, 0, 0, 0, 0, 0, 0, 0, 0, 0, 0, 0, 0, 0, 0, 0, 0, 0, 0, 0, 0, 0, 0, 0, 0, 0, 0, 0, 0, 0, 0, 0, 0, 0, 0, 0, 0, 0, 0, 0, 0, 0, 0, 0, 0, 0, 0, 0, 0, 0, 0, 0, 0, 0, 0, 0, 0, 0, 0, 0, 0, 0], [0, 0, 1, 1, 1, 1, 1, 1, 1, 1, 1, 1, 1, 1, 1, 1, 1, 0, 0, 0, 0, 0, 0, 0, 0, 0, 0, 0, 0, 0, 0, 0, 0, 0, 0, 0, 0, 0, 0, 0, 0, 0, 0, 0, 0, 0, 0, 0, 0, 0, 0, 0, 0, 0, 0, 0, 0, 0, 0, 0, 0, 0, 0, 0, 0, 0, 0, 0, 0, 0, 0, 0, 0, 0, 0, 0, 0, 0, 0, 0, 0, 0, 0, 0, 0, 0, 0, 0, 0, 0, 0, 0, 0, 0, 0, 0, 0, 0, 0, 0, 0], [0, 0, 1, 1, 1, 1, 1, 1, 1, 1, 1, 1, 1, 1, 1, 1, 1, 0, 0, 0, 0, 0, 0, 0, 0, 0, 0, 0, 0, 0, 0, 0, 0, 0, 0, 0, 0, 0, 0, 0, 0, 0, 0, 0, 0, 0, 0, 0, 0, 0, 0, 0, 0, 0, 0, 0, 0, 0, 0, 0, 0, 0, 0, 0, 0, 0, 0, 0, 0, 0, 0, 0, 0, 0, 0, 0, 0, 0, 0, 0, 0, 0, 0, 0, 0, 0, 0, 0, 0, 0, 0, 0, 0, 0, 0, 0, 0, 0, 0, 0, 0], [0, 0, 1, 1, 1, 1, 1, 1, 1, 1, 1, 1, 1, 1, 1, 1, 1, 0, 0, 0, 0, 0, 0, 0, 0, 0, 0, 0, 0, 0, 0, 0, 0, 0, 0, 0, 0, 0, 0, 0, 0, 0, 0, 0, 0, 0, 0, 0, 0, 0, 0, 0, 0, 0, 0, 0, 0, 0, 0, 0, 0, 0, 0, 0, 0, 0, 0, 0, 0, 0, 0, 0, 0, 0, 0, 0, 0, 0, 0, 0, 0, 0, 0, 0, 0, 0, 0, 0, 0, 0, 0, 0, 0, 0, 0, 0, 0, 0, 0, 0, 0], [0, 0, 1, 1, 1, 1, 1, 1, 1, 1, 1, 1, 1, 1, 1, 1, 1, 0, 0, 0, 0, 0, 0, 0, 0, 0, 0, 0, 0, 0, 0, 0, 0, 0, 0, 0, 0, 0, 0, 0, 0, 0, 0, 0, 0, 0, 0, 0, 0, 0, 0, 0, 0, 0, 0, 0, 0, 0, 0, 0, 0, 0, 0, 0, 0, 0, 0, 0, 0, 0, 0, 0, 0, 0, 0, 0, 0, 0, 0, 0, 0, 0, 0, 0, 0, 0, 0, 0, 0, 0, 0, 0, 0, 0, 0, 0, 0, 0, 0, 0, 0], [0, 0, 1, 1, 1, 1, 1, 1, 1, 1, 1, 1, 1, 1, 1, 1, 1, 0, 0, 0, 0, 0, 0, 0, 0, 0, 0, 0, 0, 0, 0, 0, 0, 0, 0, 0, 0, 0, 0, 0, 0, 0, 0, 0, 0, 0, 0, 0, 0, 0, 0, 0, 0, 0, 0, 0, 0, 0, 0, 0, 0, 0, 0, 0, 0, 0, 0, 0, 0, 0, 0, 0, 0, 0, 0, 0, 0, 0, 0, 0, 0, 0, 0, 0, 0, 0, 0, 0, 0, 0, 0, 0, 0, 0, 0, 0, 0, 0, 0, 0, 0], [0, 0, 1, 1, 1, 1, 1, 1, 1, 1, 1, 1, 1, 1, 1, 1, 1, 0, 0, 0, 0, 0, 0, 0, 0, 0, 0, 0, 0, 0, 0, 0, 0, 0, 0, 0, 0, 0, 0, 0, 0, 0, 0, 0, 0, 0, 0, 0, 0, 0, 0, 0, 0, 0, 0, 0, 0, 0, 0, 0, 0, 0, 0, 0, 0, 0, 0, 0, 0, 0, 0, 0, 0, 0, 0, 0, 0, 0, 0, 0, 0, 0, 0, 0, 0, 0, 0, 0, 0, 0, 0, 0, 0, 0, 0, 0, 0, 0, 0, 0, 0], [0, 0, 1, 1, 1, 1, 1, 1, 1, 1, 1, 1, 0, 0, 0, 0, 0, 0, 0, 0, 0, 0, 0, 0, 0, 0, 0, 0, 0, 0, 0, 0, 0, 0, 0, 0, 0, 0, 0, 0, 0, 0, 0, 0, 0, 0, 0, 0, 0, 0, 0, 0, 0, 0, 0, 0, 0, 0, 0, 0, 0, 0, 0, 0, 0, 0, 0, 0, 0, 0, 0, 0, 0, 0, 0, 0, 0, 0, 0, 0, 0, 0, 0, 0, 0, 0, 0, 0, 0, 0, 0, 0, 0, 0, 0, 0, 0, 0, 0, 0, 0], [0, 0, 1, 1, 1, 1, 1, 1, 1, 1, 1, 1, 0, 0, 0, 0, 0, 0, 0, 0, 0, 0, 0, 0, 0, 0, 0, 0, 0, 0, 0, 0, 0, 0, 0, 0, 0, 0, 0, 0, 0, 0, 0, 0, 0, 0, 0, 0, 0, 0, 0, 0, 0, 0, 0, 0, 0, 0, 0, 0, 0, 0, 0, 0, 0, 0, 0, 0, 0, 0, 0, 0, 0, 0, 0, 0, 0, 0, 0, 0, 0, 0, 0, 0, 0, 0, 0, 0, 0, 0, 0, 0, 0, 0, 0, 0, 0, 0, 0, 0, 0], [0, 0, 0, 0, 0, 0, 0, 1, 1, 1, 1, 1, 1, 1, 1, 1, 1, 0, 0, 0, 0, 0, 0, 0, 0, 0, 0, 0, 0, 0, 0, 0, 0, 0, 0, 0, 0, 0, 0, 0, 0, 0, 0, 0, 0, 0, 0, 0, 0, 0, 0, 0, 0, 0, 0, 0, 0, 0, 0, 0, 0, 0, 0, 0, 0, 0, 0, 0, 0, 0, 0, 0, 0, 0, 0, 0, 0, 0, 0, 0, 0, 0, 0, 0, 0, 0, 0, 0, 0, 0, 0, 0, 0, 0, 0, 0, 0, 0, 0, 0, 0], [0, 0, 0, 0, 0, 0, 0, 1, 1, 1, 1, 1, 1, 1, 1, 1, 1, 0, 0, 0, 0, 0, 0, 0, 0, 0, 0, 0, 0, 0, 0, 0, 0, 0, 0, 0, 0, 0, 0, 0, 0, 0, 0, 0, 0, 0, 0, 0, 0, 0, 0, 0, 0, 0, 0, 0, 0, 0, 0, 0, 0, 0, 0, 0, 0, 0, 0, 0, 0, 0, 0, 0, 0, 0, 0, 0, 0, 0, 0, 0, 0, 0, 0, 0, 0, 0, 0, 0, 0, 0, 0, 0, 0, 0, 0, 0, 0, 0, 0, 0, 0], [0, 0, 0, 0, 0, 0, 0, 1, 1, 1, 1, 1, 1, 1, 1, 1, 1, 0, 0, 0, 0, 0, 0, 0, 0, 0, 0, 0, 0, 0, 0, 0, 0, 0, 0, 0, 0, 0, 0, 0, 0, 0, 0, 0, 0, 0, 0, 0, 0, 0, 0, 0, 0, 0, 0, 0, 0, 0, 0, 0, 0, 0, 0, 0, 0, 0, 0, 0, 0, 0, 0, 0, 0, 0, 0, 0, 0, 0, 0, 0, 0, 0, 0, 0, 0, 0, 0, 0, 0, 0, 0, 0, 0, 0, 0, 0, 0, 0, 0, 0, 0], [0, 0, 0, 0, 0, 0, 0, 1, 1, 1, 1, 1, 1, 1, 1, 1, 1, 0, 0, 0, 0, 0, 0, 0, 0, 0, 0, 0, 0, 0, 0, 0, 0, 0, 0, 0, 0, 0, 0, 0, 0, 0, 0, 0, 0, 0, 0, 0, 0, 0, 0, 0, 0, 0, 0, 0, 0, 0, 0, 0, 0, 0, 0, 0, 0, 0, 0, 0, 0, 0, 0, 0, 0, 0, 0, 0, 0, 0, 0, 0, 0, 0, 0, 0, 0, 0, 0, 0, 0, 0, 0, 0, 0, 0, 0, 0, 0, 0, 0, 0, 0], [0, 0, 0, 0, 0, 0, 0, 1, 1, 1, 1, 1, 1, 1, 1, 1, 1, 0, 0, 0, 0, 0, 0, 0, 0, 0, 0, 0, 0, 0, 0, 0, 0, 0, 0, 0, 0, 0, 0, 0, 0, 0, 0, 0, 0, 0, 0, 0, 0, 0, 0, 0, 0, 0, 0, 0, 0, 0, 0, 0, 0, 0, 0, 0, 0, 0, 0, 0, 0, 0, 0, 0, 0, 0, 0, 0, 0, 0, 0, 0, 0, 0, 0, 0, 0, 0, 0, 0, 0, 0, 0, 0, 0, 0, 0, 0, 0, 0, 0, 0, 0], [0, 0, 0, 0, 0, 0, 0, 1, 1, 1, 1, 1, 1, 1, 1, 1, 1, 0, 0, 0, 0, 0, 0, 0, 0, 0, 0, 0, 0, 0, 0, 0, 0, 0, 0, 0, 0, 0, 0, 0, 0, 0, 0, 0, 0, 0, 0, 0, 0, 0, 0, 0, 0, 0, 0, 0, 0, 0, 0, 0, 0, 0, 0, 0, 0, 0, 0, 0, 0, 0, 0, 0, 0, 0, 0, 0, 0, 0, 0, 0, 0, 0, 0, 0, 0, 0, 0, 0, 0, 0, 0, 0, 0, 0, 0, 0, 0, 0, 0, 0, 0], [0, 0, 0, 0, 0, 0, 0, 1, 1, 1, 1, 1, 1, 1, 1, 1, 1, 0, 0, 0, 0, 0, 0, 0, 0, 0, 0, 0, 0, 0, 0, 0, 0, 0, 0, 0, 0, 0, 0, 0, 0, 0, 0, 0, 0, 0, 0, 0, 0, 0, 0, 0, 0, 0, 0, 0, 0, 0, 0, 0, 0, 0, 0, 0, 0, 0, 0, 0, 0, 0, 0, 0, 0, 0, 0, 0, 0, 0, 0, 0, 0, 0, 0, 0, 0, 0, 0, 0, 0, 0, 0, 0, 0, 0, 0, 0, 0, 0, 0, 0, 0], [0, 0, 0, 0, 0, 0, 0, 1, 1, 1, 1, 1, 1, 1, 1, 1, 1, 0, 0, 0, 0, 0, 0, 0, 0, 0, 0, 0, 0, 0, 0, 0, 0, 0, 0, 0, 0, 0, 0, 0, 0, 0, 0, 0, 0, 0, 0, 0, 0, 0, 0, 0, 0, 0, 0, 0, 0, 0, 0, 0, 0, 0, 0, 0, 0, 0, 0, 0, 0, 0, 0, 0, 0, 0, 0, 0, 0, 0, 0, 0, 0, 0, 0, 0, 0, 0, 0, 0, 0, 0, 0, 0, 0, 0, 0, 0, 0, 0, 0, 0, 0], [0, 0, 0, 0, 0, 0, 0, 1, 1, 1, 1, 1, 1, 1, 1, 1, 1, 0, 0, 0, 0, 0, 0, 0, 0, 0, 0, 0, 0, 0, 0, 0, 0, 0, 0, 0, 0, 0, 0, 0, 0, 0, 0, 0, 0, 0, 0, 0, 0, 0, 0, 0, 0, 0, 0, 0, 0, 0, 0, 0, 0, 0, 0, 0, 0, 0, 0, 0, 0, 0, 0, 0, 0, 0, 0, 0, 0, 0, 0, 0, 0, 0, 0, 0, 0, 0, 0, 0, 0, 0, 0, 0, 0, 0, 0, 0, 0, 0, 0, 0, 0], [0, 0, 0, 0, 0, 0, 0, 1, 1, 1, 1, 1, 1, 1, 1, 1, 1, 0, 0, 0, 0, 0, 0, 0, 0, 0, 0, 0, 0, 0, 0, 0, 0, 0, 0, 0, 0, 0, 0, 0, 0, 0, 0, 0, 0, 0, 0, 0, 0, 0, 0, 0, 0, 0, 0, 0, 0, 0, 0, 0, 0, 0, 0, 0, 0, 0, 0, 0, 0, 0, 0, 0, 0, 0, 0, 0, 0, 0, 0, 0, 0, 0, 0, 0, 0, 0, 0, 0, 0, 0, 0, 0, 0, 0, 0, 0, 0, 0, 0, 0, 0], [0, 0, 0, 0, 0, 0, 0, 0, 0, 0, 0, 0, 0, 0, 0, 0, 0, 0, 0, 0, 0, 0, 0, 0, 0, 0, 0, 0, 0, 0, 0, 0, 0, 0, 0, 0, 0, 0, 0, 0, 0, 0, 0, 0, 0, 0, 0, 0, 0, 0, 0, 0, 0, 0, 0, 0, 0, 0, 0, 0, 0, 0, 0, 0, 0, 0, 0, 0, 0, 0, 0, 0, 0, 0, 0, 0, 0, 0, 0, 0, 0, 0, 0, 0, 0, 0, 0, 0, 0, 0, 0, 0, 0, 0, 0, 0, 0, 0, 0, 0, 0], [0, 0, 0, 0, 0, 0, 0, 0, 0, 0, 0, 0, 0, 0, 0, 0, 0, 0, 0, 0, 0, 0, 0, 0, 0, 0, 0, 0, 0, 0, 0, 0, 0, 0, 0, 0, 0, 0, 0, 0, 0, 0, 0, 0, 0, 0, 0, 0, 0, 0, 0, 0, 0, 0, 0, 0, 0, 0, 0, 0, 0, 0, 0, 0, 0, 0, 0, 0, 0, 0, 0, 0, 0, 0, 0, 0, 0, 0, 0, 0, 0, 0, 0, 0, 0, 0, 0, 0, 0, 0, 0, 0, 0, 0, 0, 0, 0, 0, 0, 0, 0], [0, 0, 0, 0, 0, 0, 0, 0, 0, 0, 0, 0, 0, 0, 0, 0, 0, 0, 0, 0, 0, 0, 0, 0, 0, 0, 0, 0, 0, 0, 0, 0, 0, 0, 0, 0, 0, 0, 0, 0, 0, 0, 0, 0, 0, 0, 0, 0, 0, 0, 0, 0, 0, 0, 0, 0, 0, 0, 0, 0, 0, 0, 0, 0, 0, 0, 0, 0, 0, 0, 0, 0, 0, 0, 0, 0, 0, 0, 0, 0, 0, 0, 0, 0, 0, 0, 0, 0, 0, 0, 0, 0, 0, 0, 0, 0, 0, 0, 0, 0, 0], [0, 0, 0, 0, 0, 0, 0, 0, 0, 0, 0, 0, 0, 0, 0, 0, 0, 0, 0, 0, 0, 0, 0, 0, 0, 0, 0, 0, 0, 0, 0, 0, 0, 0, 0, 0, 0, 0, 0, 0, 0, 0, 0, 0, 0, 0, 0, 0, 0, 0, 0, 0, 0, 0, 0, 0, 0, 0, 0, 0, 0, 0, 0, 0, 0, 0, 0, 0, 0, 0, 0, 0, 0, 0, 0, 0, 0, 0, 0, 0, 0, 0, 0, 0, 0, 0, 0, 0, 0, 0, 0, 0, 0, 0, 0, 0, 0, 0, 0, 0, 0], [0, 0, 0, 0, 0, 0, 0, 0, 0, 0, 0, 0, 0, 0, 0, 0, 0, 0, 0, 0, 0, 0, 0, 0, 0, 0, 0, 0, 0, 0, 0, 0, 0, 0, 0, 0, 0, 0, 0, 0, 0, 0, 0, 0, 0, 0, 0, 0, 0, 0, 0, 0, 0, 0, 0, 0, 0, 0, 0, 0, 0, 0, 0, 0, 0, 0, 0, 0, 0, 0, 0, 0, 0, 0, 0, 0, 0, 0, 0, 0, 0, 0, 0, 0, 0, 0, 0, 0, 0, 0, 0, 0, 0, 0, 0, 0, 0, 0, 0, 0, 0], [0, 0, 0, 0, 0, 0, 0, 0, 0, 0, 0, 0, 0, 0, 0, 0, 0, 0, 0, 0, 0, 0, 0, 0, 0, 0, 0, 0, 0, 0, 0, 0, 0, 0, 0, 0, 0, 0, 0, 0, 0, 0, 0, 0, 0, 0, 0, 0, 0, 0, 0, 0, 0, 0, 0, 0, 0, 0, 0, 0, 0, 0, 0, 0, 0, 0, 0, 0, 0, 0, 0, 0, 0, 0, 0, 0, 0, 0, 0, 0, 0, 0, 0, 0, 0, 0, 0, 0, 0, 0, 0, 0, 0, 0, 0, 0, 0, 0, 0, 0, 0], [0, 0, 0, 0, 0, 0, 0, 0, 0, 0, 0, 0, 0, 0, 0, 0, 0, 0, 0, 0, 0, 0, 0, 0, 0, 0, 0, 0, 0, 0, 0, 0, 0, 0, 0, 0, 0, 0, 0, 0, 0, 0, 0, 0, 0, 0, 0, 0, 0, 0, 0, 0, 0, 0, 0, 0, 0, 0, 0, 0, 0, 0, 0, 0, 0, 0, 0, 0, 0, 0, 0, 0, 0, 0, 0, 0, 0, 0, 0, 0, 0, 0, 0, 0, 0, 0, 0, 0, 0, 0, 0, 0, 0, 0, 0, 0, 0, 0, 0, 0, 0], [0, 0, 0, 0, 0, 0, 0, 0, 0, 0, 0, 0, 0, 0, 0, 0, 0, 0, 0, 0, 0, 0, 0, 0, 0, 0, 0, 0, 0, 0, 0, 0, 0, 0, 0, 0, 0, 0, 0, 0, 0, 0, 0, 0, 0, 0, 0, 0, 0, 0, 0, 0, 0, 0, 0, 0, 0, 0, 0, 0, 0, 0, 0, 0, 0, 0, 0, 0, 0, 0, 0, 0, 0, 0, 0, 0, 0, 0, 0, 0, 0, 0, 0, 0, 0, 0, 0, 0, 0, 0, 0, 0, 0, 0, 0, 0, 0, 0, 0, 0, 0], [0, 0, 0, 0, 0, 0, 0, 0, 0, 0, 0, 0, 0, 0, 0, 0, 0, 0, 0, 0, 0, 0, 0, 0, 0, 0, 0, 0, 0, 0, 0, 0, 0, 0, 0, 0, 0, 0, 0, 0, 0, 0, 0, 0, 0, 0, 0, 0, 0, 0, 0, 0, 0, 0, 0, 0, 0, 0, 0, 0, 0, 0, 0, 0, 0, 0, 0, 0, 0, 0, 0, 0, 0, 0, 0, 0, 0, 0, 0, 0, 0, 0, 0, 0, 0, 0, 0, 0, 0, 0, 0, 0, 0, 0, 0, 0, 0, 0, 0, 0, 0], [0, 0, 0, 0, 0, 0, 0, 0, 0, 0, 0, 0, 0, 0, 0, 0, 0, 0, 0, 0, 0, 0, 0, 0, 0, 0, 0, 0, 0, 0, 0, 0, 0, 0, 0, 0, 0, 0, 0, 0, 0, 0, 0, 0, 0, 0, 0, 0, 0, 0, 0, 0, 0, 0, 0, 0, 0, 0, 0, 0, 0, 0, 0, 0, 0, 0, 0, 0, 0, 0, 0, 0, 0, 0, 0, 0, 0, 0, 0, 0, 0, 0, 0, 0, 0, 0, 0, 0, 0, 0, 0, 0, 0, 0, 0, 0, 0, 0, 0, 0, 0], [0, 0, 0, 0, 0, 0, 0, 0, 0, 0, 0, 0, 0, 0, 0, 0, 0, 0, 0, 0, 0, 0, 0, 0, 0, 0, 0, 0, 0, 0, 0, 0, 0, 0, 0, 0, 0, 0, 0, 0, 0, 0, 0, 0, 0, 0, 0, 0, 0, 0, 0, 0, 0, 0, 0, 0, 0, 0, 0, 0, 0, 0, 0, 0, 0, 0, 0, 0, 0, 0, 0, 0, 0, 0, 0, 0, 0, 0, 0, 0, 0, 0, 0, 0, 0, 0, 0, 0, 0, 0, 0, 0, 0, 0, 0, 0, 0, 0, 0, 0, 0], [0, 0, 0, 0, 0, 0, 0, 0, 0, 0, 0, 0, 0, 0, 0, 0, 0, 0, 0, 0, 0, 0, 0, 0, 0, 0, 0, 0, 0, 0, 0, 0, 0, 0, 0, 0, 0, 0, 0, 0, 0, 0, 0, 0, 0, 0, 0, 0, 0, 0, 0, 0, 0, 0, 0, 0, 0, 0, 0, 0, 0, 0, 0, 0, 0, 0, 0, 0, 0, 0, 0, 0, 0, 0, 0, 0, 0, 0, 0, 0, 0, 0, 0, 0, 0, 0, 0, 0, 0, 0, 0, 0, 0, 0, 0, 0, 0, 0, 0, 0, 0], [0, 0, 0, 0, 0, 0, 0, 0, 0, 0, 0, 0, 0, 0, 0, 0, 0, 0, 0, 0, 0, 0, 0, 0, 0, 0, 0, 0, 0, 0, 0, 0, 0, 0, 0, 0, 0, 0, 0, 0, 0, 0, 0, 0, 0, 0, 0, 0, 0, 0, 0, 0, 0, 0, 0, 0, 0, 0, 0, 0, 0, 0, 0, 0, 0, 0, 0, 0, 0, 0, 0, 0, 0, 0, 0, 0, 0, 0, 0, 0, 0, 0, 0, 0, 0, 0, 0, 0, 0, 0, 0, 0, 0, 0, 0, 0, 0, 0, 0, 0, 0], [0, 0, 0, 0, 0, 0, 0, 0, 0, 0, 0, 0, 0, 0, 0, 0, 0, 0, 0, 0, 0, 0, 0, 0, 0, 0, 0, 0, 0, 0, 0, 0, 0, 0, 0, 0, 0, 0, 0, 0, 0, 0, 0, 0, 0, 0, 0, 0, 0, 0, 0, 0, 0, 0, 0, 0, 0, 0, 0, 0, 0, 0, 0, 0, 0, 0, 0, 0, 0, 0, 0, 0, 0, 0, 0, 0, 0, 0, 0, 0, 0, 0, 0, 0, 0, 0, 0, 0, 0, 0, 0, 0, 0, 0, 0, 0, 0, 0, 0, 0, 0], [0, 0, 0, 0, 0, 0, 0, 0, 0, 0, 0, 0, 0, 0, 0, 0, 0, 0, 0, 0, 0, 0, 0, 0, 0, 0, 0, 0, 0, 0, 0, 0, 0, 0, 0, 0, 0, 0, 0, 0, 0, 0, 0, 0, 0, 0, 0, 0, 0, 0, 0, 0, 0, 0, 0, 0, 0, 0, 0, 0, 0, 0, 0, 0, 0, 0, 0, 0, 0, 0, 0, 0, 0, 0, 0, 0, 0, 0, 0, 0, 0, 0, 0, 0, 0, 0, 0, 0, 0, 0, 0, 0, 0, 0, 0, 0, 0, 0, 0, 0, 0], [0, 0, 0, 0, 0, 0, 0, 0, 0, 0, 0, 0, 0, 0, 0, 0, 0, 0, 0, 0, 0, 0, 0, 0, 0, 0, 0, 0, 0, 0, 0, 0, 0, 0, 0, 0, 0, 0, 0, 0, 0, 0, 0, 0, 0, 0, 0, 0, 0, 0, 0, 0, 0, 0, 0, 0, 0, 0, 0, 0, 0, 0, 0, 0, 0, 0, 0, 0, 0, 0, 0, 0, 0, 0, 0, 0, 0, 0, 0, 0, 0, 0, 0, 0, 0, 0, 0, 0, 0, 0, 0, 0, 0, 0, 0, 0, 0, 0, 0, 0, 0], [0, 0, 0, 0, 0, 0, 0, 0, 0, 0, 0, 0, 0, 0, 0, 0, 0, 0, 0, 0, 0, 0, 0, 0, 0, 0, 0, 0, 0, 0, 0, 0, 0, 0, 0, 0, 0, 0, 0, 0, 0, 0, 0, 0, 0, 0, 0, 0, 0, 0, 0, 0, 0, 0, 0, 0, 0, 0, 0, 0, 0, 0, 0, 0, 0, 0, 0, 0, 0, 0, 0, 0, 0, 0, 0, 0, 0, 0, 0, 0, 0, 0, 0, 0, 0, 0, 0, 0, 0, 0, 0, 0, 0, 0, 0, 0, 0, 0, 0, 0, 0], [0, 0, 0, 0, 0, 0, 0, 0, 0, 0, 0, 0, 0, 0, 0, 0, 0, 0, 0, 0, 0, 0, 0, 0, 0, 0, 0, 0, 0, 0, 0, 0, 0, 0, 0, 0, 0, 0, 0, 0, 0, 0, 0, 0, 0, 0, 0, 0, 0, 0, 0, 0, 0, 0, 0, 0, 0, 0, 0, 0, 0, 0, 0, 0, 0, 0, 0, 0, 0, 0, 0, 0, 0, 0, 0, 0, 0, 0, 0, 0, 0, 0, 0, 0, 0, 0, 0, 0, 0, 0, 0, 0, 0, 0, 0, 0, 0, 0, 0, 0, 0], [0, 0, 0, 0, 0, 0, 0, 0, 0, 0, 0, 0, 0, 0, 0, 0, 0, 0, 0, 0, 0, 0, 0, 0, 0, 0, 0, 0, 0, 0, 0, 0, 0, 0, 0, 0, 0, 0, 0, 0, 0, 0, 0, 0, 0, 0, 0, 0, 0, 0, 0, 0, 0, 0, 0, 0, 0, 0, 0, 0, 0, 0, 0, 0, 0, 0, 0, 0, 0, 0, 0, 0, 0, 0, 0, 0, 0, 0, 0, 0, 0, 0, 0, 0, 0, 0, 0, 0, 0, 0, 0, 0, 0, 0, 0, 0, 0, 0, 0, 0, 0], [0, 0, 0, 0, 0, 0, 0, 0, 0, 0, 0, 0, 0, 0, 0, 0, 0, 0, 0, 0, 0, 0, 0, 0, 0, 0, 0, 0, 0, 0, 0, 0, 0, 0, 0, 0, 0, 0, 0, 0, 0, 0, 0, 0, 0, 0, 0, 0, 0, 0, 0, 0, 0, 0, 0, 0, 0, 0, 0, 0, 0, 0, 0, 0, 0, 0, 0, 0, 0, 0, 0, 0, 0, 0, 0, 0, 0, 0, 0, 0, 0, 0, 0, 0, 0, 0, 0, 0, 0, 0, 0, 0, 0, 0, 0, 0, 0, 0, 0, 0, 0], [0, 0, 0, 0, 0, 0, 0, 0, 0, 0, 0, 0, 0, 0, 0, 0, 0, 0, 0, 0, 0, 0, 0, 0, 0, 0, 0, 0, 0, 0, 0, 0, 0, 0, 0, 0, 0, 0, 0, 0, 0, 0, 0, 0, 0, 0, 0, 0, 0, 0, 0, 0, 0, 0, 0, 0, 0, 0, 0, 0, 0, 0, 0, 0, 0, 0, 0, 0, 0, 0, 0, 0, 0, 0, 0, 0, 0, 0, 0, 0, 0, 0, 0, 0, 0, 0, 0, 0, 0, 0, 0, 0, 0, 0, 0, 0, 0, 0, 0, 0, 0], [0, 0, 0, 0, 0, 0, 0, 0, 0, 0, 0, 0, 0, 0, 0, 0, 0, 0, 0, 0, 0, 0, 0, 0, 0, 0, 0, 0, 0, 0, 0, 0, 0, 0, 0, 0, 0, 0, 0, 0, 0, 0, 0, 0, 0, 0, 0, 0, 0, 0, 0, 0, 0, 0, 0, 0, 0, 0, 0, 0, 0, 0, 0, 0, 0, 0, 0, 0, 0, 0, 0, 0, 0, 0, 0, 0, 0, 0, 0, 0, 0, 0, 0, 0, 0, 0, 0, 0, 0, 0, 0, 0, 0, 0, 0, 0, 0, 0, 0, 0, 0], [0, 0, 0, 0, 0, 0, 0, 0, 0, 0, 0, 0, 0, 0, 0, 0, 0, 0, 0, 0, 0, 0, 0, 0, 0, 0, 0, 0, 0, 0, 0, 0, 0, 0, 0, 0, 0, 0, 0, 0, 0, 0, 0, 0, 0, 0, 0, 0, 0, 0, 0, 0, 0, 0, 0, 0, 0, 0, 0, 0, 0, 0, 0, 0, 0, 0, 0, 0, 0, 0, 0, 0, 0, 0, 0, 0, 0, 0, 0, 0, 0, 0, 0, 0, 0, 0, 0, 0, 0, 0, 0, 0, 0, 0, 0, 0, 0, 0, 0, 0, 0], [0, 0, 0, 0, 0, 0, 0, 0, 0, 0, 0, 0, 0, 0, 0, 0, 0, 0, 0, 0, 0, 0, 0, 0, 0, 0, 0, 0, 0, 0, 0, 0, 0, 0, 0, 0, 0, 0, 0, 0, 0, 0, 0, 0, 0, 0, 0, 0, 0, 0, 0, 0, 0, 0, 0, 0, 0, 0, 0, 0, 0, 0, 0, 0, 0, 0, 0, 0, 0, 0, 0, 0, 0, 0, 0, 0, 0, 0, 0, 0, 0, 0, 0, 0, 0, 0, 0, 0, 0, 0, 0, 0, 0, 0, 0, 0, 0, 0, 0, 0, 0], [0, 0, 0, 0, 0, 0, 0, 0, 0, 0, 0, 0, 0, 0, 0, 0, 0, 0, 0, 0, 0, 0, 0, 0, 0, 0, 0, 0, 0, 0, 0, 0, 0, 0, 0, 0, 0, 0, 0, 0, 0, 0, 0, 0, 0, 0, 0, 0, 0, 0, 0, 0, 0, 0, 0, 0, 0, 0, 0, 0, 0, 0, 0, 0, 0, 0, 0, 0, 0, 0, 0, 0, 0, 0, 0, 0, 0, 0, 0, 0, 0, 0, 0, 0, 0, 0, 0, 0, 0, 0, 0, 0, 0, 0, 0, 0, 0, 0, 0, 0, 0], [0, 0, 0, 0, 0, 0, 0, 0, 0, 0, 0, 0, 0, 0, 0, 0, 0, 0, 0, 0, 0, 0, 0, 0, 0, 0, 0, 0, 0, 0, 0, 0, 0, 0, 0, 0, 0, 0, 0, 0, 0, 0, 0, 0, 0, 0, 0, 0, 0, 0, 0, 0, 0, 0, 0, 0, 0, 0, 0, 0, 0, 0, 0, 0, 0, 0, 0, 0, 0, 0, 0, 0, 0, 0, 0, 0, 0, 0, 0, 0, 0, 0, 0, 0, 0, 0, 0, 0, 0, 0, 0, 0, 0, 0, 0, 0, 0, 0, 0, 0, 0], [0, 0, 0, 0, 0, 0, 0, 0, 0, 0, 0, 0, 0, 0, 0, 0, 0, 0, 0, 0, 0, 0, 0, 0, 0, 0, 0, 0, 0, 0, 0, 0, 0, 0, 0, 0, 0, 0, 0, 0, 0, 0, 0, 0, 0, 0, 0, 0, 0, 0, 0, 0, 0, 0, 0, 0, 0, 0, 0, 0, 0, 0, 0, 0, 0, 0, 0, 0, 0, 0, 0, 0, 0, 0, 0, 0, 0, 0, 0, 0, 0, 0, 0, 0, 0, 0, 0, 0, 0, 0, 0, 0, 0, 0, 0, 0, 0, 0, 0, 0, 0], [0, 0, 0, 0, 0, 0, 0, 0, 0, 0, 0, 0, 0, 0, 0, 0, 0, 0, 0, 0, 0, 0, 0, 0, 0, 0, 0, 0, 0, 0, 0, 0, 0, 0, 0, 0, 0, 0, 0, 0, 0, 0, 0, 0, 0, 0, 0, 0, 0, 0, 0, 0, 0, 0, 0, 0, 0, 0, 0, 0, 0, 0, 0, 0, 0, 0, 0, 0, 0, 0, 0, 0, 0, 0, 0, 0, 0, 0, 0, 0, 0, 0, 0, 0, 0, 0, 0, 0, 0, 0, 0, 0, 0, 0, 0, 0, 0, 0, 0, 0, 0], [0, 0, 0, 0, 0, 0, 0, 0, 0, 0, 0, 0, 0, 0, 0, 0, 0, 0, 0, 0, 0, 0, 0, 0, 0, 0, 0, 0, 0, 0, 0, 0, 0, 0, 0, 0, 0, 0, 0, 0, 0, 0, 0, 0, 0, 0, 0, 0, 0, 0, 0, 0, 0, 0, 0, 0, 0, 0, 0, 0, 0, 0, 0, 0, 0, 0, 0, 0, 0, 0, 0, 0, 0, 0, 0, 0, 0, 0, 0, 0, 0, 0, 0, 0, 0, 0, 0, 0, 0, 0, 0, 0, 0, 0, 0, 0, 0, 0, 0, 0, 0], [0, 0, 0, 0, 0, 0, 0, 0, 0, 0, 0, 0, 0, 0, 0, 0, 0, 0, 0, 0, 0, 0, 0, 0, 0, 0, 0, 0, 0, 0, 0, 0, 0, 0, 0, 0, 0, 0, 0, 0, 0, 0, 0, 0, 0, 0, 0, 0, 0, 0, 0, 0, 0, 0, 0, 0, 0, 0, 0, 0, 0, 0, 0, 0, 0, 0, 0, 0, 0, 0, 0, 0, 0, 0, 0, 0, 0, 0, 0, 0, 0, 0, 0, 0, 0, 0, 0, 0, 0, 0, 0, 0, 0, 0, 0, 0, 0, 0, 0, 0, 0], [0, 0, 0, 0, 0, 0, 0, 0, 0, 0, 0, 0, 0, 0, 0, 0, 0, 0, 0, 0, 0, 0, 0, 0, 0, 0, 0, 0, 0, 0, 0, 0, 0, 0, 0, 0, 0, 0, 0, 0, 0, 0, 0, 0, 0, 0, 0, 0, 0, 0, 0, 0, 0, 0, 0, 0, 0, 0, 0, 0, 0, 0, 0, 0, 0, 0, 0, 0, 0, 0, 0, 0, 0, 0, 0, 0, 0, 0, 0, 0, 0, 0, 0, 0, 0, 0, 0, 0, 0, 0, 0, 0, 0, 0, 0, 0, 0, 0, 0, 0, 0], [0, 0, 0, 0, 0, 0, 0, 0, 0, 0, 0, 0, 0, 0, 0, 0, 0, 0, 0, 0, 0, 0, 0, 0, 0, 0, 0, 0, 0, 0, 0, 0, 0, 0, 0, 0, 0, 0, 0, 0, 0, 0, 0, 0, 0, 0, 0, 0, 0, 0, 0, 0, 0, 0, 0, 0, 0, 0, 0, 0, 0, 0, 0, 0, 0, 0, 0, 0, 0, 0, 0, 0, 0, 0, 0, 0, 0, 0, 0, 0, 0, 0, 0, 0, 0, 0, 0, 0, 0, 0, 0, 0, 0, 0, 0, 0, 0, 0, 0, 0, 0], [0, 0, 0, 0, 0, 0, 0, 0, 0, 0, 0, 0, 0, 0, 0, 0, 0, 0, 0, 0, 0, 0, 0, 0, 0, 0, 0, 0, 0, 0, 0, 0, 0, 0, 0, 0, 0, 0, 0, 0, 0, 0, 0, 0, 0, 0, 0, 0, 0, 0, 0, 0, 0, 0, 0, 0, 0, 0, 0, 0, 0, 0, 0, 0, 0, 0, 0, 0, 0, 0, 0, 0, 0, 0, 0, 0, 0, 0, 0, 0, 0, 0, 0, 0, 0, 0, 0, 0, 0, 0, 0, 0, 0, 0, 0, 0, 0, 0, 0, 0, 0], [0, 0, 0, 0, 0, 0, 0, 0, 0, 0, 0, 0, 0, 0, 0, 0, 0, 0, 0, 0, 0, 0, 0, 0, 0, 0, 0, 0, 0, 0, 0, 0, 0, 0, 0, 0, 0, 0, 0, 0, 0, 0, 0, 0, 0, 0, 0, 0, 0, 0, 0, 0, 0, 0, 0, 0, 0, 0, 0, 0, 0, 0, 0, 0, 0, 0, 0, 0, 0, 0, 0, 0, 0, 0, 0, 0, 0, 0, 0, 0, 0, 0, 0, 0, 0, 0, 0, 0, 0, 0, 0, 0, 0, 0, 0, 0, 0, 0, 0, 0, 0], [0, 0, 0, 0, 0, 0, 0, 0, 0, 0, 0, 0, 0, 0, 0, 0, 0, 0, 0, 0, 0, 0, 0, 0, 0, 0, 0, 0, 0, 0, 0, 0, 0, 0, 0, 0, 0, 0, 0, 0, 0, 0, 0, 0, 0, 0, 0, 0, 0, 0, 0, 0, 0, 0, 0, 0, 0, 0, 0, 0, 0, 0, 0, 0, 0, 0, 0, 0, 0, 0, 0, 0, 0, 0, 0, 0, 0, 0, 0, 0, 0, 0, 0, 0, 0, 0, 0, 0, 0, 0, 0, 0, 0, 0, 0, 0, 0, 0, 0, 0, 0], [0, 0, 0, 0, 0, 0, 0, 0, 0, 0, 0, 0, 0, 0, 0, 0, 0, 0, 0, 0, 0, 0, 0, 0, 0, 0, 0, 0, 0, 0, 0, 0, 0, 0, 0, 0, 0, 0, 0, 0, 0, 0, 0, 0, 0, 0, 0, 0, 0, 0, 0, 0, 0, 0, 0, 0, 0, 0, 0, 0, 0, 0, 0, 0, 0, 0, 0, 0, 0, 0, 0, 0, 0, 0, 0, 0, 0, 0, 0, 0, 0, 0, 0, 0, 0, 0, 0, 0, 0, 0, 0, 0, 0, 0, 0, 0, 0, 0, 0, 0, 0], [0, 0, 0, 0, 0, 0, 0, 0, 0, 0, 0, 0, 0, 0, 0, 0, 0, 0, 0, 0, 0, 0, 0, 0, 0, 0, 0, 0, 0, 0, 0, 0, 0, 0, 0, 0, 0, 0, 0, 0, 0, 0, 0, 0, 0, 0, 0, 0, 0, 0, 0, 0, 0, 0, 0, 0, 0, 0, 0, 0, 0, 0, 0, 0, 0, 0, 0, 0, 0, 0, 0, 0, 0, 0, 0, 0, 0, 0, 0, 0, 0, 0, 0, 0, 0, 0, 0, 0, 0, 0, 0, 0, 0, 0, 0, 0, 0, 0, 0, 0, 0], [0, 0, 0, 0, 0, 0, 0, 0, 0, 0, 0, 0, 0, 0, 0, 0, 0, 0, 0, 0, 0, 0, 0, 0, 0, 0, 0, 0, 0, 0, 0, 0, 0, 0, 0, 0, 0, 0, 0, 0, 0, 0, 0, 0, 0, 0, 0, 0, 0, 0, 0, 0, 0, 0, 0, 0, 0, 0, 0, 0, 0, 0, 0, 0, 0, 0, 0, 0, 0, 0, 0, 0, 0, 0, 0, 0, 0, 0, 0, 0, 0, 0, 0, 0, 0, 0, 0, 0, 0, 0, 0, 0, 0, 0, 0, 0, 0, 0, 0, 0, 0], [0, 0, 0, 0, 0, 0, 0, 0, 0, 0, 0, 0, 0, 0, 0, 0, 0, 0, 0, 0, 0, 0, 0, 0, 0, 0, 0, 0, 0, 0, 0, 0, 0, 0, 0, 0, 0, 0, 0, 0, 0, 0, 0, 0, 0, 0, 0, 0, 0, 0, 0, 0, 0, 0, 0, 0, 0, 0, 0, 0, 0, 0, 0, 0, 0, 0, 0, 0, 0, 0, 0, 0, 0, 0, 0, 0, 0, 0, 0, 0, 0, 0, 0, 0, 0, 0, 0, 0, 0, 0, 0, 0, 0, 0, 0, 0, 0, 0, 0, 0, 0], [0, 0, 0, 0, 0, 0, 0, 0, 0, 0, 0, 0, 0, 0, 0, 0, 0, 0, 0, 0, 0, 0, 0, 0, 0, 0, 0, 0, 0, 0, 0, 0, 0, 0, 0, 0, 0, 0, 0, 0, 0, 0, 0, 0, 0, 0, 0, 0, 0, 0, 0, 0, 0, 0, 0, 0, 0, 0, 0, 0, 0, 0, 0, 0, 0, 0, 0, 0, 0, 0, 0, 0, 0, 0, 0, 0, 0, 0, 0, 0, 0, 0, 0, 0, 0, 0, 0, 0, 0, 0, 0, 0, 0, 0, 0, 0, 0, 0, 0, 0, 0], [0, 0, 0, 0, 0, 0, 0, 0, 0, 0, 0, 0, 0, 0, 0, 0, 0, 0, 0, 0, 0, 0, 0, 0, 0, 0, 0, 0, 0, 0, 0, 0, 0, 0, 0, 0, 0, 0, 0, 0, 0, 0, 0, 0, 0, 0, 0, 0, 0, 0, 0, 0, 0, 0, 0, 0, 0, 0, 0, 0, 0, 0, 0, 0, 0, 0, 0, 0, 0, 0, 0, 0, 0, 0, 0, 0, 0, 0, 0, 0, 0, 0, 0, 0, 0, 0, 0, 0, 0, 0, 0, 0, 0, 0, 0, 0, 0, 0, 0, 0, 0], [0, 0, 0, 0, 0, 0, 0, 0, 0, 0, 0, 0, 0, 0, 0, 0, 0, 0, 0, 0, 0, 0, 0, 0, 0, 0, 0, 0, 0, 0, 0, 0, 0, 0, 0, 0, 0, 0, 0, 0, 0, 0, 0, 0, 0, 0, 0, 0, 0, 0, 0, 0, 0, 0, 0, 0, 0, 0, 0, 0, 0, 0, 0, 0, 0, 0, 0, 0, 0, 0, 0, 0, 0, 0, 0, 0, 0, 0, 0, 0, 0, 0, 0, 0, 0, 0, 0, 0, 0, 0, 0, 0, 0, 0, 0, 0, 0, 0, 0, 0, 0], [0, 0, 0, 0, 0, 0, 0, 0, 0, 0, 0, 0, 0, 0, 0, 0, 0, 0, 0, 0, 0, 0, 0, 0, 0, 0, 0, 0, 0, 0, 0, 0, 0, 0, 0, 0, 0, 0, 0, 0, 0, 0, 0, 0, 0, 0, 0, 0, 0, 0, 0, 0, 0, 0, 0, 0, 0, 0, 0, 0, 0, 0, 0, 0, 0, 0, 0, 0, 0, 0, 0, 0, 0, 0, 0, 0, 0, 0, 0, 0, 0, 0, 0, 0, 0, 0, 0, 0, 0, 0, 0, 0, 0, 0, 0, 0, 0, 0, 0, 0, 0], [0, 0, 0, 0, 0, 0, 0, 0, 0, 0, 0, 0, 0, 0, 0, 0, 0, 0, 0, 0, 0, 0, 0, 0, 0, 0, 0, 0, 0, 0, 0, 0, 0, 0, 0, 0, 0, 0, 0, 0, 0, 0, 0, 0, 0, 0, 0, 0, 0, 0, 0, 0, 0, 0, 0, 0, 0, 0, 0, 0, 0, 0, 0, 0, 0, 0, 0, 0, 0, 0, 0, 0, 0, 0, 0, 0, 0, 0, 0, 0, 0, 0, 0, 0, 0, 0, 0, 0, 0, 0, 0, 0, 0, 0, 0, 0, 0, 0, 0, 0, 0], [0, 0, 0, 0, 0, 0, 0, 0, 0, 0, 0, 0, 0, 0, 0, 0, 0, 0, 0, 0, 0, 0, 0, 0, 0, 0, 0, 0, 0, 0, 0, 0, 0, 0, 0, 0, 0, 0, 0, 0, 0, 0, 0, 0, 0, 0, 0, 0, 0, 0, 0, 0, 0, 0, 0, 0, 0, 0, 0, 0, 0, 0, 0, 0, 0, 0, 0, 0, 0, 0, 0, 0, 0, 0, 0, 0, 0, 0, 0, 0, 0, 0, 0, 0, 0, 0, 0, 0, 0, 0, 0, 0, 0, 0, 0, 0, 0, 0, 0, 0, 0], [0, 0, 0, 0, 0, 0, 0, 0, 0, 0, 0, 0, 0, 0, 0, 0, 0, 0, 0, 0, 0, 0, 0, 0, 0, 0, 0, 0, 0, 0, 0, 0, 0, 0, 0, 0, 0, 0, 0, 0, 0, 0, 0, 0, 0, 0, 0, 0, 0, 0, 0, 0, 0, 0, 0, 0, 0, 0, 0, 0, 0, 0, 0, 0, 0, 0, 0, 0, 0, 0, 0, 0, 0, 0, 0, 0, 0, 0, 0, 0, 0, 0, 0, 0, 0, 0, 0, 0, 0, 0, 0, 0, 0, 0, 0, 0, 0, 0, 0, 0, 0], [0, 0, 0, 0, 0, 0, 0, 0, 0, 0, 0, 0, 0, 0, 0, 0, 0, 0, 0, 0, 0, 0, 0, 0, 0, 0, 0, 0, 0, 0, 0, 0, 0, 0, 0, 0, 0, 0, 0, 0, 0, 0, 0, 0, 0, 0, 0, 0, 0, 0, 0, 0, 0, 0, 0, 0, 0, 0, 0, 0, 0, 0, 0, 0, 0, 0, 0, 0, 0, 0, 0, 0, 0, 0, 0, 0, 0, 0, 0, 0, 0, 0, 0, 0, 0, 0, 0, 0, 0, 0, 0, 0, 0, 0, 0, 0, 0, 0, 0, 0, 0], [0, 0, 0, 0, 0, 0, 0, 0, 0, 0, 0, 0, 0, 0, 0, 0, 0, 0, 0, 0, 0, 0, 0, 0, 0, 0, 0, 0, 0, 0, 0, 0, 0, 0, 0, 0, 0, 0, 0, 0, 0, 0, 0, 0, 0, 0, 0, 0, 0, 0, 0, 0, 0, 0, 0, 0, 0, 0, 0, 0, 0, 0, 0, 0, 0, 0, 0, 0, 0, 0, 0, 0, 0, 0, 0, 0, 0, 0, 0, 0, 0, 0, 0, 0, 0, 0, 0, 0, 0, 0, 0, 0, 0, 0, 0, 0, 0, 0, 0, 0, 0], [0, 0, 0, 0, 0, 0, 0, 0, 0, 0, 0, 0, 0, 0, 0, 0, 0, 0, 0, 0, 0, 0, 0, 0, 0, 0, 0, 0, 0, 0, 0, 0, 0, 0, 0, 0, 0, 0, 0, 0, 0, 0, 0, 0, 0, 0, 0, 0, 0, 0, 0, 0, 0, 0, 0, 0, 0, 0, 0, 0, 0, 0, 0, 0, 0, 0, 0, 0, 0, 0, 0, 0, 0, 0, 0, 0, 0, 0, 0, 0, 0, 0, 0, 0, 0, 0, 0, 0, 0, 0, 0, 0, 0, 0, 0, 0, 0, 0, 0, 0, 0], [0, 0, 0, 0, 0, 0, 0, 0, 0, 0, 0, 0, 0, 0, 0, 0, 0, 0, 0, 0, 0, 0, 0, 0, 0, 0, 0, 0, 0, 0, 0, 0, 0, 0, 0, 0, 0, 0, 0, 0, 0, 0, 0, 0, 0, 0, 0, 0, 0, 0, 0, 0, 0, 0, 0, 0, 0, 0, 0, 0, 0, 0, 0, 0, 0, 0, 0, 0, 0, 0, 0, 0, 0, 0, 0, 0, 0, 0, 0, 0, 0, 0, 0, 0, 0, 0, 0, 0, 0, 0, 0, 0, 0, 0, 0, 0, 0, 0, 0, 0, 0], [0, 0, 0, 0, 0, 0, 0, 0, 0, 0, 0, 0, 0, 0, 0, 0, 0, 0, 0, 0, 0, 0, 0, 0, 0, 0, 0, 0, 0, 0, 0, 0, 0, 0, 0, 0, 0, 0, 0, 0, 0, 0, 0, 0, 0, 0, 0, 0, 0, 0, 0, 0, 0, 0, 0, 0, 0, 0, 0, 0, 0, 0, 0, 0, 0, 0, 0, 0, 0, 0, 0, 0, 0, 0, 0, 0, 0, 0, 0, 0, 0, 0, 0, 0, 0, 0, 0, 0, 0, 0, 0, 0, 0, 0, 0, 0, 0, 0, 0, 0, 0], [0, 0, 0, 0, 0, 0, 0, 0, 0, 0, 0, 0, 0, 0, 0, 0, 0, 0, 0, 0, 0, 0, 0, 0, 0, 0, 0, 0, 0, 0, 0, 0, 0, 0, 0, 0, 0, 0, 0, 0, 0, 0, 0, 0, 0, 0, 0, 0, 0, 0, 0, 0, 0, 0, 0, 0, 0, 0, 0, 0, 0, 0, 0, 0, 0, 0, 0, 0, 0, 0, 0, 0, 0, 0, 0, 0, 0, 0, 0, 0, 0, 0, 0, 0, 0, 0, 0, 0, 0, 0, 0, 0, 0, 0, 0, 0, 0, 0, 0, 0, 0], [0, 0, 0, 0, 0, 0, 0, 0, 0, 0, 0, 0, 0, 0, 0, 0, 0, 0, 0, 0, 0, 0, 0, 0, 0, 0, 0, 0, 0, 0, 0, 0, 0, 0, 0, 0, 0, 0, 0, 0, 0, 0, 0, 0, 0, 0, 0, 0, 0, 0, 0, 0, 0, 0, 0, 0, 0, 0, 0, 0, 0, 0, 0, 0, 0, 0, 0, 0, 0, 0, 0, 0, 0, 0, 0, 0, 0, 0, 0, 0, 0, 0, 0, 0, 0, 0, 0, 0, 0, 0, 0, 0, 0, 0, 0, 0, 0, 0, 0, 0, 0], [0, 0, 0, 0, 0, 0, 0, 0, 0, 0, 0, 0, 0, 0, 0, 0, 0, 0, 0, 0, 0, 0, 0, 0, 0, 0, 0, 0, 0, 0, 0, 0, 0, 0, 0, 0, 0, 0, 0, 0, 0, 0, 0, 0, 0, 0, 0, 0, 0, 0, 0, 0, 0, 0, 0, 0, 0, 0, 0, 0, 0, 0, 0, 0, 0, 0, 0, 0, 0, 0, 0, 0, 0, 0, 0, 0, 0, 0, 0, 0, 0, 0, 0, 0, 0, 0, 0, 0, 0, 0, 0, 0, 0, 0, 0, 0, 0, 0, 0, 0, 0], [0, 0, 0, 0, 0, 0, 0, 0, 0, 0, 0, 0, 0, 0, 0, 0, 0, 0, 0, 0, 0, 0, 0, 0, 0, 0, 0, 0, 0, 0, 0, 0, 0, 0, 0, 0, 0, 0, 0, 0, 0, 0, 0, 0, 0, 0, 0, 0, 0, 0, 0, 0, 0, 0, 0, 0, 0, 0, 0, 0, 0, 0, 0, 0, 0, 0, 0, 0, 0, 0, 0, 0, 0, 0, 0, 0, 0, 0, 0, 0, 0, 0, 0, 0, 0, 0, 0, 0, 0, 0, 0, 0, 0, 0, 0, 0, 0, 0, 0, 0, 0], [0, 0, 0, 0, 0, 0, 0, 0, 0, 0, 0, 0, 0, 0, 0, 0, 0, 0, 0, 0, 0, 0, 0, 0, 0, 0, 0, 0, 0, 0, 0, 0, 0, 0, 0, 0, 0, 0, 0, 0, 0, 0, 0, 0, 0, 0, 0, 0, 0, 0, 0, 0, 0, 0, 0, 0, 0, 0, 0, 0, 0, 0, 0, 0, 0, 0, 0, 0, 0, 0, 0, 0, 0, 0, 0, 0, 0, 0, 0, 0, 0, 0, 0, 0, 0, 0, 0, 0, 0, 0, 0, 0, 0, 0, 0, 0, 0, 0, 0, 0, 0], [0, 0, 0, 0, 0, 0, 0, 0, 0, 0, 0, 0, 0, 0, 0, 0, 0, 0, 0, 0, 0, 0, 0, 0, 0, 0, 0, 0, 0, 0, 0, 0, 0, 0, 0, 0, 0, 0, 0, 0, 0, 0, 0, 0, 0, 0, 0, 0, 0, 0, 0, 0, 0, 0, 0, 0, 0, 0, 0, 0, 0, 0, 0, 0, 0, 0, 0, 0, 0, 0, 0, 0, 0, 0, 0, 0, 0, 0, 0, 0, 0, 0, 0, 0, 0, 0, 0, 0, 0, 0, 0, 0, 0, 0, 0, 0, 0, 0, 0, 0, 0], [0, 0, 0, 0, 0, 0, 0, 0, 0, 0, 0, 0, 0, 0, 0, 0, 0, 0, 0, 0, 0, 0, 0, 0, 0, 0, 0, 0, 0, 0, 0, 0, 0, 0, 0, 0, 0, 0, 0, 0, 0, 0, 0, 0, 0, 0, 0, 0, 0, 0, 0, 0, 0, 0, 0, 0, 0, 0, 0, 0, 0, 0, 0, 0, 0, 0, 0, 0, 0, 0, 0, 0, 0, 0, 0, 0, 0, 0, 0, 0, 0, 0, 0, 0, 0, 0, 0, 0, 0, 0, 0, 0, 0, 0, 0, 0, 0, 0, 0, 0, 0], [0, 0, 0, 0, 0, 0, 0, 0, 0, 0, 0, 0, 0, 0, 0, 0, 0, 0, 0, 0, 0, 0, 0, 0, 0, 0, 0, 0, 0, 0, 0, 0, 0, 0, 0, 0, 0, 0, 0, 0, 0, 0, 0, 0, 0, 0, 0, 0, 0, 0, 0, 0, 0, 0, 0, 0, 0, 0, 0, 0, 0, 0, 0, 0, 0, 0, 0, 0, 0, 0, 0, 0, 0, 0, 0, 0, 0, 0, 0, 0, 0, 0, 0, 0, 0, 0, 0, 0, 0, 0, 0, 0, 0, 0, 0, 0, 0, 0, 0, 0, 0], [0, 0, 0, 0, 0, 0, 0, 0, 0, 0, 0, 0, 0, 0, 0, 0, 0, 0, 0, 0, 0, 0, 0, 0, 0, 0, 0, 0, 0, 0, 0, 0, 0, 0, 0, 0, 0, 0, 0, 0, 0, 0, 0, 0, 0, 0, 0, 0, 0, 0, 0, 0, 0, 0, 0, 0, 0, 0, 0, 0, 0, 0, 0, 0, 0, 0, 0, 0, 0, 0, 0, 0, 0, 0, 0, 0, 0, 0, 0, 0, 0, 0, 0, 0, 0, 0, 0, 0, 0, 0, 0, 0, 0, 0, 0, 0, 0, 0, 0, 0, 0], [0, 0, 0, 0, 0, 0, 0, 0, 0, 0, 0, 0, 0, 0, 0, 0, 0, 0, 0, 0, 0, 0, 0, 0, 0, 0, 0, 0, 0, 0, 0, 0, 0, 0, 0, 0, 0, 0, 0, 0, 0, 0, 0, 0, 0, 0, 0, 0, 0, 0, 0, 0, 0, 0, 0, 0, 0, 0, 0, 0, 0, 0, 0, 0, 0, 0, 0, 0, 0, 0, 0, 0, 0, 0, 0, 0, 0, 0, 0, 0, 0, 0, 0, 0, 0, 0, 0, 0, 0, 0, 0, 0, 0, 0, 0, 0, 0, 0, 0, 0, 0], [0, 0, 0, 0, 0, 0, 0, 0, 0, 0, 0, 0, 0, 0, 0, 0, 0, 0, 0, 0, 0, 0, 0, 0, 0, 0, 0, 0, 0, 0, 0, 0, 0, 0, 0, 0, 0, 0, 0, 0, 0, 0, 0, 0, 0, 0, 0, 0, 0, 0, 0, 0, 0, 0, 0, 0, 0, 0, 0, 0, 0, 0, 0, 0, 0, 0, 0, 0, 0, 0, 0, 0, 0, 0, 0, 0, 0, 0, 0, 0, 0, 0, 0, 0, 0, 0, 0, 0, 0, 0, 0, 0, 0, 0, 0, 0, 0, 0, 0, 0, 0], [0, 0, 0, 0, 0, 0, 0, 0, 0, 0, 0, 0, 0, 0, 0, 0, 0, 0, 0, 0, 0, 0, 0, 0, 0, 0, 0, 0, 0, 0, 0, 0, 0, 0, 0, 0, 0, 0, 0, 0, 0, 0, 0, 0, 0, 0, 0, 0, 0, 0, 0, 0, 0, 0, 0, 0, 0, 0, 0, 0, 0, 0, 0, 0, 0, 0, 0, 0, 0, 0, 0, 0, 0, 0, 0, 0, 0, 0, 0, 0, 0, 0, 0, 0, 0, 0, 0, 0, 0, 0, 0, 0, 0, 0, 0, 0, 0, 0, 0, 0, 0], [0, 0, 0, 0, 0, 0, 0, 0, 0, 0, 0, 0, 0, 0, 0, 0, 0, 0, 0, 0, 0, 0, 0, 0, 0, 0, 0, 0, 0, 0, 0, 0, 0, 0, 0, 0, 0, 0, 0, 0, 0, 0, 0, 0, 0, 0, 0, 0, 0, 0, 0, 0, 0, 0, 0, 0, 0, 0, 0, 0, 0, 0, 0, 0, 0, 0, 0, 0, 0, 0, 0, 0, 0, 0, 0, 0, 0, 0, 0, 0, 0, 0, 0, 0, 0, 0, 0, 0, 0, 0, 0, 0, 0, 0, 0, 0, 0, 0, 0, 0, 0], [0, 0, 0, 0, 0, 0, 0, 0, 0, 0, 0, 0, 0, 0, 0, 0, 0, 0, 0, 0, 0, 0, 0, 0, 0, 0, 0, 0, 0, 0, 0, 0, 0, 0, 0, 0, 0, 0, 0, 0, 0, 0, 0, 0, 0, 0, 0, 0, 0, 0, 0, 0, 0, 0, 0, 0, 0, 0, 0, 0, 0, 0, 0, 0, 0, 0, 0, 0, 0, 0, 0, 0, 0, 0, 0, 0, 0, 0, 0, 0, 0, 0, 0, 0, 0, 0, 0, 0, 0, 0, 0, 0, 0, 0, 0, 0, 0, 0, 0, 0, 0], [0, 0, 0, 0, 0, 0, 0, 0, 0, 0, 0, 0, 0, 0, 0, 0, 0, 0, 0, 0, 0, 0, 0, 0, 0, 0, 0, 0, 0, 0, 0, 0, 0, 0, 0, 0, 0, 0, 0, 0, 0, 0, 0, 0, 0, 0, 0, 0, 0, 0, 0, 0, 0, 0, 0, 0, 0, 0, 0, 0, 0, 0, 0, 0, 0, 0, 0, 0, 0, 0, 0, 0, 0, 0, 0, 0, 0, 0, 0, 0, 0, 0, 0, 0, 0, 0, 0, 0, 0, 0, 0, 0, 0, 0, 0, 0, 0, 0, 0, 0, 0], [0, 0, 0, 0, 0, 0, 0, 0, 0, 0, 0, 0, 0, 0, 0, 0, 0, 0, 0, 0, 0, 0, 0, 0, 0, 0, 0, 0, 0, 0, 0, 0, 0, 0, 0, 0, 0, 0, 0, 0, 0, 0, 0, 0, 0, 0, 0, 0, 0, 0, 0, 0, 0, 0, 0, 0, 0, 0, 0, 0, 0, 0, 0, 0, 0, 0, 0, 0, 0, 0, 0, 0, 0, 0, 0, 0, 0, 0, 0, 0, 0, 0, 0, 0, 0, 0, 0, 0, 0, 0, 0, 0, 0, 0, 0, 0, 0, 0, 0, 0, 0], [0, 0, 0, 0, 0, 0, 0, 0, 0, 0, 0, 0, 0, 0, 0, 0, 0, 0, 0, 0, 0, 0, 0, 0, 0, 0, 0, 0, 0, 0, 0, 0, 0, 0, 0, 0, 0, 0, 0, 0, 0, 0, 0, 0, 0, 0, 0, 0, 0, 0, 0, 0, 0, 0, 0, 0, 0, 0, 0, 0, 0, 0, 0, 0, 0, 0, 0, 0, 0, 0, 0, 0, 0, 0, 0, 0, 0, 0, 0, 0, 0, 0, 0, 0, 0, 0, 0, 0, 0, 0, 0, 0, 0, 0, 0, 0, 0, 0, 0, 0, 0], [0, 0, 0, 0, 0, 0, 0, 0, 0, 0, 0, 0, 0, 0, 0, 0, 0, 0, 0, 0, 0, 0, 0, 0, 0, 0, 0, 0, 0, 0, 0, 0, 0, 0, 0, 0, 0, 0, 0, 0, 0, 0, 0, 0, 0, 0, 0, 0, 0, 0, 0, 0, 0, 0, 0, 0, 0, 0, 0, 0, 0, 0, 0, 0, 0, 0, 0, 0, 0, 0, 0, 0, 0, 0, 0, 0, 0, 0, 0, 0, 0, 0, 0, 0, 0, 0, 0, 0, 0, 0, 0, 0, 0, 0, 0, 0, 0, 0, 0, 0, 0], [0, 0, 0, 0, 0, 0, 0, 0, 0, 0, 0, 0, 0, 0, 0, 0, 0, 0, 0, 0, 0, 0, 0, 0, 0, 0, 0, 0, 0, 0, 0, 0, 0, 0, 0, 0, 0, 0, 0, 0, 0, 0, 0, 0, 0, 0, 0, 0, 0, 0, 0, 0, 0, 0, 0, 0, 0, 0, 0, 0, 0, 0, 0, 0, 0, 0, 0, 0, 0, 0, 0, 0, 0, 0, 0, 0, 0, 0, 0, 0, 0, 0, 0, 0, 0, 0, 0, 0, 0, 0, 0, 0, 0, 0, 0, 0, 0, 0, 0, 0, 0], [0, 0, 0, 0, 0, 0, 0, 0, 0, 0, 0, 0, 0, 0, 0, 0, 0, 0, 0, 0, 0, 0, 0, 0, 0, 0, 0, 0, 0, 0, 0, 0, 0, 0, 0, 0, 0, 0, 0, 0, 0, 0, 0, 0, 0, 0, 0, 0, 0, 0, 0, 0, 0, 0, 0, 0, 0, 0, 0, 0, 0, 0, 0, 0, 0, 0, 0, 0, 0, 0, 0, 0, 0, 0, 0, 0, 0, 0, 0, 0, 0, 0, 0, 0, 0, 0, 0, 0, 0, 0, 0, 0, 0, 0, 0, 0, 0, 0, 0, 0, 0], [0, 0, 0, 0, 0, 0, 0, 0, 0, 0, 0, 0, 0, 0, 0, 0, 0, 0, 0, 0, 0, 0, 0, 0, 0, 0, 0, 0, 0, 0, 0, 0, 0, 0, 0, 0, 0, 0, 0, 0, 0, 0, 0, 0, 0, 0, 0, 0, 0, 0, 0, 0, 0, 0, 0, 0, 0, 0, 0, 0, 0, 0, 0, 0, 0, 0, 0, 0, 0, 0, 0, 0, 0, 0, 0, 0, 0, 0, 0, 0, 0, 0, 0, 0, 0, 0, 0, 0, 0, 0, 0, 0, 0, 0, 0, 0, 0, 0, 0, 0, 0], [0, 0, 0, 0, 0, 0, 0, 0, 0, 0, 0, 0, 0, 0, 0, 0, 0, 0, 0, 0, 0, 0, 0, 0, 0, 0, 0, 0, 0, 0, 0, 0, 0, 0, 0, 0, 0, 0, 0, 0, 0, 0, 0, 0, 0, 0, 0, 0, 0, 0, 0, 0, 0, 0, 0, 0, 0, 0, 0, 0, 0, 0, 0, 0, 0, 0, 0, 0, 0, 0, 0, 0, 0, 0, 0, 0, 0, 0, 0, 0, 0, 0, 0, 0, 0, 0, 0, 0, 0, 0, 0, 0, 0, 0, 0, 0, 0, 0, 0, 0, 0], [0, 0, 0, 0, 0, 0, 0, 0, 0, 0, 0, 0, 0, 0, 0, 0, 0, 0, 0, 0, 0, 0, 0, 0, 0, 0, 0, 0, 0, 0, 0, 0, 0, 0, 0, 0, 0, 0, 0, 0, 0, 0, 0, 0, 0, 0, 0, 0, 0, 0, 0, 0, 0, 0, 0, 0, 0, 0, 0, 0, 0, 0, 0, 0, 0, 0, 0, 0, 0, 0, 0, 0, 0, 0, 0, 0, 0, 0, 0, 0, 0, 0, 0, 0, 0, 0, 0, 0, 0, 0, 0, 0, 0, 0, 0, 0, 0, 0, 0, 0, 0], [0, 0, 0, 0, 0, 0, 0, 0, 0, 0, 0, 0, 0, 0, 0, 0, 0, 0, 0, 0, 0, 0, 0, 0, 0, 0, 0, 0, 0, 0, 0, 0, 0, 0, 0, 0, 0, 0, 0, 0, 0, 0, 0, 0, 0, 0, 0, 0, 0, 0, 0, 0, 0, 0, 0, 0, 0, 0, 0, 0, 0, 0, 0, 0, 0, 0, 0, 0, 0, 0, 0, 0, 0, 0, 0, 0, 0, 0, 0, 0, 0, 0, 0, 0, 0, 0, 0, 0, 0, 0, 0, 0, 0, 0, 0, 0, 0, 0, 0, 0, 0], [0, 0, 0, 0, 0, 0, 0, 0, 0, 0, 0, 0, 0, 0, 0, 0, 0, 0, 0, 0, 0, 0, 0, 0, 0, 0, 0, 0, 0, 0, 0, 0, 0, 0, 0, 0, 0, 0, 0, 0, 0, 0, 0, 0, 0, 0, 0, 0, 0, 0, 0, 0, 0, 0, 0, 0, 0, 0, 0, 0, 0, 0, 0, 0, 0, 0, 0, 0, 0, 0, 0, 0, 0, 0, 0, 0, 0, 0, 0, 0, 0, 0, 0, 0, 0, 0, 0, 0, 0, 0, 0, 0, 0, 0, 0, 0, 0, 0, 0, 0, 0]]\n",
      "260\n"
     ]
    }
   ],
   "source": [
    "N = int(input())\n",
    "paper = [[0 for _ in range(101)] for _ in range(101)]\n",
    "\n",
    "for _ in range(N):\n",
    "    x, y = map(int, input().split())\n",
    "    for i in range(x, x+10):\n",
    "        for j in range(y, y+10):\n",
    "            paper[i][j] = 1\n",
    "print(paper)\n",
    "answer = 0\n",
    "for row in paper:\n",
    "    answer += row.count(1)\n",
    "print(answer)"
   ]
  },
  {
   "cell_type": "code",
   "execution_count": 39,
   "metadata": {},
   "outputs": [
    {
     "name": "stdout",
     "output_type": "stream",
     "text": [
      "122910967\n"
     ]
    }
   ],
   "source": [
    "# 백준 2745번\n",
    "# B진법 수 N이 주어진다.\n",
    "# 이 수를 10진법으로 바꾸어 출력한다.\n",
    "# A = 10, B = 11, ... Z = 35 진법을 나타낸다.\n",
    "N, B = map(str,input().split())\n",
    "Nlist = [0 for i in range(len(N))]\n",
    "for i in range(0, len(N), 1):\n",
    "    for j in range(65, 91, 1):\n",
    "        if N[i] == str(chr(j)):\n",
    "            Nlist[i] = j-55\n",
    "    for k in range(0, 10, 1):\n",
    "        if N[i] == str(k):\n",
    "            Nlist[i] = k\n",
    "B = int(B)\n",
    "Nvalue = 0\n",
    "for i in range(2, 37, 1):\n",
    "    if B == i:\n",
    "        for j in range(0, len(N), 1):\n",
    "            Nvalue += Nlist[j]*(i**(len(N)-j-1))\n",
    "print(Nvalue)\n",
    "# N = 222102"
   ]
  },
  {
   "cell_type": "code",
   "execution_count": 48,
   "metadata": {},
   "outputs": [
    {
     "name": "stdout",
     "output_type": "stream",
     "text": [
      "ABCD0E7\n"
     ]
    }
   ],
   "source": [
    "# 백준 11005번\n",
    "# N을 B진법으로 출력하면 B로 나누었을때 나머지가 마지막 자리\n",
    "# (N-마지막 자리의 10진수값)을 B**2으로 나누었을때 나머지를 B로 나눈 정수값이 오른쪽에서 2번째 자리\n",
    "# (N - 마지막)\n",
    "# B진법으로 뽑은 N값을 각 자리마다 Nlist로 만들고 마지막 자리부터 append 하면\n",
    "# 뽑을때 역순으로 뽑으면 된다.\n",
    "N, B = map(str, input().split())\n",
    "Nlist = []\n",
    "for i in range(65, 91, 1):\n",
    "    if B == str(chr(i)):\n",
    "        B = i-55\n",
    "for i in range(2, 10, 1):\n",
    "    if B == i:\n",
    "        B = i\n",
    "n = 1\n",
    "B = int(B)\n",
    "N = int(N)\n",
    "while N != 0:\n",
    "    if B < 10:\n",
    "        Nlist.append(str((N % (B**n))//(B**(n-1))))\n",
    "        N = N - ((N % B**n))\n",
    "        n += 1\n",
    "    else:\n",
    "        if ((N % (B**n))//(B**(n-1))) < 10:\n",
    "            Nlist.append(str((N % (B**n))//(B**(n-1))))\n",
    "            N = N - ((N % B**n))\n",
    "            n += 1\n",
    "        else:\n",
    "            Nlist.append(str((chr(((N % (B**n))//(B**(n-1)))+55))))\n",
    "            N = N - ((N % B**n))\n",
    "            n += 1\n",
    "Nlist.reverse()\n",
    "sum_Nlist = \"\"\n",
    "for i in range(0, len(Nlist), 1):\n",
    "    sum_Nlist += Nlist[i]\n",
    "print(sum_Nlist)\n"
   ]
  },
  {
   "cell_type": "code",
   "execution_count": 51,
   "metadata": {},
   "outputs": [
    {
     "name": "stdout",
     "output_type": "stream",
     "text": [
      "4 2 0 4\n",
      "1 0 0 0\n",
      "7 1 1 4\n"
     ]
    }
   ],
   "source": [
    "# 백준 2720번\n",
    "T = int(input())\n",
    "for i in range(0, T, 1):\n",
    "    coinlist = [0 for i in range(4)]\n",
    "    C = int(input())\n",
    "    while C != 0:\n",
    "        if C // 25 != 0:\n",
    "            coinlist[0] = C // 25\n",
    "            C -= 25*coinlist[0]\n",
    "        elif C // 10 != 0:\n",
    "            coinlist[1] = C // 10\n",
    "            C -= 10*coinlist[1]\n",
    "        elif C // 5 != 0:\n",
    "            coinlist[2] = C // 5\n",
    "            C -= 5*coinlist[2]\n",
    "        else:\n",
    "            coinlist[3] = C\n",
    "            C -= coinlist[3]\n",
    "    print(*coinlist)"
   ]
  },
  {
   "cell_type": "code",
   "execution_count": 56,
   "metadata": {},
   "outputs": [
    {
     "name": "stdout",
     "output_type": "stream",
     "text": [
      "81\n"
     ]
    }
   ],
   "source": [
    "# 백준 2903번\n",
    "# 초기 상태 점 4개일때는 0번째라고 생각한다.\n",
    "# 안겹치는 점의 수는 (n번째 모든 점의 개수) - (1부터 n-1번째까지의 모든 점의 개수의 합)\n",
    "# 한 변에 있는 점의 개수는 n번째 2+2**0+...+2*n개, ...\n",
    "# 제 1항이 1, 공비가 2인 등비수열의 합을 구하는 공식은\n",
    "# Sn = (a*(r**n-1)) // (r-1)  -> 정수값으로 구한다. (a는 제 1항, r은 공비)\n",
    "N = int(input())\n",
    "dot_count = (2 + (2**N -1))**2\n",
    "print(dot_count)\n"
   ]
  },
  {
   "cell_type": "code",
   "execution_count": 5,
   "metadata": {},
   "outputs": [
    {
     "name": "stdout",
     "output_type": "stream",
     "text": [
      "3\n"
     ]
    }
   ],
   "source": [
    "# 백준 2292번(풀다가 막힘, 일일히 개수 안세고 규칙을 찾을 수 있는 방법이 기억 안남)\n",
    "# 처음에는 1만 있고 이후에 6, 12, 18, ..., 6n개씩 둘러싸인다. -> 이때 중앙에서 최소 거리가 n값\n",
    "# 숫자 k가 (1 + 6씩 증가하는 처음이 6인 n-1번째까지의 등차수열의 합) 보다 크고 (1 + 6씩 증가하는 처음이 6인 n번째까지의 등차수열의 합)보다 작을때\n",
    "# n 값이 중앙에서의 최소거리이다.\n",
    "N = int(input())\n",
    "n = 1\n",
    "while True:\n",
    "    if ((n-1)*(6+6*(n-1)))//2 + 1 < N and N <= (n*(6+6*n))//2 + 1:\n",
    "        print(n+1)\n",
    "        break\n",
    "    elif N == 1:\n",
    "        print(n)\n",
    "        break\n",
    "    else:\n",
    "        n += 1"
   ]
  },
  {
   "cell_type": "code",
   "execution_count": 59,
   "metadata": {},
   "outputs": [
    {
     "name": "stdout",
     "output_type": "stream",
     "text": [
      "999999901\n"
     ]
    }
   ],
   "source": [
    "# 백준 2869번(실패, 결과값은 같으나 시간초과남)\n",
    "# 높이 V미터, 낮에 A미터 올라감, 밤에 B미터 미끄러짐, 정상 도달 후 미끄러지지 않음\n",
    "# A미터 올라갔을때 A >= V 이면 날짜 카운트 하고 종료\n",
    "# A미터 올라갔을때 A < V 이면 B미터 미끄러지고, 날짜 카운트하기\n",
    "A, B, V = map(int, input().split())\n",
    "sum = 0\n",
    "count = 0\n",
    "while sum < V:\n",
    "    if sum + A >= V:\n",
    "        sum += A\n",
    "        count += 1\n",
    "    else:\n",
    "        sum += (A - B)\n",
    "        count += 1\n",
    "print(count)"
   ]
  },
  {
   "cell_type": "code",
   "execution_count": null,
   "metadata": {},
   "outputs": [],
   "source": [
    "# 백준 2869번 코드 간소화했는데 또 시간 초과남\n",
    "A, B, V = map(int, input().split())\n",
    "sum = 0\n",
    "count = 0\n",
    "while True:\n",
    "    if sum + A >= V:\n",
    "        count += 1\n",
    "        break\n",
    "    sum += (A - B)\n",
    "    count += 1\n",
    "print(count)"
   ]
  },
  {
   "cell_type": "code",
   "execution_count": 17,
   "metadata": {},
   "outputs": [
    {
     "name": "stdout",
     "output_type": "stream",
     "text": [
      "99999901\n"
     ]
    }
   ],
   "source": [
    "# 백준 2869번 코드 반복문 없이 풀어보기(정답, 성공)\n",
    "# V == A 일때 1일만에 끝난다.\n",
    "# V != A 일때 V <= n*(A-B) + A 이고 V > n*(A-B)\n",
    "# 이때 몇일인지는 n+1\n",
    "# (V-A) / (A-B) <= n\n",
    "# (V-A) / (A-B) == (V-A) // (A-B)이면 n = (V-A) // (A-B)\n",
    "# (V-A) / (A-B) != (V-A) // (A-B)이면 n = (V-A) // (A-B) + 1\n",
    "# TIP : 구할 값을 변수로 놓고 나머지를 조작해야한다.\n",
    "A, B, V = map(int, input().split())\n",
    "if (V-A) % (A-B) == 0:\n",
    "    n = (V-A) // (A-B)\n",
    "else:\n",
    "    n = (V-A) // (A-B) + 1\n",
    "print(n+1)\n"
   ]
  },
  {
   "cell_type": "code",
   "execution_count": null,
   "metadata": {},
   "outputs": [],
   "source": [
    "# 백준 10757번\n",
    "A, B = map(int, input().split())\n",
    "print(A+B)"
   ]
  },
  {
   "cell_type": "code",
   "execution_count": null,
   "metadata": {},
   "outputs": [],
   "source": [
    "# 백준 27323번\n",
    "A = int(input())\n",
    "B = int(input())\n",
    "print(A*B)"
   ]
  },
  {
   "cell_type": "code",
   "execution_count": 61,
   "metadata": {},
   "outputs": [
    {
     "name": "stdout",
     "output_type": "stream",
     "text": [
      "7 7\n"
     ]
    }
   ],
   "source": [
    "# 백준 3009번\n",
    "x1, y1 = map(int, input().split())\n",
    "x2, y2 = map(int, input().split())\n",
    "x3, y3 = map(int, input().split())\n",
    "if x1 == x2 and x1 != x3:\n",
    "    x4 = x3\n",
    "elif x1 == x3 and x1 != x2:\n",
    "    x4 = x2\n",
    "elif x2 == x3 and x1 != x2:\n",
    "    x4 = x1\n",
    "if y1 == y2 and y1 != y3:\n",
    "    y4 = y3\n",
    "elif y1 == y3 and y1 != y2:\n",
    "    y4 = y2\n",
    "elif y2 == y3 and y1 != y2:\n",
    "    y4 = y1\n",
    "print(x4, y4)"
   ]
  },
  {
   "cell_type": "code",
   "execution_count": 66,
   "metadata": {},
   "outputs": [
    {
     "name": "stdout",
     "output_type": "stream",
     "text": [
      "161\n"
     ]
    }
   ],
   "source": [
    "# 백준 1085번\n",
    "x, y, w, h = map(int, input().split())\n",
    "if h-y <= y:\n",
    "    if w-x <= x:\n",
    "        if w-x <= h-y:\n",
    "            print(w-x)\n",
    "        else:\n",
    "            print(h-y)\n",
    "    else:\n",
    "        if x <= h-y:\n",
    "            print(x)\n",
    "        else:\n",
    "            print(h-y)\n",
    "else:\n",
    "    if w-x <= x:\n",
    "        if w-x <= y:\n",
    "            print(w-x)\n",
    "        else:\n",
    "            print(y)\n",
    "    else:\n",
    "        if x <= y:\n",
    "            print(x)\n",
    "        else:\n",
    "            print(y)"
   ]
  },
  {
   "cell_type": "code",
   "execution_count": 70,
   "metadata": {},
   "outputs": [
    {
     "name": "stdout",
     "output_type": "stream",
     "text": [
      "24\n"
     ]
    }
   ],
   "source": [
    "# 백준 15894번\n",
    "n = int(input())\n",
    "print(4*n)"
   ]
  },
  {
   "cell_type": "code",
   "execution_count": 15,
   "metadata": {},
   "outputs": [
    {
     "name": "stdout",
     "output_type": "stream",
     "text": [
      "9\n"
     ]
    }
   ],
   "source": [
    "# 백준 9063번\n",
    "N = int(input())\n",
    "xylist = [0 for i in range(N)]\n",
    "for i in range(0, N, 1):\n",
    "    x, y = map(int, input().split())\n",
    "    xylist[i] = (x, y)\n",
    "xMax = xylist[0][0]\n",
    "xMin = xylist[0][0]\n",
    "yMax = xylist[0][1]\n",
    "yMin = xylist[0][1]\n",
    "for i in range(0, N, 1):\n",
    "    if xylist[i][0] >= xMax:\n",
    "        xMax = xylist[i][0]\n",
    "    if xylist[i][0] <= xMin:\n",
    "        xMin = xylist[i][0]\n",
    "    if xylist[i][1] >= yMax:\n",
    "        yMax = xylist[i][1]\n",
    "    if xylist[i][1] <= yMin:\n",
    "        yMin = xylist[i][1]\n",
    "width = (xMax - xMin)*(yMax - yMin)\n",
    "print(width)"
   ]
  },
  {
   "cell_type": "code",
   "execution_count": 22,
   "metadata": {},
   "outputs": [
    {
     "name": "stdout",
     "output_type": "stream",
     "text": [
      "Error\n"
     ]
    }
   ],
   "source": [
    "# 백준 10101번\n",
    "angle1 = int(input())\n",
    "angle2 = int(input())\n",
    "angle3 = int(input())\n",
    "if angle1 + angle2 + angle3 == 180:\n",
    "    if angle1 == 60 and angle2 == 60:\n",
    "        print(\"Equilateral\")\n",
    "    elif (angle1 == angle2) or (angle1 == angle3) or (angle2 == angle3):\n",
    "        print(\"Isosceles\")\n",
    "    else:\n",
    "        print(\"Scalene\")\n",
    "else:\n",
    "    print(\"Error\")"
   ]
  },
  {
   "cell_type": "code",
   "execution_count": 5,
   "metadata": {},
   "outputs": [
    {
     "name": "stdout",
     "output_type": "stream",
     "text": [
      "Equilateral\n",
      "Equilateral\n",
      "Scalene\n",
      "invalid\n",
      "Isosceles\n"
     ]
    }
   ],
   "source": [
    "# 백준 5073번\n",
    "while True:\n",
    "    line1, line2, line3 = map(int, input().split())\n",
    "    if line1 + line2 + line3 == 0:\n",
    "        break\n",
    "    elif (line1 + line2 <= line3) or (line1 + line3 <= line2) or (line2 + line3 <= line1):\n",
    "        print(\"Invalid\")\n",
    "    elif line1 == line2 and line1 == line3:\n",
    "        print(\"Equilateral\")\n",
    "    elif (line1 == line2) or (line1 == line3) or (line2 == line3):\n",
    "        print(\"Isosceles\")\n",
    "    else:\n",
    "        print(\"Scalene\")"
   ]
  },
  {
   "cell_type": "code",
   "execution_count": 2,
   "metadata": {},
   "outputs": [
    {
     "name": "stdout",
     "output_type": "stream",
     "text": [
      "6\n"
     ]
    }
   ],
   "source": [
    "# 백준 14215번(실패, 출력초과, 수정하다 막힘)\n",
    "# 각 변 a, b, c를 입력받는다.\n",
    "# 세 변 중에 (가장 긴 변의 길이) < (나머지 두 변의 길이의 합) 이어야 삼각형이 만들어진다.\n",
    "# 가장 긴변의 길이가 나머지 두변의 길이의 합 -1 만큼 줄어들면 되므로\n",
    "# 삼각형 둘레의 최댓값은 (나머지 두변의 길이의 합)*2 -1 이다\n",
    "# 예외로 모든 변의 길이가 같은 정삼각형은 각변의 길이를 모두 더해야한다.\n",
    "# 이등변 삼각형의 경우 같은 두변의 길이가 최댓값이면 각 변의 길이를 모두 더한다.\n",
    "# 이등병 삼각형의 경우 다른 변의 길이가 최댓값이면 같은 두변의 길이의 합보다 작으면 모두 더한다.\n",
    "a, b, c = map(int,input().split())\n",
    "lenMax = a\n",
    "sum = 0\n",
    "if b >= lenMax:\n",
    "    lenMax = b\n",
    "if c >= lenMax:\n",
    "    lenMax = c\n",
    "while a != b or a != c or b != c:\n",
    "    if a == lenMax:\n",
    "        \n",
    "    elif b == lenMax:\n",
    "    else:    \n",
    "    if lenMax >= a+b+c -lenMax:\n",
    "        lenMax -= 1\n",
    "    else:\n",
    "        if a = len\n",
    "        sum = a+b+c\n",
    "        break\n",
    "print(sum)"
   ]
  },
  {
   "cell_type": "code",
   "execution_count": 5,
   "metadata": {},
   "outputs": [
    {
     "name": "stdout",
     "output_type": "stream",
     "text": [
      "3\n"
     ]
    }
   ],
   "source": [
    "# 백준 14215번(코드 계획)\n",
    "# 각 변 a, b, c를 입력받는다.\n",
    "# a, b, c는 자유롭게 길이를 줄일 수 있지만 늘릴 수는 없다.\n",
    "# a, b, c중 가장 긴 변의 길이가 나머지 두변의 길이의 합보다 작아야 삼각형이 만들어진다.\n",
    "# a + b + c가 최대가 되는 삼각형이 되도록 해야한다. a+b+c의 최댓값을 lensum 라고 하고 가장 긴 변의 길이를 lenmax라고 하자.\n",
    "# a = b = c 이면 정삼각형으로 a+b+c = lensum\n",
    "\n",
    "# 이등변 삼각형이면 가장 긴변의 길이가 혼자 다른 길이일 경우 (가장 긴 변의 길이) >= 길이가 같은 두변의 합일때\n",
    "# 가장 긴변의 길이 = 길이가 같은 두변의 합 -1 이 될때까지 가장 긴변의 길이를 줄이고 a+b+c = lensum이다.\n",
    "\n",
    "# 이등변 삼각형이면 가장 긴변의 길이를 가진 변이 2개일때 a+b+c = lensum이다.\n",
    "\n",
    "# 모든 변이 서로 길이가 다르면 (가장 긴변의 길이) >= 길이가 같은 두변의 합일때\n",
    "# 가장 긴변의 길이 = 나머지 두변의 길이의 합 -1이 될때까지 가장 긴변의 길이를 줄이고 a+b+c = lensum이다.\n",
    "\n",
    "# 모든 변이 서로 길이가 다르면 (가장 긴변의 길이) < 길이가 같은 두변의 합일때 a+b+c = lensum이다.\n",
    "\n",
    "abclist = list(map(int, input().split()))\n",
    "abclist.sort()\n",
    "lensum = 0\n",
    "a = abclist[0]\n",
    "b = abclist[1]\n",
    "c = abclist[2]\n",
    "if a == b and a == c:\n",
    "    lensum = a+b+c\n",
    "elif a == b or a == c or b == c:\n",
    "    if c >= a+b:\n",
    "        c -= (c-(a+b)+1)\n",
    "    lensum = a+b+c\n",
    "else:\n",
    "    if c >= a+b:\n",
    "        c -= (c-(a+b)+1)\n",
    "    lensum = a+b+c\n",
    "print(lensum)\n"
   ]
  },
  {
   "cell_type": "code",
   "execution_count": 32,
   "metadata": {},
   "outputs": [
    {
     "name": "stdout",
     "output_type": "stream",
     "text": [
      "4/1\n"
     ]
    }
   ],
   "source": [
    "# 백준 1193번\n",
    "# 분자, 분모를 통틀어서 큰 수가 대각선의 길이와 같다\n",
    "# 또한 1부터 n번째까지의 대각선의 길이는 1, 2, 3, 4, 5, ..., n으로 등차가 1인 등차수열이다.\n",
    "# 분자는 n번째 대각선의 첫번째 항이 홀수열(0또는 짝수인덱스)일때 1부터 그 홀수값만큼 1씩 증가한다.\n",
    "# 분모는 n번째 대각선의 첫번째 항이 홀수열(0또는 짝수인덱스)일때 그 홀수값부터 1까지 1씩 감소한다.\n",
    "\n",
    "# 분자는 n번째 대각선의 첫번째 항이 짝수행(홀수인덱스)일때 그 짝수값부터 1까지 1씩 감소한다.\n",
    "# 분모는 n번째 대각선의 첫번째 항이 짝수행(홀수인덱스)일때 1부터 그 짝수값만큼 1씩 증가한다.\n",
    "\n",
    "# 분자가 1이면 분모가 1이 증가하고, 분모가 1이면 분자가 1이 증가한다.\n",
    "'''1/1\n",
    "1/2  2/1\n",
    "3/1  2/2  1/3\n",
    "1/4  2/3  3/2  4/1\n",
    "1/5  2/4  3/3  4/2  5/1'''\n",
    "\n",
    "# 등차수열의 값을 첫번째항부터 n번째 항까지 X값에서 반복해서 빼다가\n",
    "# 등차 수열의 n번째 항을 뺄때 값이 0이면 대각선 그 줄에 마지막꺼가 답이다.\n",
    "# 0보다 작으면 대각선 그 다음줄에서 그 음수의 절대값만큼 더 진행해서 나온 것이 답이다.\n",
    "\n",
    "X = int(input())\n",
    "n = 1\n",
    "num = 1\n",
    "while X - n*(1+n)/2 > 0:\n",
    "    n += 1\n",
    "if X - n*(1+n)/2 == 0:\n",
    "    if n % 2 != 0:\n",
    "        print(\"%d/%d\" % (1, n))\n",
    "    else:\n",
    "        print(\"%d/%d\" % (n, 1))\n",
    "elif X - n*(1+n)/2 < 0:\n",
    "    num = n*(1+n)/2 - X\n",
    "    if n % 2 != 0:\n",
    "        print(\"%d/%d\" % (num+1, n-num))\n",
    "    else:\n",
    "        print(\"%d/%d\" % (n-num, num+1))"
   ]
  },
  {
   "cell_type": "code",
   "execution_count": 2,
   "metadata": {},
   "outputs": [
    {
     "name": "stdout",
     "output_type": "stream",
     "text": [
      "right\n",
      "wrong\n",
      "right\n"
     ]
    }
   ],
   "source": [
    "# 백준 4153번\n",
    "while True:\n",
    "    abclist = list(map(int, input().split()))\n",
    "    abclist.sort()\n",
    "    if abclist[0] == 0:\n",
    "        break\n",
    "    if abclist[2]**2 == abclist[0]**2 + abclist[1]**2:\n",
    "        print('right')\n",
    "    else:\n",
    "        print('wrong')"
   ]
  },
  {
   "cell_type": "code",
   "execution_count": null,
   "metadata": {},
   "outputs": [],
   "source": [
    "# 백준 2231번(풀다가 막힘)\n",
    "# 생성자가 없는 경우에는 0을 출력한다.\n",
    "N = input()\n",
    "# 생성자 M의 분해합이 N\n",
    "# N = M + (M의 각 자리수 숫자의 합)\n",
    "# N의 1의 자리는 ( (M의 1의자리) + (M의 각 자리수 숫자의 합) ) % 10의 값\n",
    "# N[len(N)-1] = (M[len(M-1)] + M[0] + M[1] + ... + M[len(M)-1]) % 10\n",
    "# N의 1의자리는 N % 10의 값, 10의 자리는 (N % 100 - N % 10) // 10의 값, ... N의 k의 자리는 (N % 10**k - N % 10**(k-1)) // 10**(k-1)\n",
    "# N의 가장 높은 자리 수는 M의 값이 몇이든(각 자리수가 9로만 구성되어 있어도) 증가하지 않거나 최대 1만 올라간다.\n",
    "# N의 두번째로 높은 자리 수는 M의 값이 몇이든 증가하지 않거나 최대 2까지만 올라간다.(9였으면 1이 되는 식)\n",
    "# 가장 다이나믹하게 변화하는 것은 1의 자리이다.\n"
   ]
  },
  {
   "cell_type": "code",
   "execution_count": 6,
   "metadata": {},
   "outputs": [
    {
     "name": "stdout",
     "output_type": "stream",
     "text": [
      "18\n"
     ]
    }
   ],
   "source": [
    "# 백준 2798번(풀다가 막힘)\n",
    "# 카드의 개수 N장, 가까이 맞춰야 되는 숫자 M\n",
    "# 오름차순으로 정렬 후 낮은 순서대로 더해서 최대한 M에 가까워지도록 만든다.\n",
    "# 문제 발생! 높은 수와 낮은 수를 섞어서 사용해서 정확히 M이 되게 만들수가 있음.\n",
    "N, M = map(int, input().split())\n",
    "Nlist = list(map(int, input().split()))\n",
    "Nlist.sort()\n",
    "sum = 0\n",
    "for i in range(0, len(Nlist), 1):\n",
    "    sum += Nlist[i]\n",
    "    if sum > M:\n",
    "        sum -= Nlist[i]\n",
    "        print(sum)\n",
    "        break"
   ]
  },
  {
   "cell_type": "code",
   "execution_count": 13,
   "metadata": {},
   "outputs": [
    {
     "name": "stdout",
     "output_type": "stream",
     "text": [
      "1\n",
      "6\n"
     ]
    }
   ],
   "source": [
    "# 백준 2609번\n",
    "# 두 개의 자연수가 주어진다.\n",
    "# 최대공약수는 두 수 a, b를 각각 소인수 분해해서 소인수를 리스트 alist, blist로 만들어서 alist[0] in blist 이면 print(alist[0])을 하고 break\n",
    "# not in이면 alist의 인덱스 값을 1 증가시키면서 반복시키려고 했는데 이러면 최소공약수네 야발\n",
    "\n",
    "# 두 수를 list로 입력받고 sort함수를 통해 오름차순으로 정렬해서 a가 작은수, b가 큰수가 되게 한다.\n",
    "# 두 수 a, b를 1도 약수가 될 수 있으니까 1부터 시작해서 1씩 증가하고 a보다 작거나 같을때까지만 증가하는 i 값으로 나눌때\n",
    "# 두 수 모두 나머지가 0이 되면 그 i 값이 measure_list 에 순서대로 append되고\n",
    "# 그러면 measure_list의 맨 마지막 인덱스인 measure_list[len(measure_list)-1]이 최대공약수가 된다.\n",
    "# 최소공배수는 1부터 시작해서 1씩 증가하는 j 값이 있을때 (a*j) % b = 0 이 되는 순간 break로 멈추고 a*j 값을 찾는다. 그 값이 최소공배수가 된다.\n",
    "\n",
    "ablist = list(map(int, input().split()))\n",
    "ablist.sort()\n",
    "measure_list = []\n",
    "a = ablist[0]\n",
    "b = ablist[1]\n",
    "for i in range(1, a+1, 1):\n",
    "    if a % i == 0 and b % i == 0:\n",
    "        measure_list.append(i)\n",
    "max_measure = measure_list[len(measure_list)-1]\n",
    "j = 1\n",
    "while True:\n",
    "    if (a*j) % b == 0:\n",
    "        min_multiple = a*j\n",
    "        break\n",
    "    else:\n",
    "        j += 1\n",
    "print(max_measure)\n",
    "print(min_multiple)"
   ]
  },
  {
   "cell_type": "code",
   "execution_count": 6,
   "metadata": {},
   "outputs": [
    {
     "ename": "IndexError",
     "evalue": "list assignment index out of range",
     "output_type": "error",
     "traceback": [
      "\u001b[1;31m---------------------------------------------------------------------------\u001b[0m",
      "\u001b[1;31mIndexError\u001b[0m                                Traceback (most recent call last)",
      "Cell \u001b[1;32mIn[6], line 5\u001b[0m\n\u001b[0;32m      3\u001b[0m Nlist \u001b[39m=\u001b[39m []\n\u001b[0;32m      4\u001b[0m \u001b[39mfor\u001b[39;00m i \u001b[39min\u001b[39;00m \u001b[39mrange\u001b[39m(\u001b[39m0\u001b[39m, N, \u001b[39m1\u001b[39m):\n\u001b[1;32m----> 5\u001b[0m     Nlist[i] \u001b[39m=\u001b[39m [\u001b[39mint\u001b[39m(\u001b[39minput\u001b[39m())]\n\u001b[0;32m      6\u001b[0m Nlist\u001b[39m.\u001b[39msort()\n\u001b[0;32m      7\u001b[0m \u001b[39mfor\u001b[39;00m i \u001b[39min\u001b[39;00m \u001b[39mrange\u001b[39m(\u001b[39m0\u001b[39m, N, \u001b[39m1\u001b[39m):\n",
      "\u001b[1;31mIndexError\u001b[0m: list assignment index out of range"
     ]
    }
   ],
   "source": [
    "# 백준 10989번(실패, 메모리 초과)\n",
    "N = int(input())\n",
    "Nlist = []\n",
    "for i in range(0, N, 1):\n",
    "    Nlist.append(int(input()))\n",
    "Nlist.sort()\n",
    "for i in range(0, N, 1):\n",
    "    print(Nlist[i])"
   ]
  },
  {
   "cell_type": "code",
   "execution_count": 5,
   "metadata": {},
   "outputs": [
    {
     "name": "stdout",
     "output_type": "stream",
     "text": [
      "yes\n",
      "no\n",
      "yes\n",
      "no\n",
      "no\n",
      "yes\n"
     ]
    }
   ],
   "source": [
    "# 백준 1259번\n",
    "while True:\n",
    "    N = int(input())\n",
    "    if N == 0:\n",
    "        break\n",
    "    count = 0\n",
    "    N = str(N)\n",
    "    for i in range(0, len(N), 1):\n",
    "        if N[i] != N[len(N)-1-i]:\n",
    "            print('no')\n",
    "            count += 1\n",
    "            break\n",
    "    if count == 0:\n",
    "        print('yes')\n",
    "        \n"
   ]
  },
  {
   "cell_type": "code",
   "execution_count": null,
   "metadata": {},
   "outputs": [],
   "source": []
  }
 ],
 "metadata": {
  "kernelspec": {
   "display_name": "Python 3",
   "language": "python",
   "name": "python3"
  },
  "language_info": {
   "codemirror_mode": {
    "name": "ipython",
    "version": 3
   },
   "file_extension": ".py",
   "mimetype": "text/x-python",
   "name": "python",
   "nbconvert_exporter": "python",
   "pygments_lexer": "ipython3",
   "version": "3.11.4"
  },
  "orig_nbformat": 4
 },
 "nbformat": 4,
 "nbformat_minor": 2
}
